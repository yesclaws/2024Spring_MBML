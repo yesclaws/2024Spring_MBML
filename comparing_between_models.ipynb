{
  "cells": [
    {
      "cell_type": "markdown",
      "metadata": {
        "id": "anPNNDSEHZ6w"
      },
      "source": [
        "# 01. Setup"
      ]
    },
    {
      "cell_type": "markdown",
      "metadata": {
        "id": "eugXgm6tIJ4g"
      },
      "source": [
        "## 01.01. Install Packages & Prerequisites"
      ]
    },
    {
      "cell_type": "code",
      "execution_count": 4,
      "metadata": {
        "colab": {
          "base_uri": "https://localhost:8080/"
        },
        "id": "d8M7EXq08Ce7",
        "outputId": "9d3fe700-646e-4439-bb16-305d07e431e1"
      },
      "outputs": [
        {
          "name": "stdout",
          "output_type": "stream",
          "text": [
            "Requirement already satisfied: pyro-ppl in /usr/local/lib/python3.10/dist-packages (1.9.0)\n",
            "Requirement already satisfied: numpy>=1.7 in /usr/local/lib/python3.10/dist-packages (from pyro-ppl) (1.25.2)\n",
            "Requirement already satisfied: opt-einsum>=2.3.2 in /usr/local/lib/python3.10/dist-packages (from pyro-ppl) (3.3.0)\n",
            "Requirement already satisfied: pyro-api>=0.1.1 in /usr/local/lib/python3.10/dist-packages (from pyro-ppl) (0.1.2)\n",
            "Requirement already satisfied: torch>=2.0 in /usr/local/lib/python3.10/dist-packages (from pyro-ppl) (2.3.0+cu121)\n",
            "Requirement already satisfied: tqdm>=4.36 in /usr/local/lib/python3.10/dist-packages (from pyro-ppl) (4.66.4)\n",
            "Requirement already satisfied: filelock in /usr/local/lib/python3.10/dist-packages (from torch>=2.0->pyro-ppl) (3.14.0)\n",
            "Requirement already satisfied: typing-extensions>=4.8.0 in /usr/local/lib/python3.10/dist-packages (from torch>=2.0->pyro-ppl) (4.11.0)\n",
            "Requirement already satisfied: sympy in /usr/local/lib/python3.10/dist-packages (from torch>=2.0->pyro-ppl) (1.12)\n",
            "Requirement already satisfied: networkx in /usr/local/lib/python3.10/dist-packages (from torch>=2.0->pyro-ppl) (3.3)\n",
            "Requirement already satisfied: jinja2 in /usr/local/lib/python3.10/dist-packages (from torch>=2.0->pyro-ppl) (3.1.4)\n",
            "Requirement already satisfied: fsspec in /usr/local/lib/python3.10/dist-packages (from torch>=2.0->pyro-ppl) (2023.6.0)\n",
            "Requirement already satisfied: nvidia-cuda-nvrtc-cu12==12.1.105 in /usr/local/lib/python3.10/dist-packages (from torch>=2.0->pyro-ppl) (12.1.105)\n",
            "Requirement already satisfied: nvidia-cuda-runtime-cu12==12.1.105 in /usr/local/lib/python3.10/dist-packages (from torch>=2.0->pyro-ppl) (12.1.105)\n",
            "Requirement already satisfied: nvidia-cuda-cupti-cu12==12.1.105 in /usr/local/lib/python3.10/dist-packages (from torch>=2.0->pyro-ppl) (12.1.105)\n",
            "Requirement already satisfied: nvidia-cudnn-cu12==8.9.2.26 in /usr/local/lib/python3.10/dist-packages (from torch>=2.0->pyro-ppl) (8.9.2.26)\n",
            "Requirement already satisfied: nvidia-cublas-cu12==12.1.3.1 in /usr/local/lib/python3.10/dist-packages (from torch>=2.0->pyro-ppl) (12.1.3.1)\n",
            "Requirement already satisfied: nvidia-cufft-cu12==11.0.2.54 in /usr/local/lib/python3.10/dist-packages (from torch>=2.0->pyro-ppl) (11.0.2.54)\n",
            "Requirement already satisfied: nvidia-curand-cu12==10.3.2.106 in /usr/local/lib/python3.10/dist-packages (from torch>=2.0->pyro-ppl) (10.3.2.106)\n",
            "Requirement already satisfied: nvidia-cusolver-cu12==11.4.5.107 in /usr/local/lib/python3.10/dist-packages (from torch>=2.0->pyro-ppl) (11.4.5.107)\n",
            "Requirement already satisfied: nvidia-cusparse-cu12==12.1.0.106 in /usr/local/lib/python3.10/dist-packages (from torch>=2.0->pyro-ppl) (12.1.0.106)\n",
            "Requirement already satisfied: nvidia-nccl-cu12==2.20.5 in /usr/local/lib/python3.10/dist-packages (from torch>=2.0->pyro-ppl) (2.20.5)\n",
            "Requirement already satisfied: nvidia-nvtx-cu12==12.1.105 in /usr/local/lib/python3.10/dist-packages (from torch>=2.0->pyro-ppl) (12.1.105)\n",
            "Requirement already satisfied: triton==2.3.0 in /usr/local/lib/python3.10/dist-packages (from torch>=2.0->pyro-ppl) (2.3.0)\n",
            "Requirement already satisfied: nvidia-nvjitlink-cu12 in /usr/local/lib/python3.10/dist-packages (from nvidia-cusolver-cu12==11.4.5.107->torch>=2.0->pyro-ppl) (12.5.40)\n",
            "Requirement already satisfied: MarkupSafe>=2.0 in /usr/local/lib/python3.10/dist-packages (from jinja2->torch>=2.0->pyro-ppl) (2.1.5)\n",
            "Requirement already satisfied: mpmath>=0.19 in /usr/local/lib/python3.10/dist-packages (from sympy->torch>=2.0->pyro-ppl) (1.3.0)\n",
            "Requirement already satisfied: pyldavis in /usr/local/lib/python3.10/dist-packages (3.4.1)\n",
            "Requirement already satisfied: numpy>=1.24.2 in /usr/local/lib/python3.10/dist-packages (from pyldavis) (1.25.2)\n",
            "Requirement already satisfied: scipy in /usr/local/lib/python3.10/dist-packages (from pyldavis) (1.11.4)\n",
            "Requirement already satisfied: pandas>=2.0.0 in /usr/local/lib/python3.10/dist-packages (from pyldavis) (2.0.3)\n",
            "Requirement already satisfied: joblib>=1.2.0 in /usr/local/lib/python3.10/dist-packages (from pyldavis) (1.4.2)\n",
            "Requirement already satisfied: jinja2 in /usr/local/lib/python3.10/dist-packages (from pyldavis) (3.1.4)\n",
            "Requirement already satisfied: numexpr in /usr/local/lib/python3.10/dist-packages (from pyldavis) (2.10.0)\n",
            "Requirement already satisfied: funcy in /usr/local/lib/python3.10/dist-packages (from pyldavis) (2.0)\n",
            "Requirement already satisfied: scikit-learn>=1.0.0 in /usr/local/lib/python3.10/dist-packages (from pyldavis) (1.2.2)\n",
            "Requirement already satisfied: gensim in /usr/local/lib/python3.10/dist-packages (from pyldavis) (4.3.2)\n",
            "Requirement already satisfied: setuptools in /usr/local/lib/python3.10/dist-packages (from pyldavis) (67.7.2)\n",
            "Requirement already satisfied: python-dateutil>=2.8.2 in /usr/local/lib/python3.10/dist-packages (from pandas>=2.0.0->pyldavis) (2.8.2)\n",
            "Requirement already satisfied: pytz>=2020.1 in /usr/local/lib/python3.10/dist-packages (from pandas>=2.0.0->pyldavis) (2023.4)\n",
            "Requirement already satisfied: tzdata>=2022.1 in /usr/local/lib/python3.10/dist-packages (from pandas>=2.0.0->pyldavis) (2024.1)\n",
            "Requirement already satisfied: threadpoolctl>=2.0.0 in /usr/local/lib/python3.10/dist-packages (from scikit-learn>=1.0.0->pyldavis) (3.5.0)\n",
            "Requirement already satisfied: smart-open>=1.8.1 in /usr/local/lib/python3.10/dist-packages (from gensim->pyldavis) (6.4.0)\n",
            "Requirement already satisfied: MarkupSafe>=2.0 in /usr/local/lib/python3.10/dist-packages (from jinja2->pyldavis) (2.1.5)\n",
            "Requirement already satisfied: six>=1.5 in /usr/local/lib/python3.10/dist-packages (from python-dateutil>=2.8.2->pandas>=2.0.0->pyldavis) (1.16.0)\n",
            "Requirement already satisfied: seaborn in /usr/local/lib/python3.10/dist-packages (0.13.1)\n",
            "Requirement already satisfied: numpy!=1.24.0,>=1.20 in /usr/local/lib/python3.10/dist-packages (from seaborn) (1.25.2)\n",
            "Requirement already satisfied: pandas>=1.2 in /usr/local/lib/python3.10/dist-packages (from seaborn) (2.0.3)\n",
            "Requirement already satisfied: matplotlib!=3.6.1,>=3.4 in /usr/local/lib/python3.10/dist-packages (from seaborn) (3.7.1)\n",
            "Requirement already satisfied: contourpy>=1.0.1 in /usr/local/lib/python3.10/dist-packages (from matplotlib!=3.6.1,>=3.4->seaborn) (1.2.1)\n",
            "Requirement already satisfied: cycler>=0.10 in /usr/local/lib/python3.10/dist-packages (from matplotlib!=3.6.1,>=3.4->seaborn) (0.12.1)\n",
            "Requirement already satisfied: fonttools>=4.22.0 in /usr/local/lib/python3.10/dist-packages (from matplotlib!=3.6.1,>=3.4->seaborn) (4.51.0)\n",
            "Requirement already satisfied: kiwisolver>=1.0.1 in /usr/local/lib/python3.10/dist-packages (from matplotlib!=3.6.1,>=3.4->seaborn) (1.4.5)\n",
            "Requirement already satisfied: packaging>=20.0 in /usr/local/lib/python3.10/dist-packages (from matplotlib!=3.6.1,>=3.4->seaborn) (24.0)\n",
            "Requirement already satisfied: pillow>=6.2.0 in /usr/local/lib/python3.10/dist-packages (from matplotlib!=3.6.1,>=3.4->seaborn) (9.4.0)\n",
            "Requirement already satisfied: pyparsing>=2.3.1 in /usr/local/lib/python3.10/dist-packages (from matplotlib!=3.6.1,>=3.4->seaborn) (3.1.2)\n",
            "Requirement already satisfied: python-dateutil>=2.7 in /usr/local/lib/python3.10/dist-packages (from matplotlib!=3.6.1,>=3.4->seaborn) (2.8.2)\n",
            "Requirement already satisfied: pytz>=2020.1 in /usr/local/lib/python3.10/dist-packages (from pandas>=1.2->seaborn) (2023.4)\n",
            "Requirement already satisfied: tzdata>=2022.1 in /usr/local/lib/python3.10/dist-packages (from pandas>=1.2->seaborn) (2024.1)\n",
            "Requirement already satisfied: six>=1.5 in /usr/local/lib/python3.10/dist-packages (from python-dateutil>=2.7->matplotlib!=3.6.1,>=3.4->seaborn) (1.16.0)\n",
            "Requirement already satisfied: nltk in /usr/local/lib/python3.10/dist-packages (3.8.1)\n",
            "Requirement already satisfied: click in /usr/local/lib/python3.10/dist-packages (from nltk) (8.1.7)\n",
            "Requirement already satisfied: joblib in /usr/local/lib/python3.10/dist-packages (from nltk) (1.4.2)\n",
            "Requirement already satisfied: regex>=2021.8.3 in /usr/local/lib/python3.10/dist-packages (from nltk) (2024.5.15)\n",
            "Requirement already satisfied: tqdm in /usr/local/lib/python3.10/dist-packages (from nltk) (4.66.4)\n",
            "Requirement already satisfied: spacy in /usr/local/lib/python3.10/dist-packages (3.7.4)\n",
            "Requirement already satisfied: spacy-legacy<3.1.0,>=3.0.11 in /usr/local/lib/python3.10/dist-packages (from spacy) (3.0.12)\n",
            "Requirement already satisfied: spacy-loggers<2.0.0,>=1.0.0 in /usr/local/lib/python3.10/dist-packages (from spacy) (1.0.5)\n",
            "Requirement already satisfied: murmurhash<1.1.0,>=0.28.0 in /usr/local/lib/python3.10/dist-packages (from spacy) (1.0.10)\n",
            "Requirement already satisfied: cymem<2.1.0,>=2.0.2 in /usr/local/lib/python3.10/dist-packages (from spacy) (2.0.8)\n",
            "Requirement already satisfied: preshed<3.1.0,>=3.0.2 in /usr/local/lib/python3.10/dist-packages (from spacy) (3.0.9)\n",
            "Requirement already satisfied: thinc<8.3.0,>=8.2.2 in /usr/local/lib/python3.10/dist-packages (from spacy) (8.2.3)\n",
            "Requirement already satisfied: wasabi<1.2.0,>=0.9.1 in /usr/local/lib/python3.10/dist-packages (from spacy) (1.1.2)\n",
            "Requirement already satisfied: srsly<3.0.0,>=2.4.3 in /usr/local/lib/python3.10/dist-packages (from spacy) (2.4.8)\n",
            "Requirement already satisfied: catalogue<2.1.0,>=2.0.6 in /usr/local/lib/python3.10/dist-packages (from spacy) (2.0.10)\n",
            "Requirement already satisfied: weasel<0.4.0,>=0.1.0 in /usr/local/lib/python3.10/dist-packages (from spacy) (0.3.4)\n",
            "Requirement already satisfied: typer<0.10.0,>=0.3.0 in /usr/local/lib/python3.10/dist-packages (from spacy) (0.9.4)\n",
            "Requirement already satisfied: smart-open<7.0.0,>=5.2.1 in /usr/local/lib/python3.10/dist-packages (from spacy) (6.4.0)\n",
            "Requirement already satisfied: tqdm<5.0.0,>=4.38.0 in /usr/local/lib/python3.10/dist-packages (from spacy) (4.66.4)\n",
            "Requirement already satisfied: requests<3.0.0,>=2.13.0 in /usr/local/lib/python3.10/dist-packages (from spacy) (2.31.0)\n",
            "Requirement already satisfied: pydantic!=1.8,!=1.8.1,<3.0.0,>=1.7.4 in /usr/local/lib/python3.10/dist-packages (from spacy) (2.7.1)\n",
            "Requirement already satisfied: jinja2 in /usr/local/lib/python3.10/dist-packages (from spacy) (3.1.4)\n",
            "Requirement already satisfied: setuptools in /usr/local/lib/python3.10/dist-packages (from spacy) (67.7.2)\n",
            "Requirement already satisfied: packaging>=20.0 in /usr/local/lib/python3.10/dist-packages (from spacy) (24.0)\n",
            "Requirement already satisfied: langcodes<4.0.0,>=3.2.0 in /usr/local/lib/python3.10/dist-packages (from spacy) (3.4.0)\n",
            "Requirement already satisfied: numpy>=1.19.0 in /usr/local/lib/python3.10/dist-packages (from spacy) (1.25.2)\n",
            "Requirement already satisfied: language-data>=1.2 in /usr/local/lib/python3.10/dist-packages (from langcodes<4.0.0,>=3.2.0->spacy) (1.2.0)\n",
            "Requirement already satisfied: annotated-types>=0.4.0 in /usr/local/lib/python3.10/dist-packages (from pydantic!=1.8,!=1.8.1,<3.0.0,>=1.7.4->spacy) (0.7.0)\n",
            "Requirement already satisfied: pydantic-core==2.18.2 in /usr/local/lib/python3.10/dist-packages (from pydantic!=1.8,!=1.8.1,<3.0.0,>=1.7.4->spacy) (2.18.2)\n",
            "Requirement already satisfied: typing-extensions>=4.6.1 in /usr/local/lib/python3.10/dist-packages (from pydantic!=1.8,!=1.8.1,<3.0.0,>=1.7.4->spacy) (4.11.0)\n",
            "Requirement already satisfied: charset-normalizer<4,>=2 in /usr/local/lib/python3.10/dist-packages (from requests<3.0.0,>=2.13.0->spacy) (3.3.2)\n",
            "Requirement already satisfied: idna<4,>=2.5 in /usr/local/lib/python3.10/dist-packages (from requests<3.0.0,>=2.13.0->spacy) (3.7)\n",
            "Requirement already satisfied: urllib3<3,>=1.21.1 in /usr/local/lib/python3.10/dist-packages (from requests<3.0.0,>=2.13.0->spacy) (2.0.7)\n",
            "Requirement already satisfied: certifi>=2017.4.17 in /usr/local/lib/python3.10/dist-packages (from requests<3.0.0,>=2.13.0->spacy) (2024.2.2)\n",
            "Requirement already satisfied: blis<0.8.0,>=0.7.8 in /usr/local/lib/python3.10/dist-packages (from thinc<8.3.0,>=8.2.2->spacy) (0.7.11)\n",
            "Requirement already satisfied: confection<1.0.0,>=0.0.1 in /usr/local/lib/python3.10/dist-packages (from thinc<8.3.0,>=8.2.2->spacy) (0.1.4)\n",
            "Requirement already satisfied: click<9.0.0,>=7.1.1 in /usr/local/lib/python3.10/dist-packages (from typer<0.10.0,>=0.3.0->spacy) (8.1.7)\n",
            "Requirement already satisfied: cloudpathlib<0.17.0,>=0.7.0 in /usr/local/lib/python3.10/dist-packages (from weasel<0.4.0,>=0.1.0->spacy) (0.16.0)\n",
            "Requirement already satisfied: MarkupSafe>=2.0 in /usr/local/lib/python3.10/dist-packages (from jinja2->spacy) (2.1.5)\n",
            "Requirement already satisfied: marisa-trie>=0.7.7 in /usr/local/lib/python3.10/dist-packages (from language-data>=1.2->langcodes<4.0.0,>=3.2.0->spacy) (1.1.1)\n",
            "Collecting en-core-web-sm==3.7.1\n",
            "  Downloading https://github.com/explosion/spacy-models/releases/download/en_core_web_sm-3.7.1/en_core_web_sm-3.7.1-py3-none-any.whl (12.8 MB)\n",
            "\u001b[2K     \u001b[90m━━━━━━━━━━━━━━━━━━━━━━━━━━━━━━━━━━━━━━━━\u001b[0m \u001b[32m12.8/12.8 MB\u001b[0m \u001b[31m28.0 MB/s\u001b[0m eta \u001b[36m0:00:00\u001b[0m\n",
            "\u001b[?25hRequirement already satisfied: spacy<3.8.0,>=3.7.2 in /usr/local/lib/python3.10/dist-packages (from en-core-web-sm==3.7.1) (3.7.4)\n",
            "Requirement already satisfied: spacy-legacy<3.1.0,>=3.0.11 in /usr/local/lib/python3.10/dist-packages (from spacy<3.8.0,>=3.7.2->en-core-web-sm==3.7.1) (3.0.12)\n",
            "Requirement already satisfied: spacy-loggers<2.0.0,>=1.0.0 in /usr/local/lib/python3.10/dist-packages (from spacy<3.8.0,>=3.7.2->en-core-web-sm==3.7.1) (1.0.5)\n",
            "Requirement already satisfied: murmurhash<1.1.0,>=0.28.0 in /usr/local/lib/python3.10/dist-packages (from spacy<3.8.0,>=3.7.2->en-core-web-sm==3.7.1) (1.0.10)\n",
            "Requirement already satisfied: cymem<2.1.0,>=2.0.2 in /usr/local/lib/python3.10/dist-packages (from spacy<3.8.0,>=3.7.2->en-core-web-sm==3.7.1) (2.0.8)\n",
            "Requirement already satisfied: preshed<3.1.0,>=3.0.2 in /usr/local/lib/python3.10/dist-packages (from spacy<3.8.0,>=3.7.2->en-core-web-sm==3.7.1) (3.0.9)\n",
            "Requirement already satisfied: thinc<8.3.0,>=8.2.2 in /usr/local/lib/python3.10/dist-packages (from spacy<3.8.0,>=3.7.2->en-core-web-sm==3.7.1) (8.2.3)\n",
            "Requirement already satisfied: wasabi<1.2.0,>=0.9.1 in /usr/local/lib/python3.10/dist-packages (from spacy<3.8.0,>=3.7.2->en-core-web-sm==3.7.1) (1.1.2)\n",
            "Requirement already satisfied: srsly<3.0.0,>=2.4.3 in /usr/local/lib/python3.10/dist-packages (from spacy<3.8.0,>=3.7.2->en-core-web-sm==3.7.1) (2.4.8)\n",
            "Requirement already satisfied: catalogue<2.1.0,>=2.0.6 in /usr/local/lib/python3.10/dist-packages (from spacy<3.8.0,>=3.7.2->en-core-web-sm==3.7.1) (2.0.10)\n",
            "Requirement already satisfied: weasel<0.4.0,>=0.1.0 in /usr/local/lib/python3.10/dist-packages (from spacy<3.8.0,>=3.7.2->en-core-web-sm==3.7.1) (0.3.4)\n",
            "Requirement already satisfied: typer<0.10.0,>=0.3.0 in /usr/local/lib/python3.10/dist-packages (from spacy<3.8.0,>=3.7.2->en-core-web-sm==3.7.1) (0.9.4)\n",
            "Requirement already satisfied: smart-open<7.0.0,>=5.2.1 in /usr/local/lib/python3.10/dist-packages (from spacy<3.8.0,>=3.7.2->en-core-web-sm==3.7.1) (6.4.0)\n",
            "Requirement already satisfied: tqdm<5.0.0,>=4.38.0 in /usr/local/lib/python3.10/dist-packages (from spacy<3.8.0,>=3.7.2->en-core-web-sm==3.7.1) (4.66.4)\n",
            "Requirement already satisfied: requests<3.0.0,>=2.13.0 in /usr/local/lib/python3.10/dist-packages (from spacy<3.8.0,>=3.7.2->en-core-web-sm==3.7.1) (2.31.0)\n",
            "Requirement already satisfied: pydantic!=1.8,!=1.8.1,<3.0.0,>=1.7.4 in /usr/local/lib/python3.10/dist-packages (from spacy<3.8.0,>=3.7.2->en-core-web-sm==3.7.1) (2.7.1)\n",
            "Requirement already satisfied: jinja2 in /usr/local/lib/python3.10/dist-packages (from spacy<3.8.0,>=3.7.2->en-core-web-sm==3.7.1) (3.1.4)\n",
            "Requirement already satisfied: setuptools in /usr/local/lib/python3.10/dist-packages (from spacy<3.8.0,>=3.7.2->en-core-web-sm==3.7.1) (67.7.2)\n",
            "Requirement already satisfied: packaging>=20.0 in /usr/local/lib/python3.10/dist-packages (from spacy<3.8.0,>=3.7.2->en-core-web-sm==3.7.1) (24.0)\n",
            "Requirement already satisfied: langcodes<4.0.0,>=3.2.0 in /usr/local/lib/python3.10/dist-packages (from spacy<3.8.0,>=3.7.2->en-core-web-sm==3.7.1) (3.4.0)\n",
            "Requirement already satisfied: numpy>=1.19.0 in /usr/local/lib/python3.10/dist-packages (from spacy<3.8.0,>=3.7.2->en-core-web-sm==3.7.1) (1.25.2)\n",
            "Requirement already satisfied: language-data>=1.2 in /usr/local/lib/python3.10/dist-packages (from langcodes<4.0.0,>=3.2.0->spacy<3.8.0,>=3.7.2->en-core-web-sm==3.7.1) (1.2.0)\n",
            "Requirement already satisfied: annotated-types>=0.4.0 in /usr/local/lib/python3.10/dist-packages (from pydantic!=1.8,!=1.8.1,<3.0.0,>=1.7.4->spacy<3.8.0,>=3.7.2->en-core-web-sm==3.7.1) (0.7.0)\n",
            "Requirement already satisfied: pydantic-core==2.18.2 in /usr/local/lib/python3.10/dist-packages (from pydantic!=1.8,!=1.8.1,<3.0.0,>=1.7.4->spacy<3.8.0,>=3.7.2->en-core-web-sm==3.7.1) (2.18.2)\n",
            "Requirement already satisfied: typing-extensions>=4.6.1 in /usr/local/lib/python3.10/dist-packages (from pydantic!=1.8,!=1.8.1,<3.0.0,>=1.7.4->spacy<3.8.0,>=3.7.2->en-core-web-sm==3.7.1) (4.11.0)\n",
            "Requirement already satisfied: charset-normalizer<4,>=2 in /usr/local/lib/python3.10/dist-packages (from requests<3.0.0,>=2.13.0->spacy<3.8.0,>=3.7.2->en-core-web-sm==3.7.1) (3.3.2)\n",
            "Requirement already satisfied: idna<4,>=2.5 in /usr/local/lib/python3.10/dist-packages (from requests<3.0.0,>=2.13.0->spacy<3.8.0,>=3.7.2->en-core-web-sm==3.7.1) (3.7)\n",
            "Requirement already satisfied: urllib3<3,>=1.21.1 in /usr/local/lib/python3.10/dist-packages (from requests<3.0.0,>=2.13.0->spacy<3.8.0,>=3.7.2->en-core-web-sm==3.7.1) (2.0.7)\n",
            "Requirement already satisfied: certifi>=2017.4.17 in /usr/local/lib/python3.10/dist-packages (from requests<3.0.0,>=2.13.0->spacy<3.8.0,>=3.7.2->en-core-web-sm==3.7.1) (2024.2.2)\n",
            "Requirement already satisfied: blis<0.8.0,>=0.7.8 in /usr/local/lib/python3.10/dist-packages (from thinc<8.3.0,>=8.2.2->spacy<3.8.0,>=3.7.2->en-core-web-sm==3.7.1) (0.7.11)\n",
            "Requirement already satisfied: confection<1.0.0,>=0.0.1 in /usr/local/lib/python3.10/dist-packages (from thinc<8.3.0,>=8.2.2->spacy<3.8.0,>=3.7.2->en-core-web-sm==3.7.1) (0.1.4)\n",
            "Requirement already satisfied: click<9.0.0,>=7.1.1 in /usr/local/lib/python3.10/dist-packages (from typer<0.10.0,>=0.3.0->spacy<3.8.0,>=3.7.2->en-core-web-sm==3.7.1) (8.1.7)\n",
            "Requirement already satisfied: cloudpathlib<0.17.0,>=0.7.0 in /usr/local/lib/python3.10/dist-packages (from weasel<0.4.0,>=0.1.0->spacy<3.8.0,>=3.7.2->en-core-web-sm==3.7.1) (0.16.0)\n",
            "Requirement already satisfied: MarkupSafe>=2.0 in /usr/local/lib/python3.10/dist-packages (from jinja2->spacy<3.8.0,>=3.7.2->en-core-web-sm==3.7.1) (2.1.5)\n",
            "Requirement already satisfied: marisa-trie>=0.7.7 in /usr/local/lib/python3.10/dist-packages (from language-data>=1.2->langcodes<4.0.0,>=3.2.0->spacy<3.8.0,>=3.7.2->en-core-web-sm==3.7.1) (1.1.1)\n",
            "\u001b[38;5;2m✔ Download and installation successful\u001b[0m\n",
            "You can now load the package via spacy.load('en_core_web_sm')\n",
            "\u001b[38;5;3m⚠ Restart to reload dependencies\u001b[0m\n",
            "If you are in a Jupyter or Colab notebook, you may need to restart Python in\n",
            "order to load all the package's dependencies. You can do this by selecting the\n",
            "'Restart kernel' or 'Restart runtime' option.\n"
          ]
        }
      ],
      "source": [
        "# Install packages & prerequisites\n",
        "!pip install pyro-ppl\n",
        "!pip install pyldavis\n",
        "!pip install seaborn\n",
        "!pip install nltk\n",
        "!pip install spacy\n",
        "!python -m spacy download en_core_web_sm"
      ]
    },
    {
      "cell_type": "markdown",
      "metadata": {
        "id": "1fhCCMu7Ibi9"
      },
      "source": [
        "## 01.02. Load Preprocessing Files"
      ]
    },
    {
      "cell_type": "markdown",
      "metadata": {
        "id": "Hr1aN14fJ0q-"
      },
      "source": [
        "## 01.03. Import Packages"
      ]
    },
    {
      "cell_type": "code",
      "execution_count": 5,
      "metadata": {
        "id": "gvLgdR191jct"
      },
      "outputs": [],
      "source": [
        "import numpy as np\n",
        "import pandas as pd\n",
        "import matplotlib.pyplot as plt\n",
        "from sklearn import linear_model\n",
        "import seaborn as sns\n",
        "\n",
        "import torch\n",
        "from torch import nn\n",
        "from torch.distributions import constraints\n",
        "import functools\n",
        "\n",
        "import pyro\n",
        "import pyro.distributions as dist\n",
        "from pyro.optim import Adam, ClippedAdam\n",
        "from pyro.infer import MCMC, NUTS, HMC, SVI, Trace_ELBO, JitTraceEnum_ELBO, TraceEnum_ELBO, TraceMeanField_ELBO\n",
        "from pyro.contrib.autoguide import AutoDiagonalNormal, AutoMultivariateNormal, AutoGuideList, AutoDelta\n",
        "\n",
        "import gensim\n",
        "import pyLDAvis\n",
        "import pyLDAvis.gensim_models as pyldagensim\n",
        "\n",
        "# fix random generator seed (for reproducibility of results)\n",
        "np.random.seed(42)\n",
        "\n",
        "# matplotlib style options\n",
        "plt.style.use('ggplot')\n",
        "%matplotlib inline\n",
        "plt.rcParams['figure.figsize'] = (12, 8)\n",
        "\n",
        "import warnings\n",
        "warnings.filterwarnings(\"ignore\", category=DeprecationWarning)\n",
        "\n",
        "# to collect the accuracies of all  the models\n",
        "accuracies = []"
      ]
    },
    {
      "cell_type": "markdown",
      "metadata": {
        "id": "Goeq_zoOLCqk"
      },
      "source": [
        "# 02. Prepare Initial Datatset"
      ]
    },
    {
      "cell_type": "markdown",
      "metadata": {
        "id": "rnVhPXcFOtIk"
      },
      "source": [
        "## 02.01. Load Preprocessed Data"
      ]
    },
    {
      "cell_type": "markdown",
      "metadata": {
        "id": "pGRnH4WRuB6d"
      },
      "source": [
        "Preprocessing the Enron dataset to model individuals, their emails and preprocess the body of each email is a time consuming process. So this process has already been done and the results are saved as object files which need to be loaded here."
      ]
    },
    {
      "cell_type": "code",
      "execution_count": 128,
      "metadata": {
        "colab": {
          "base_uri": "https://localhost:8080/",
          "height": 226
        },
        "id": "AbW5q5bwL3oD",
        "outputId": "e3ac84e3-7a2f-4d52-ae34-4281e23dce4d"
      },
      "outputs": [
        {
          "data": {
            "application/vnd.google.colaboratory.intrinsic+json": {
              "summary": "{\n  \"name\": \"df\",\n  \"rows\": 87499,\n  \"fields\": [\n    {\n      \"column\": \"GGGrade\",\n      \"properties\": {\n        \"dtype\": \"number\",\n        \"std\": 1,\n        \"min\": 1,\n        \"max\": 7,\n        \"num_unique_values\": 7,\n        \"samples\": [\n          1,\n          2,\n          6\n        ],\n        \"semantic_type\": \"\",\n        \"description\": \"\"\n      }\n    },\n    {\n      \"column\": \"Validation\",\n      \"properties\": {\n        \"dtype\": \"number\",\n        \"std\": 0,\n        \"min\": 0,\n        \"max\": 2,\n        \"num_unique_values\": 3,\n        \"samples\": [\n          0,\n          2,\n          1\n        ],\n        \"semantic_type\": \"\",\n        \"description\": \"\"\n      }\n    },\n    {\n      \"column\": \"Yearly_Income\",\n      \"properties\": {\n        \"dtype\": \"number\",\n        \"std\": 101139,\n        \"min\": 0,\n        \"max\": 8264031,\n        \"num_unique_values\": 6845,\n        \"samples\": [\n          56848,\n          197384,\n          110935\n        ],\n        \"semantic_type\": \"\",\n        \"description\": \"\"\n      }\n    },\n    {\n      \"column\": \"Home_Status\",\n      \"properties\": {\n        \"dtype\": \"number\",\n        \"std\": 0,\n        \"min\": 0,\n        \"max\": 4,\n        \"num_unique_values\": 5,\n        \"samples\": [\n          2,\n          4,\n          1\n        ],\n        \"semantic_type\": \"\",\n        \"description\": \"\"\n      }\n    },\n    {\n      \"column\": \"Lend_Amount\",\n      \"properties\": {\n        \"dtype\": \"number\",\n        \"std\": 14433,\n        \"min\": 1710,\n        \"max\": 59850,\n        \"num_unique_values\": 1298,\n        \"samples\": [\n          55361,\n          50915,\n          56729\n        ],\n        \"semantic_type\": \"\",\n        \"description\": \"\"\n      }\n    },\n    {\n      \"column\": \"Deprecatory_Records\",\n      \"properties\": {\n        \"dtype\": \"number\",\n        \"std\": 0,\n        \"min\": 0,\n        \"max\": 22,\n        \"num_unique_values\": 17,\n        \"samples\": [\n          0,\n          2,\n          13\n        ],\n        \"semantic_type\": \"\",\n        \"description\": \"\"\n      }\n    },\n    {\n      \"column\": \"Interest_Charged\",\n      \"properties\": {\n        \"dtype\": \"number\",\n        \"std\": 4.902027659785511,\n        \"min\": 8.0,\n        \"max\": 25.0,\n        \"num_unique_values\": 1701,\n        \"samples\": [\n          9.59,\n          14.15,\n          22.75\n        ],\n        \"semantic_type\": \"\",\n        \"description\": \"\"\n      }\n    },\n    {\n      \"column\": \"Inquiries\",\n      \"properties\": {\n        \"dtype\": \"number\",\n        \"std\": 0,\n        \"min\": 0,\n        \"max\": 8,\n        \"num_unique_values\": 8,\n        \"samples\": [\n          1,\n          6,\n          0\n        ],\n        \"semantic_type\": \"\",\n        \"description\": \"\"\n      }\n    },\n    {\n      \"column\": \"Present_Balance\",\n      \"properties\": {\n        \"dtype\": \"number\",\n        \"std\": 255057,\n        \"min\": 0,\n        \"max\": 5629234,\n        \"num_unique_values\": 73819,\n        \"samples\": [\n          98814,\n          34918,\n          69572\n        ],\n        \"semantic_type\": \"\",\n        \"description\": \"\"\n      }\n    },\n    {\n      \"column\": \"Gross_Collection\",\n      \"properties\": {\n        \"dtype\": \"number\",\n        \"std\": 391,\n        \"min\": 0,\n        \"max\": 26308,\n        \"num_unique_values\": 1380,\n        \"samples\": [\n          98,\n          17296,\n          200\n        ],\n        \"semantic_type\": \"\",\n        \"description\": \"\"\n      }\n    },\n    {\n      \"column\": \"Sub_GGGrade\",\n      \"properties\": {\n        \"dtype\": \"number\",\n        \"std\": 6,\n        \"min\": 11,\n        \"max\": 45,\n        \"num_unique_values\": 35,\n        \"samples\": [\n          38,\n          27,\n          15\n        ],\n        \"semantic_type\": \"\",\n        \"description\": \"\"\n      }\n    },\n    {\n      \"column\": \"State\",\n      \"properties\": {\n        \"dtype\": \"number\",\n        \"std\": 14,\n        \"min\": 0,\n        \"max\": 50,\n        \"num_unique_values\": 49,\n        \"samples\": [\n          15,\n          47,\n          49\n        ],\n        \"semantic_type\": \"\",\n        \"description\": \"\"\n      }\n    },\n    {\n      \"column\": \"Duration\",\n      \"properties\": {\n        \"dtype\": \"number\",\n        \"std\": 0,\n        \"min\": 3,\n        \"max\": 5,\n        \"num_unique_values\": 2,\n        \"samples\": [\n          5,\n          3\n        ],\n        \"semantic_type\": \"\",\n        \"description\": \"\"\n      }\n    },\n    {\n      \"column\": \"Unpaid_Amount\",\n      \"properties\": {\n        \"dtype\": \"number\",\n        \"std\": 37026,\n        \"min\": 0,\n        \"max\": 1338778,\n        \"num_unique_values\": 34679,\n        \"samples\": [\n          16394,\n          5913\n        ],\n        \"semantic_type\": \"\",\n        \"description\": \"\"\n      }\n    },\n    {\n      \"column\": \"Reason\",\n      \"properties\": {\n        \"dtype\": \"number\",\n        \"std\": 2,\n        \"min\": 0,\n        \"max\": 12,\n        \"num_unique_values\": 13,\n        \"samples\": [\n          0,\n          2\n        ],\n        \"semantic_type\": \"\",\n        \"description\": \"\"\n      }\n    },\n    {\n      \"column\": \"Due_Fee\",\n      \"properties\": {\n        \"dtype\": \"number\",\n        \"std\": 3.5461080754677705,\n        \"min\": 0.0,\n        \"max\": 169.05,\n        \"num_unique_values\": 582,\n        \"samples\": [\n          15.94,\n          27.3\n        ],\n        \"semantic_type\": \"\",\n        \"description\": \"\"\n      }\n    },\n    {\n      \"column\": \"Default\",\n      \"properties\": {\n        \"dtype\": \"number\",\n        \"std\": 0,\n        \"min\": 0,\n        \"max\": 1,\n        \"num_unique_values\": 2,\n        \"samples\": [\n          1,\n          0\n        ],\n        \"semantic_type\": \"\",\n        \"description\": \"\"\n      }\n    }\n  ]\n}",
              "type": "dataframe",
              "variable_name": "df"
            },
            "text/html": [
              "\n",
              "  <div id=\"df-538df9fb-c22c-4040-87b7-d928bc9ee2e0\" class=\"colab-df-container\">\n",
              "    <div>\n",
              "<style scoped>\n",
              "    .dataframe tbody tr th:only-of-type {\n",
              "        vertical-align: middle;\n",
              "    }\n",
              "\n",
              "    .dataframe tbody tr th {\n",
              "        vertical-align: top;\n",
              "    }\n",
              "\n",
              "    .dataframe thead th {\n",
              "        text-align: right;\n",
              "    }\n",
              "</style>\n",
              "<table border=\"1\" class=\"dataframe\">\n",
              "  <thead>\n",
              "    <tr style=\"text-align: right;\">\n",
              "      <th></th>\n",
              "      <th>GGGrade</th>\n",
              "      <th>Validation</th>\n",
              "      <th>Yearly_Income</th>\n",
              "      <th>Home_Status</th>\n",
              "      <th>Lend_Amount</th>\n",
              "      <th>Deprecatory_Records</th>\n",
              "      <th>Interest_Charged</th>\n",
              "      <th>Inquiries</th>\n",
              "      <th>Present_Balance</th>\n",
              "      <th>Gross_Collection</th>\n",
              "      <th>Sub_GGGrade</th>\n",
              "      <th>State</th>\n",
              "      <th>Duration</th>\n",
              "      <th>Unpaid_Amount</th>\n",
              "      <th>Reason</th>\n",
              "      <th>Due_Fee</th>\n",
              "      <th>Default</th>\n",
              "    </tr>\n",
              "  </thead>\n",
              "  <tbody>\n",
              "    <tr>\n",
              "      <th>0</th>\n",
              "      <td>1</td>\n",
              "      <td>0</td>\n",
              "      <td>123200</td>\n",
              "      <td>0</td>\n",
              "      <td>10260</td>\n",
              "      <td>0</td>\n",
              "      <td>18.94</td>\n",
              "      <td>0</td>\n",
              "      <td>175923</td>\n",
              "      <td>0</td>\n",
              "      <td>11</td>\n",
              "      <td>0</td>\n",
              "      <td>3</td>\n",
              "      <td>6970</td>\n",
              "      <td>12</td>\n",
              "      <td>0.0</td>\n",
              "      <td>0</td>\n",
              "    </tr>\n",
              "    <tr>\n",
              "      <th>1</th>\n",
              "      <td>1</td>\n",
              "      <td>0</td>\n",
              "      <td>255200</td>\n",
              "      <td>2</td>\n",
              "      <td>27916</td>\n",
              "      <td>0</td>\n",
              "      <td>13.27</td>\n",
              "      <td>1</td>\n",
              "      <td>628237</td>\n",
              "      <td>0</td>\n",
              "      <td>13</td>\n",
              "      <td>0</td>\n",
              "      <td>3</td>\n",
              "      <td>17461</td>\n",
              "      <td>12</td>\n",
              "      <td>0.0</td>\n",
              "      <td>1</td>\n",
              "    </tr>\n",
              "    <tr>\n",
              "      <th>2</th>\n",
              "      <td>2</td>\n",
              "      <td>2</td>\n",
              "      <td>98842</td>\n",
              "      <td>1</td>\n",
              "      <td>14535</td>\n",
              "      <td>0</td>\n",
              "      <td>15.84</td>\n",
              "      <td>0</td>\n",
              "      <td>66999</td>\n",
              "      <td>0</td>\n",
              "      <td>20</td>\n",
              "      <td>0</td>\n",
              "      <td>3</td>\n",
              "      <td>0</td>\n",
              "      <td>12</td>\n",
              "      <td>0.0</td>\n",
              "      <td>0</td>\n",
              "    </tr>\n",
              "    <tr>\n",
              "      <th>3</th>\n",
              "      <td>2</td>\n",
              "      <td>0</td>\n",
              "      <td>149600</td>\n",
              "      <td>0</td>\n",
              "      <td>6840</td>\n",
              "      <td>0</td>\n",
              "      <td>21.80</td>\n",
              "      <td>0</td>\n",
              "      <td>471337</td>\n",
              "      <td>0</td>\n",
              "      <td>19</td>\n",
              "      <td>0</td>\n",
              "      <td>3</td>\n",
              "      <td>7278</td>\n",
              "      <td>12</td>\n",
              "      <td>0.0</td>\n",
              "      <td>0</td>\n",
              "    </tr>\n",
              "    <tr>\n",
              "      <th>4</th>\n",
              "      <td>2</td>\n",
              "      <td>0</td>\n",
              "      <td>70400</td>\n",
              "      <td>0</td>\n",
              "      <td>10260</td>\n",
              "      <td>0</td>\n",
              "      <td>20.11</td>\n",
              "      <td>0</td>\n",
              "      <td>166497</td>\n",
              "      <td>0</td>\n",
              "      <td>20</td>\n",
              "      <td>0</td>\n",
              "      <td>3</td>\n",
              "      <td>12967</td>\n",
              "      <td>12</td>\n",
              "      <td>0.0</td>\n",
              "      <td>0</td>\n",
              "    </tr>\n",
              "  </tbody>\n",
              "</table>\n",
              "</div>\n",
              "    <div class=\"colab-df-buttons\">\n",
              "\n",
              "  <div class=\"colab-df-container\">\n",
              "    <button class=\"colab-df-convert\" onclick=\"convertToInteractive('df-538df9fb-c22c-4040-87b7-d928bc9ee2e0')\"\n",
              "            title=\"Convert this dataframe to an interactive table.\"\n",
              "            style=\"display:none;\">\n",
              "\n",
              "  <svg xmlns=\"http://www.w3.org/2000/svg\" height=\"24px\" viewBox=\"0 -960 960 960\">\n",
              "    <path d=\"M120-120v-720h720v720H120Zm60-500h600v-160H180v160Zm220 220h160v-160H400v160Zm0 220h160v-160H400v160ZM180-400h160v-160H180v160Zm440 0h160v-160H620v160ZM180-180h160v-160H180v160Zm440 0h160v-160H620v160Z\"/>\n",
              "  </svg>\n",
              "    </button>\n",
              "\n",
              "  <style>\n",
              "    .colab-df-container {\n",
              "      display:flex;\n",
              "      gap: 12px;\n",
              "    }\n",
              "\n",
              "    .colab-df-convert {\n",
              "      background-color: #E8F0FE;\n",
              "      border: none;\n",
              "      border-radius: 50%;\n",
              "      cursor: pointer;\n",
              "      display: none;\n",
              "      fill: #1967D2;\n",
              "      height: 32px;\n",
              "      padding: 0 0 0 0;\n",
              "      width: 32px;\n",
              "    }\n",
              "\n",
              "    .colab-df-convert:hover {\n",
              "      background-color: #E2EBFA;\n",
              "      box-shadow: 0px 1px 2px rgba(60, 64, 67, 0.3), 0px 1px 3px 1px rgba(60, 64, 67, 0.15);\n",
              "      fill: #174EA6;\n",
              "    }\n",
              "\n",
              "    .colab-df-buttons div {\n",
              "      margin-bottom: 4px;\n",
              "    }\n",
              "\n",
              "    [theme=dark] .colab-df-convert {\n",
              "      background-color: #3B4455;\n",
              "      fill: #D2E3FC;\n",
              "    }\n",
              "\n",
              "    [theme=dark] .colab-df-convert:hover {\n",
              "      background-color: #434B5C;\n",
              "      box-shadow: 0px 1px 3px 1px rgba(0, 0, 0, 0.15);\n",
              "      filter: drop-shadow(0px 1px 2px rgba(0, 0, 0, 0.3));\n",
              "      fill: #FFFFFF;\n",
              "    }\n",
              "  </style>\n",
              "\n",
              "    <script>\n",
              "      const buttonEl =\n",
              "        document.querySelector('#df-538df9fb-c22c-4040-87b7-d928bc9ee2e0 button.colab-df-convert');\n",
              "      buttonEl.style.display =\n",
              "        google.colab.kernel.accessAllowed ? 'block' : 'none';\n",
              "\n",
              "      async function convertToInteractive(key) {\n",
              "        const element = document.querySelector('#df-538df9fb-c22c-4040-87b7-d928bc9ee2e0');\n",
              "        const dataTable =\n",
              "          await google.colab.kernel.invokeFunction('convertToInteractive',\n",
              "                                                    [key], {});\n",
              "        if (!dataTable) return;\n",
              "\n",
              "        const docLinkHtml = 'Like what you see? Visit the ' +\n",
              "          '<a target=\"_blank\" href=https://colab.research.google.com/notebooks/data_table.ipynb>data table notebook</a>'\n",
              "          + ' to learn more about interactive tables.';\n",
              "        element.innerHTML = '';\n",
              "        dataTable['output_type'] = 'display_data';\n",
              "        await google.colab.output.renderOutput(dataTable, element);\n",
              "        const docLink = document.createElement('div');\n",
              "        docLink.innerHTML = docLinkHtml;\n",
              "        element.appendChild(docLink);\n",
              "      }\n",
              "    </script>\n",
              "  </div>\n",
              "\n",
              "\n",
              "<div id=\"df-a9ecb7d5-2957-4e92-ad8b-0a9f44afc56d\">\n",
              "  <button class=\"colab-df-quickchart\" onclick=\"quickchart('df-a9ecb7d5-2957-4e92-ad8b-0a9f44afc56d')\"\n",
              "            title=\"Suggest charts\"\n",
              "            style=\"display:none;\">\n",
              "\n",
              "<svg xmlns=\"http://www.w3.org/2000/svg\" height=\"24px\"viewBox=\"0 0 24 24\"\n",
              "     width=\"24px\">\n",
              "    <g>\n",
              "        <path d=\"M19 3H5c-1.1 0-2 .9-2 2v14c0 1.1.9 2 2 2h14c1.1 0 2-.9 2-2V5c0-1.1-.9-2-2-2zM9 17H7v-7h2v7zm4 0h-2V7h2v10zm4 0h-2v-4h2v4z\"/>\n",
              "    </g>\n",
              "</svg>\n",
              "  </button>\n",
              "\n",
              "<style>\n",
              "  .colab-df-quickchart {\n",
              "      --bg-color: #E8F0FE;\n",
              "      --fill-color: #1967D2;\n",
              "      --hover-bg-color: #E2EBFA;\n",
              "      --hover-fill-color: #174EA6;\n",
              "      --disabled-fill-color: #AAA;\n",
              "      --disabled-bg-color: #DDD;\n",
              "  }\n",
              "\n",
              "  [theme=dark] .colab-df-quickchart {\n",
              "      --bg-color: #3B4455;\n",
              "      --fill-color: #D2E3FC;\n",
              "      --hover-bg-color: #434B5C;\n",
              "      --hover-fill-color: #FFFFFF;\n",
              "      --disabled-bg-color: #3B4455;\n",
              "      --disabled-fill-color: #666;\n",
              "  }\n",
              "\n",
              "  .colab-df-quickchart {\n",
              "    background-color: var(--bg-color);\n",
              "    border: none;\n",
              "    border-radius: 50%;\n",
              "    cursor: pointer;\n",
              "    display: none;\n",
              "    fill: var(--fill-color);\n",
              "    height: 32px;\n",
              "    padding: 0;\n",
              "    width: 32px;\n",
              "  }\n",
              "\n",
              "  .colab-df-quickchart:hover {\n",
              "    background-color: var(--hover-bg-color);\n",
              "    box-shadow: 0 1px 2px rgba(60, 64, 67, 0.3), 0 1px 3px 1px rgba(60, 64, 67, 0.15);\n",
              "    fill: var(--button-hover-fill-color);\n",
              "  }\n",
              "\n",
              "  .colab-df-quickchart-complete:disabled,\n",
              "  .colab-df-quickchart-complete:disabled:hover {\n",
              "    background-color: var(--disabled-bg-color);\n",
              "    fill: var(--disabled-fill-color);\n",
              "    box-shadow: none;\n",
              "  }\n",
              "\n",
              "  .colab-df-spinner {\n",
              "    border: 2px solid var(--fill-color);\n",
              "    border-color: transparent;\n",
              "    border-bottom-color: var(--fill-color);\n",
              "    animation:\n",
              "      spin 1s steps(1) infinite;\n",
              "  }\n",
              "\n",
              "  @keyframes spin {\n",
              "    0% {\n",
              "      border-color: transparent;\n",
              "      border-bottom-color: var(--fill-color);\n",
              "      border-left-color: var(--fill-color);\n",
              "    }\n",
              "    20% {\n",
              "      border-color: transparent;\n",
              "      border-left-color: var(--fill-color);\n",
              "      border-top-color: var(--fill-color);\n",
              "    }\n",
              "    30% {\n",
              "      border-color: transparent;\n",
              "      border-left-color: var(--fill-color);\n",
              "      border-top-color: var(--fill-color);\n",
              "      border-right-color: var(--fill-color);\n",
              "    }\n",
              "    40% {\n",
              "      border-color: transparent;\n",
              "      border-right-color: var(--fill-color);\n",
              "      border-top-color: var(--fill-color);\n",
              "    }\n",
              "    60% {\n",
              "      border-color: transparent;\n",
              "      border-right-color: var(--fill-color);\n",
              "    }\n",
              "    80% {\n",
              "      border-color: transparent;\n",
              "      border-right-color: var(--fill-color);\n",
              "      border-bottom-color: var(--fill-color);\n",
              "    }\n",
              "    90% {\n",
              "      border-color: transparent;\n",
              "      border-bottom-color: var(--fill-color);\n",
              "    }\n",
              "  }\n",
              "</style>\n",
              "\n",
              "  <script>\n",
              "    async function quickchart(key) {\n",
              "      const quickchartButtonEl =\n",
              "        document.querySelector('#' + key + ' button');\n",
              "      quickchartButtonEl.disabled = true;  // To prevent multiple clicks.\n",
              "      quickchartButtonEl.classList.add('colab-df-spinner');\n",
              "      try {\n",
              "        const charts = await google.colab.kernel.invokeFunction(\n",
              "            'suggestCharts', [key], {});\n",
              "      } catch (error) {\n",
              "        console.error('Error during call to suggestCharts:', error);\n",
              "      }\n",
              "      quickchartButtonEl.classList.remove('colab-df-spinner');\n",
              "      quickchartButtonEl.classList.add('colab-df-quickchart-complete');\n",
              "    }\n",
              "    (() => {\n",
              "      let quickchartButtonEl =\n",
              "        document.querySelector('#df-a9ecb7d5-2957-4e92-ad8b-0a9f44afc56d button');\n",
              "      quickchartButtonEl.style.display =\n",
              "        google.colab.kernel.accessAllowed ? 'block' : 'none';\n",
              "    })();\n",
              "  </script>\n",
              "</div>\n",
              "    </div>\n",
              "  </div>\n"
            ],
            "text/plain": [
              "   GGGrade  Validation  Yearly_Income  Home_Status  Lend_Amount  \\\n",
              "0        1           0         123200            0        10260   \n",
              "1        1           0         255200            2        27916   \n",
              "2        2           2          98842            1        14535   \n",
              "3        2           0         149600            0         6840   \n",
              "4        2           0          70400            0        10260   \n",
              "\n",
              "   Deprecatory_Records  Interest_Charged  Inquiries  Present_Balance  \\\n",
              "0                    0             18.94          0           175923   \n",
              "1                    0             13.27          1           628237   \n",
              "2                    0             15.84          0            66999   \n",
              "3                    0             21.80          0           471337   \n",
              "4                    0             20.11          0           166497   \n",
              "\n",
              "   Gross_Collection  Sub_GGGrade  State  Duration  Unpaid_Amount  Reason  \\\n",
              "0                 0           11      0         3           6970      12   \n",
              "1                 0           13      0         3          17461      12   \n",
              "2                 0           20      0         3              0      12   \n",
              "3                 0           19      0         3           7278      12   \n",
              "4                 0           20      0         3          12967      12   \n",
              "\n",
              "   Due_Fee  Default  \n",
              "0      0.0        0  \n",
              "1      0.0        1  \n",
              "2      0.0        0  \n",
              "3      0.0        0  \n",
              "4      0.0        0  "
            ]
          },
          "execution_count": 128,
          "metadata": {},
          "output_type": "execute_result"
        }
      ],
      "source": [
        "import pandas as pd\n",
        "\n",
        "# load csv\n",
        "df = pd.read_csv('Data_Train_AllNumbers.csv')\n",
        "df.head()"
      ]
    },
    {
      "cell_type": "markdown",
      "metadata": {
        "id": "mwVTlz04PH41"
      },
      "source": [
        "## 02.02. Adding Features"
      ]
    },
    {
      "cell_type": "markdown",
      "metadata": {
        "id": "93QVAQ1iv2gI"
      },
      "source": [
        "We divide the home status and the duration into bins and we add the resulting features to the dataframe."
      ]
    },
    {
      "cell_type": "code",
      "execution_count": 129,
      "metadata": {
        "id": "VvUIDbRYMY9z"
      },
      "outputs": [],
      "source": [
        "# we divide between status for home status bins\n",
        "\n",
        "# group 0\n",
        "zero = df.loc[(df['Home_Status'] == 0)]\n",
        "d_zero = zero.loc[df['Default'] == 1]\n",
        "df['Home0'] = (df['Home_Status'] == 0)\n",
        "df['Home0'] = df['Home_Status'].astype(int)\n",
        "\n",
        "# group 1\n",
        "one = df.loc[(df['Home_Status'] == 1)]\n",
        "d_one = one.loc[df['Default'] == 1]\n",
        "df['Home1'] = (df['Home_Status'] == 0)\n",
        "df['Home1'] = df['Home_Status'].astype(int)\n",
        "\n",
        "# group 2\n",
        "two = df.loc[(df['Home_Status'] == 2)]\n",
        "d_two = two.loc[df['Default'] == 1]\n",
        "df['Home2'] = (df['Home_Status'] == 0)\n",
        "df['Home2'] = df['Home_Status'].astype(int)\n",
        "\n",
        "# group 3\n",
        "three = df.loc[(df['Home_Status'] == 3)]\n",
        "d_three = three.loc[df['Default'] == 1]\n",
        "df['Home3'] = (df['Home_Status'] == 0)\n",
        "df['Home3'] = df['Home_Status'].astype(int)\n",
        "\n",
        "# group 4\n",
        "four = df.loc[(df['Home_Status'] == 4)]\n",
        "d_four = four.loc[df['Default'] == 1]\n",
        "df['Home4'] = (df['Home_Status'] == 0)\n",
        "df['Home4'] = df['Home_Status'].astype(int)"
      ]
    },
    {
      "cell_type": "code",
      "execution_count": 130,
      "metadata": {
        "id": "EFBwDlQDvnJS"
      },
      "outputs": [],
      "source": [
        "assert sum([len(zero), len(one), len(two), len(three), len(four)]) == len(df)"
      ]
    },
    {
      "cell_type": "code",
      "execution_count": 131,
      "metadata": {
        "colab": {
          "base_uri": "https://localhost:8080/",
          "height": 690
        },
        "id": "VOrOEqiUo992",
        "outputId": "64ff9cda-6351-42d6-a554-78ceb2c0fd3d"
      },
      "outputs": [
        {
          "data": {
            "image/png": "[encoded data removed]",
            "text/plain": [
              "<Figure size 1200x800 with 1 Axes>"
            ]
          },
          "metadata": {},
          "output_type": "display_data"
        }
      ],
      "source": [
        "# plotting the fraction of deleted emails for various body lengths\n",
        "fig = plt.figure()\n",
        "ax = fig.add_axes([0,0,1,1])\n",
        "lengths = ['0', '1', '2', '3', '4']\n",
        "deleted_fractions = [len(d_zero)/len(zero),  len(d_one)/len(one), len(d_two)/len(two), len(d_three)/len(three),\n",
        "            len(d_four)/len(four)]\n",
        "ax.bar(lengths, deleted_fractions)\n",
        "plt.show()"
      ]
    },
    {
      "cell_type": "code",
      "execution_count": 132,
      "metadata": {
        "id": "-2PtgnPPvpHU"
      },
      "outputs": [],
      "source": [
        "# we divide subject duration into bins\n",
        "\n",
        "# group 3\n",
        "Three = df.loc[(df['Duration'] == 3)]\n",
        "d_Three = Three.loc[df['Default'] == 1]\n",
        "df['Duration[3]'] = (df['Duration'] == 3)\n",
        "df['Duration[3]'] = df['Duration[3]'].astype(int)\n",
        "\n",
        "# group 5\n",
        "Five = df.loc[(df['Duration'] == 5)]\n",
        "d_Five = Five.loc[df['Default'] == 1]\n",
        "df['Duration[5]'] = (df['Duration'] == 5)\n",
        "df['Duration[5]'] = df['Duration[3]'].astype(int)"
      ]
    },
    {
      "cell_type": "code",
      "execution_count": 133,
      "metadata": {
        "id": "Z4ldBDMZxwbb"
      },
      "outputs": [],
      "source": [
        "assert sum([len(Three), len(Five)]) == len(df)"
      ]
    },
    {
      "cell_type": "code",
      "execution_count": 134,
      "metadata": {
        "colab": {
          "base_uri": "https://localhost:8080/",
          "height": 680
        },
        "id": "qCn5mEzvxx-_",
        "outputId": "ec031b59-0fa7-48fb-abaf-8d14ed300fab"
      },
      "outputs": [
        {
          "data": {
            "image/png": "[encoded data removed]",
            "text/plain": [
              "<Figure size 1200x800 with 1 Axes>"
            ]
          },
          "metadata": {},
          "output_type": "display_data"
        }
      ],
      "source": [
        "# plotting the fraction of deleted emails for various subject lengths.\n",
        "fig = plt.figure()\n",
        "ax = fig.add_axes([0,0,1,1])\n",
        "lengths = ['[3]', '[5]']\n",
        "deleted_fractions = [len(d_Three)/len(Three), len(d_Five)/len(Five)]\n",
        "ax.bar(lengths, deleted_fractions)\n",
        "plt.show()"
      ]
    },
    {
      "cell_type": "markdown",
      "metadata": {
        "id": "-rfYuwT8YMBi"
      },
      "source": [
        "## 02.04. Exploring the dataset"
      ]
    },
    {
      "cell_type": "code",
      "execution_count": 135,
      "metadata": {
        "id": "Puv5Xdpf5mno"
      },
      "outputs": [],
      "source": [
        "# moving lable to the end\n",
        "df = df[[c for c in df if c not in ['Default']] + ['Default']]"
      ]
    },
    {
      "cell_type": "code",
      "execution_count": 29,
      "metadata": {
        "colab": {
          "base_uri": "https://localhost:8080/",
          "height": 255
        },
        "id": "5bXbCovz6JNN",
        "outputId": "cd2dce94-d80d-45d6-b5f5-d45a8ae2fbd7"
      },
      "outputs": [
        {
          "data": {
            "application/vnd.google.colaboratory.intrinsic+json": {
              "type": "dataframe",
              "variable_name": "df"
            },
            "text/html": [
              "\n",
              "  <div id=\"df-c8358581-5007-42e1-aa66-2310f97cdb95\" class=\"colab-df-container\">\n",
              "    <div>\n",
              "<style scoped>\n",
              "    .dataframe tbody tr th:only-of-type {\n",
              "        vertical-align: middle;\n",
              "    }\n",
              "\n",
              "    .dataframe tbody tr th {\n",
              "        vertical-align: top;\n",
              "    }\n",
              "\n",
              "    .dataframe thead th {\n",
              "        text-align: right;\n",
              "    }\n",
              "</style>\n",
              "<table border=\"1\" class=\"dataframe\">\n",
              "  <thead>\n",
              "    <tr style=\"text-align: right;\">\n",
              "      <th></th>\n",
              "      <th>GGGrade</th>\n",
              "      <th>Validation</th>\n",
              "      <th>Yearly_Income</th>\n",
              "      <th>Home_Status</th>\n",
              "      <th>Lend_Amount</th>\n",
              "      <th>Deprecatory_Records</th>\n",
              "      <th>Interest_Charged</th>\n",
              "      <th>Inquiries</th>\n",
              "      <th>Present_Balance</th>\n",
              "      <th>Gross_Collection</th>\n",
              "      <th>...</th>\n",
              "      <th>Reason</th>\n",
              "      <th>Due_Fee</th>\n",
              "      <th>Home0</th>\n",
              "      <th>Home1</th>\n",
              "      <th>Home2</th>\n",
              "      <th>Home3</th>\n",
              "      <th>Home4</th>\n",
              "      <th>Duration[3]</th>\n",
              "      <th>Duration[5]</th>\n",
              "      <th>Default</th>\n",
              "    </tr>\n",
              "  </thead>\n",
              "  <tbody>\n",
              "    <tr>\n",
              "      <th>0</th>\n",
              "      <td>1</td>\n",
              "      <td>0</td>\n",
              "      <td>123200</td>\n",
              "      <td>0</td>\n",
              "      <td>10260</td>\n",
              "      <td>0</td>\n",
              "      <td>18.94</td>\n",
              "      <td>0</td>\n",
              "      <td>175923</td>\n",
              "      <td>0</td>\n",
              "      <td>...</td>\n",
              "      <td>12</td>\n",
              "      <td>0.0</td>\n",
              "      <td>0</td>\n",
              "      <td>0</td>\n",
              "      <td>0</td>\n",
              "      <td>0</td>\n",
              "      <td>0</td>\n",
              "      <td>1</td>\n",
              "      <td>1</td>\n",
              "      <td>0</td>\n",
              "    </tr>\n",
              "    <tr>\n",
              "      <th>1</th>\n",
              "      <td>1</td>\n",
              "      <td>0</td>\n",
              "      <td>255200</td>\n",
              "      <td>2</td>\n",
              "      <td>27916</td>\n",
              "      <td>0</td>\n",
              "      <td>13.27</td>\n",
              "      <td>1</td>\n",
              "      <td>628237</td>\n",
              "      <td>0</td>\n",
              "      <td>...</td>\n",
              "      <td>12</td>\n",
              "      <td>0.0</td>\n",
              "      <td>2</td>\n",
              "      <td>2</td>\n",
              "      <td>2</td>\n",
              "      <td>2</td>\n",
              "      <td>2</td>\n",
              "      <td>1</td>\n",
              "      <td>1</td>\n",
              "      <td>1</td>\n",
              "    </tr>\n",
              "    <tr>\n",
              "      <th>2</th>\n",
              "      <td>2</td>\n",
              "      <td>2</td>\n",
              "      <td>98842</td>\n",
              "      <td>1</td>\n",
              "      <td>14535</td>\n",
              "      <td>0</td>\n",
              "      <td>15.84</td>\n",
              "      <td>0</td>\n",
              "      <td>66999</td>\n",
              "      <td>0</td>\n",
              "      <td>...</td>\n",
              "      <td>12</td>\n",
              "      <td>0.0</td>\n",
              "      <td>1</td>\n",
              "      <td>1</td>\n",
              "      <td>1</td>\n",
              "      <td>1</td>\n",
              "      <td>1</td>\n",
              "      <td>1</td>\n",
              "      <td>1</td>\n",
              "      <td>0</td>\n",
              "    </tr>\n",
              "    <tr>\n",
              "      <th>3</th>\n",
              "      <td>2</td>\n",
              "      <td>0</td>\n",
              "      <td>149600</td>\n",
              "      <td>0</td>\n",
              "      <td>6840</td>\n",
              "      <td>0</td>\n",
              "      <td>21.80</td>\n",
              "      <td>0</td>\n",
              "      <td>471337</td>\n",
              "      <td>0</td>\n",
              "      <td>...</td>\n",
              "      <td>12</td>\n",
              "      <td>0.0</td>\n",
              "      <td>0</td>\n",
              "      <td>0</td>\n",
              "      <td>0</td>\n",
              "      <td>0</td>\n",
              "      <td>0</td>\n",
              "      <td>1</td>\n",
              "      <td>1</td>\n",
              "      <td>0</td>\n",
              "    </tr>\n",
              "    <tr>\n",
              "      <th>4</th>\n",
              "      <td>2</td>\n",
              "      <td>0</td>\n",
              "      <td>70400</td>\n",
              "      <td>0</td>\n",
              "      <td>10260</td>\n",
              "      <td>0</td>\n",
              "      <td>20.11</td>\n",
              "      <td>0</td>\n",
              "      <td>166497</td>\n",
              "      <td>0</td>\n",
              "      <td>...</td>\n",
              "      <td>12</td>\n",
              "      <td>0.0</td>\n",
              "      <td>0</td>\n",
              "      <td>0</td>\n",
              "      <td>0</td>\n",
              "      <td>0</td>\n",
              "      <td>0</td>\n",
              "      <td>1</td>\n",
              "      <td>1</td>\n",
              "      <td>0</td>\n",
              "    </tr>\n",
              "  </tbody>\n",
              "</table>\n",
              "<p>5 rows × 24 columns</p>\n",
              "</div>\n",
              "    <div class=\"colab-df-buttons\">\n",
              "\n",
              "  <div class=\"colab-df-container\">\n",
              "    <button class=\"colab-df-convert\" onclick=\"convertToInteractive('df-c8358581-5007-42e1-aa66-2310f97cdb95')\"\n",
              "            title=\"Convert this dataframe to an interactive table.\"\n",
              "            style=\"display:none;\">\n",
              "\n",
              "  <svg xmlns=\"http://www.w3.org/2000/svg\" height=\"24px\" viewBox=\"0 -960 960 960\">\n",
              "    <path d=\"M120-120v-720h720v720H120Zm60-500h600v-160H180v160Zm220 220h160v-160H400v160Zm0 220h160v-160H400v160ZM180-400h160v-160H180v160Zm440 0h160v-160H620v160ZM180-180h160v-160H180v160Zm440 0h160v-160H620v160Z\"/>\n",
              "  </svg>\n",
              "    </button>\n",
              "\n",
              "  <style>\n",
              "    .colab-df-container {\n",
              "      display:flex;\n",
              "      gap: 12px;\n",
              "    }\n",
              "\n",
              "    .colab-df-convert {\n",
              "      background-color: #E8F0FE;\n",
              "      border: none;\n",
              "      border-radius: 50%;\n",
              "      cursor: pointer;\n",
              "      display: none;\n",
              "      fill: #1967D2;\n",
              "      height: 32px;\n",
              "      padding: 0 0 0 0;\n",
              "      width: 32px;\n",
              "    }\n",
              "\n",
              "    .colab-df-convert:hover {\n",
              "      background-color: #E2EBFA;\n",
              "      box-shadow: 0px 1px 2px rgba(60, 64, 67, 0.3), 0px 1px 3px 1px rgba(60, 64, 67, 0.15);\n",
              "      fill: #174EA6;\n",
              "    }\n",
              "\n",
              "    .colab-df-buttons div {\n",
              "      margin-bottom: 4px;\n",
              "    }\n",
              "\n",
              "    [theme=dark] .colab-df-convert {\n",
              "      background-color: #3B4455;\n",
              "      fill: #D2E3FC;\n",
              "    }\n",
              "\n",
              "    [theme=dark] .colab-df-convert:hover {\n",
              "      background-color: #434B5C;\n",
              "      box-shadow: 0px 1px 3px 1px rgba(0, 0, 0, 0.15);\n",
              "      filter: drop-shadow(0px 1px 2px rgba(0, 0, 0, 0.3));\n",
              "      fill: #FFFFFF;\n",
              "    }\n",
              "  </style>\n",
              "\n",
              "    <script>\n",
              "      const buttonEl =\n",
              "        document.querySelector('#df-c8358581-5007-42e1-aa66-2310f97cdb95 button.colab-df-convert');\n",
              "      buttonEl.style.display =\n",
              "        google.colab.kernel.accessAllowed ? 'block' : 'none';\n",
              "\n",
              "      async function convertToInteractive(key) {\n",
              "        const element = document.querySelector('#df-c8358581-5007-42e1-aa66-2310f97cdb95');\n",
              "        const dataTable =\n",
              "          await google.colab.kernel.invokeFunction('convertToInteractive',\n",
              "                                                    [key], {});\n",
              "        if (!dataTable) return;\n",
              "\n",
              "        const docLinkHtml = 'Like what you see? Visit the ' +\n",
              "          '<a target=\"_blank\" href=https://colab.research.google.com/notebooks/data_table.ipynb>data table notebook</a>'\n",
              "          + ' to learn more about interactive tables.';\n",
              "        element.innerHTML = '';\n",
              "        dataTable['output_type'] = 'display_data';\n",
              "        await google.colab.output.renderOutput(dataTable, element);\n",
              "        const docLink = document.createElement('div');\n",
              "        docLink.innerHTML = docLinkHtml;\n",
              "        element.appendChild(docLink);\n",
              "      }\n",
              "    </script>\n",
              "  </div>\n",
              "\n",
              "\n",
              "<div id=\"df-028f2d5c-3acd-40b4-815e-51b114ee48d7\">\n",
              "  <button class=\"colab-df-quickchart\" onclick=\"quickchart('df-028f2d5c-3acd-40b4-815e-51b114ee48d7')\"\n",
              "            title=\"Suggest charts\"\n",
              "            style=\"display:none;\">\n",
              "\n",
              "<svg xmlns=\"http://www.w3.org/2000/svg\" height=\"24px\"viewBox=\"0 0 24 24\"\n",
              "     width=\"24px\">\n",
              "    <g>\n",
              "        <path d=\"M19 3H5c-1.1 0-2 .9-2 2v14c0 1.1.9 2 2 2h14c1.1 0 2-.9 2-2V5c0-1.1-.9-2-2-2zM9 17H7v-7h2v7zm4 0h-2V7h2v10zm4 0h-2v-4h2v4z\"/>\n",
              "    </g>\n",
              "</svg>\n",
              "  </button>\n",
              "\n",
              "<style>\n",
              "  .colab-df-quickchart {\n",
              "      --bg-color: #E8F0FE;\n",
              "      --fill-color: #1967D2;\n",
              "      --hover-bg-color: #E2EBFA;\n",
              "      --hover-fill-color: #174EA6;\n",
              "      --disabled-fill-color: #AAA;\n",
              "      --disabled-bg-color: #DDD;\n",
              "  }\n",
              "\n",
              "  [theme=dark] .colab-df-quickchart {\n",
              "      --bg-color: #3B4455;\n",
              "      --fill-color: #D2E3FC;\n",
              "      --hover-bg-color: #434B5C;\n",
              "      --hover-fill-color: #FFFFFF;\n",
              "      --disabled-bg-color: #3B4455;\n",
              "      --disabled-fill-color: #666;\n",
              "  }\n",
              "\n",
              "  .colab-df-quickchart {\n",
              "    background-color: var(--bg-color);\n",
              "    border: none;\n",
              "    border-radius: 50%;\n",
              "    cursor: pointer;\n",
              "    display: none;\n",
              "    fill: var(--fill-color);\n",
              "    height: 32px;\n",
              "    padding: 0;\n",
              "    width: 32px;\n",
              "  }\n",
              "\n",
              "  .colab-df-quickchart:hover {\n",
              "    background-color: var(--hover-bg-color);\n",
              "    box-shadow: 0 1px 2px rgba(60, 64, 67, 0.3), 0 1px 3px 1px rgba(60, 64, 67, 0.15);\n",
              "    fill: var(--button-hover-fill-color);\n",
              "  }\n",
              "\n",
              "  .colab-df-quickchart-complete:disabled,\n",
              "  .colab-df-quickchart-complete:disabled:hover {\n",
              "    background-color: var(--disabled-bg-color);\n",
              "    fill: var(--disabled-fill-color);\n",
              "    box-shadow: none;\n",
              "  }\n",
              "\n",
              "  .colab-df-spinner {\n",
              "    border: 2px solid var(--fill-color);\n",
              "    border-color: transparent;\n",
              "    border-bottom-color: var(--fill-color);\n",
              "    animation:\n",
              "      spin 1s steps(1) infinite;\n",
              "  }\n",
              "\n",
              "  @keyframes spin {\n",
              "    0% {\n",
              "      border-color: transparent;\n",
              "      border-bottom-color: var(--fill-color);\n",
              "      border-left-color: var(--fill-color);\n",
              "    }\n",
              "    20% {\n",
              "      border-color: transparent;\n",
              "      border-left-color: var(--fill-color);\n",
              "      border-top-color: var(--fill-color);\n",
              "    }\n",
              "    30% {\n",
              "      border-color: transparent;\n",
              "      border-left-color: var(--fill-color);\n",
              "      border-top-color: var(--fill-color);\n",
              "      border-right-color: var(--fill-color);\n",
              "    }\n",
              "    40% {\n",
              "      border-color: transparent;\n",
              "      border-right-color: var(--fill-color);\n",
              "      border-top-color: var(--fill-color);\n",
              "    }\n",
              "    60% {\n",
              "      border-color: transparent;\n",
              "      border-right-color: var(--fill-color);\n",
              "    }\n",
              "    80% {\n",
              "      border-color: transparent;\n",
              "      border-right-color: var(--fill-color);\n",
              "      border-bottom-color: var(--fill-color);\n",
              "    }\n",
              "    90% {\n",
              "      border-color: transparent;\n",
              "      border-bottom-color: var(--fill-color);\n",
              "    }\n",
              "  }\n",
              "</style>\n",
              "\n",
              "  <script>\n",
              "    async function quickchart(key) {\n",
              "      const quickchartButtonEl =\n",
              "        document.querySelector('#' + key + ' button');\n",
              "      quickchartButtonEl.disabled = true;  // To prevent multiple clicks.\n",
              "      quickchartButtonEl.classList.add('colab-df-spinner');\n",
              "      try {\n",
              "        const charts = await google.colab.kernel.invokeFunction(\n",
              "            'suggestCharts', [key], {});\n",
              "      } catch (error) {\n",
              "        console.error('Error during call to suggestCharts:', error);\n",
              "      }\n",
              "      quickchartButtonEl.classList.remove('colab-df-spinner');\n",
              "      quickchartButtonEl.classList.add('colab-df-quickchart-complete');\n",
              "    }\n",
              "    (() => {\n",
              "      let quickchartButtonEl =\n",
              "        document.querySelector('#df-028f2d5c-3acd-40b4-815e-51b114ee48d7 button');\n",
              "      quickchartButtonEl.style.display =\n",
              "        google.colab.kernel.accessAllowed ? 'block' : 'none';\n",
              "    })();\n",
              "  </script>\n",
              "</div>\n",
              "    </div>\n",
              "  </div>\n"
            ],
            "text/plain": [
              "   GGGrade  Validation  Yearly_Income  Home_Status  Lend_Amount  \\\n",
              "0        1           0         123200            0        10260   \n",
              "1        1           0         255200            2        27916   \n",
              "2        2           2          98842            1        14535   \n",
              "3        2           0         149600            0         6840   \n",
              "4        2           0          70400            0        10260   \n",
              "\n",
              "   Deprecatory_Records  Interest_Charged  Inquiries  Present_Balance  \\\n",
              "0                    0             18.94          0           175923   \n",
              "1                    0             13.27          1           628237   \n",
              "2                    0             15.84          0            66999   \n",
              "3                    0             21.80          0           471337   \n",
              "4                    0             20.11          0           166497   \n",
              "\n",
              "   Gross_Collection  ...  Reason  Due_Fee  Home0  Home1  Home2  Home3  Home4  \\\n",
              "0                 0  ...      12      0.0      0      0      0      0      0   \n",
              "1                 0  ...      12      0.0      2      2      2      2      2   \n",
              "2                 0  ...      12      0.0      1      1      1      1      1   \n",
              "3                 0  ...      12      0.0      0      0      0      0      0   \n",
              "4                 0  ...      12      0.0      0      0      0      0      0   \n",
              "\n",
              "   Duration[3]  Duration[5]  Default  \n",
              "0            1            1        0  \n",
              "1            1            1        1  \n",
              "2            1            1        0  \n",
              "3            1            1        0  \n",
              "4            1            1        0  \n",
              "\n",
              "[5 rows x 24 columns]"
            ]
          },
          "execution_count": 29,
          "metadata": {},
          "output_type": "execute_result"
        }
      ],
      "source": [
        "df.head()"
      ]
    },
    {
      "cell_type": "code",
      "execution_count": 30,
      "metadata": {
        "colab": {
          "base_uri": "https://localhost:8080/",
          "height": 740
        },
        "id": "7K0roARW6Ss0",
        "outputId": "d49d68b7-c995-4fed-9eee-c009e66892ee"
      },
      "outputs": [
        {
          "name": "stdout",
          "output_type": "stream",
          "text": [
            "Dataset size: 87499\n",
            "Dataset shape: (87499, 24)\n"
          ]
        },
        {
          "data": {
            "image/png": "[encoded data removed]",
            "text/plain": [
              "<Figure size 1200x800 with 1 Axes>"
            ]
          },
          "metadata": {},
          "output_type": "display_data"
        }
      ],
      "source": [
        "print(\"Dataset size:\", len(df))\n",
        "print(\"Dataset shape:\", df.shape)\n",
        "df['Default'].hist();\n",
        "plt.title('Default')\n",
        "plt.xlabel('0, 1')\n",
        "plt.ylabel('Frequency')\n",
        "plt.xticks([0,1]);"
      ]
    },
    {
      "cell_type": "markdown",
      "metadata": {
        "id": "8BrMzrWiaUnW"
      },
      "source": [
        "# 03. Logistic regression with Sci-kit learn and Bayesian Approach"
      ]
    },
    {
      "cell_type": "markdown",
      "metadata": {
        "id": "Omr7X5-biEKz"
      },
      "source": [
        "In this section we build and compare several library classification models and we experiment with different feature sets."
      ]
    },
    {
      "cell_type": "markdown",
      "metadata": {
        "id": "A-TLHgR8wfzn"
      },
      "source": [
        "## 03.01. Preparing Train/Test datasets"
      ]
    },
    {
      "cell_type": "code",
      "execution_count": 31,
      "metadata": {
        "colab": {
          "base_uri": "https://localhost:8080/",
          "height": 273
        },
        "id": "KHMaClHNwlLR",
        "outputId": "f3e30450-ab71-4438-b95b-dedbfc945449"
      },
      "outputs": [
        {
          "name": "stdout",
          "output_type": "stream",
          "text": [
            "(87499, 24)\n"
          ]
        },
        {
          "data": {
            "application/vnd.google.colaboratory.intrinsic+json": {
              "type": "dataframe",
              "variable_name": "final_df"
            },
            "text/html": [
              "\n",
              "  <div id=\"df-cfea9363-098d-4e0b-b9ac-84a4175dfe91\" class=\"colab-df-container\">\n",
              "    <div>\n",
              "<style scoped>\n",
              "    .dataframe tbody tr th:only-of-type {\n",
              "        vertical-align: middle;\n",
              "    }\n",
              "\n",
              "    .dataframe tbody tr th {\n",
              "        vertical-align: top;\n",
              "    }\n",
              "\n",
              "    .dataframe thead th {\n",
              "        text-align: right;\n",
              "    }\n",
              "</style>\n",
              "<table border=\"1\" class=\"dataframe\">\n",
              "  <thead>\n",
              "    <tr style=\"text-align: right;\">\n",
              "      <th></th>\n",
              "      <th>GGGrade</th>\n",
              "      <th>Validation</th>\n",
              "      <th>Yearly_Income</th>\n",
              "      <th>Home_Status</th>\n",
              "      <th>Lend_Amount</th>\n",
              "      <th>Deprecatory_Records</th>\n",
              "      <th>Interest_Charged</th>\n",
              "      <th>Inquiries</th>\n",
              "      <th>Present_Balance</th>\n",
              "      <th>Gross_Collection</th>\n",
              "      <th>...</th>\n",
              "      <th>Reason</th>\n",
              "      <th>Due_Fee</th>\n",
              "      <th>Home0</th>\n",
              "      <th>Home1</th>\n",
              "      <th>Home2</th>\n",
              "      <th>Home3</th>\n",
              "      <th>Home4</th>\n",
              "      <th>Duration[3]</th>\n",
              "      <th>Duration[5]</th>\n",
              "      <th>Default</th>\n",
              "    </tr>\n",
              "  </thead>\n",
              "  <tbody>\n",
              "    <tr>\n",
              "      <th>0</th>\n",
              "      <td>1</td>\n",
              "      <td>0</td>\n",
              "      <td>123200</td>\n",
              "      <td>0</td>\n",
              "      <td>10260</td>\n",
              "      <td>0</td>\n",
              "      <td>18.94</td>\n",
              "      <td>0</td>\n",
              "      <td>175923</td>\n",
              "      <td>0</td>\n",
              "      <td>...</td>\n",
              "      <td>12</td>\n",
              "      <td>0.0</td>\n",
              "      <td>0</td>\n",
              "      <td>0</td>\n",
              "      <td>0</td>\n",
              "      <td>0</td>\n",
              "      <td>0</td>\n",
              "      <td>1</td>\n",
              "      <td>1</td>\n",
              "      <td>0</td>\n",
              "    </tr>\n",
              "    <tr>\n",
              "      <th>1</th>\n",
              "      <td>1</td>\n",
              "      <td>0</td>\n",
              "      <td>255200</td>\n",
              "      <td>2</td>\n",
              "      <td>27916</td>\n",
              "      <td>0</td>\n",
              "      <td>13.27</td>\n",
              "      <td>1</td>\n",
              "      <td>628237</td>\n",
              "      <td>0</td>\n",
              "      <td>...</td>\n",
              "      <td>12</td>\n",
              "      <td>0.0</td>\n",
              "      <td>2</td>\n",
              "      <td>2</td>\n",
              "      <td>2</td>\n",
              "      <td>2</td>\n",
              "      <td>2</td>\n",
              "      <td>1</td>\n",
              "      <td>1</td>\n",
              "      <td>1</td>\n",
              "    </tr>\n",
              "    <tr>\n",
              "      <th>2</th>\n",
              "      <td>2</td>\n",
              "      <td>2</td>\n",
              "      <td>98842</td>\n",
              "      <td>1</td>\n",
              "      <td>14535</td>\n",
              "      <td>0</td>\n",
              "      <td>15.84</td>\n",
              "      <td>0</td>\n",
              "      <td>66999</td>\n",
              "      <td>0</td>\n",
              "      <td>...</td>\n",
              "      <td>12</td>\n",
              "      <td>0.0</td>\n",
              "      <td>1</td>\n",
              "      <td>1</td>\n",
              "      <td>1</td>\n",
              "      <td>1</td>\n",
              "      <td>1</td>\n",
              "      <td>1</td>\n",
              "      <td>1</td>\n",
              "      <td>0</td>\n",
              "    </tr>\n",
              "    <tr>\n",
              "      <th>3</th>\n",
              "      <td>2</td>\n",
              "      <td>0</td>\n",
              "      <td>149600</td>\n",
              "      <td>0</td>\n",
              "      <td>6840</td>\n",
              "      <td>0</td>\n",
              "      <td>21.80</td>\n",
              "      <td>0</td>\n",
              "      <td>471337</td>\n",
              "      <td>0</td>\n",
              "      <td>...</td>\n",
              "      <td>12</td>\n",
              "      <td>0.0</td>\n",
              "      <td>0</td>\n",
              "      <td>0</td>\n",
              "      <td>0</td>\n",
              "      <td>0</td>\n",
              "      <td>0</td>\n",
              "      <td>1</td>\n",
              "      <td>1</td>\n",
              "      <td>0</td>\n",
              "    </tr>\n",
              "    <tr>\n",
              "      <th>4</th>\n",
              "      <td>2</td>\n",
              "      <td>0</td>\n",
              "      <td>70400</td>\n",
              "      <td>0</td>\n",
              "      <td>10260</td>\n",
              "      <td>0</td>\n",
              "      <td>20.11</td>\n",
              "      <td>0</td>\n",
              "      <td>166497</td>\n",
              "      <td>0</td>\n",
              "      <td>...</td>\n",
              "      <td>12</td>\n",
              "      <td>0.0</td>\n",
              "      <td>0</td>\n",
              "      <td>0</td>\n",
              "      <td>0</td>\n",
              "      <td>0</td>\n",
              "      <td>0</td>\n",
              "      <td>1</td>\n",
              "      <td>1</td>\n",
              "      <td>0</td>\n",
              "    </tr>\n",
              "  </tbody>\n",
              "</table>\n",
              "<p>5 rows × 24 columns</p>\n",
              "</div>\n",
              "    <div class=\"colab-df-buttons\">\n",
              "\n",
              "  <div class=\"colab-df-container\">\n",
              "    <button class=\"colab-df-convert\" onclick=\"convertToInteractive('df-cfea9363-098d-4e0b-b9ac-84a4175dfe91')\"\n",
              "            title=\"Convert this dataframe to an interactive table.\"\n",
              "            style=\"display:none;\">\n",
              "\n",
              "  <svg xmlns=\"http://www.w3.org/2000/svg\" height=\"24px\" viewBox=\"0 -960 960 960\">\n",
              "    <path d=\"M120-120v-720h720v720H120Zm60-500h600v-160H180v160Zm220 220h160v-160H400v160Zm0 220h160v-160H400v160ZM180-400h160v-160H180v160Zm440 0h160v-160H620v160ZM180-180h160v-160H180v160Zm440 0h160v-160H620v160Z\"/>\n",
              "  </svg>\n",
              "    </button>\n",
              "\n",
              "  <style>\n",
              "    .colab-df-container {\n",
              "      display:flex;\n",
              "      gap: 12px;\n",
              "    }\n",
              "\n",
              "    .colab-df-convert {\n",
              "      background-color: #E8F0FE;\n",
              "      border: none;\n",
              "      border-radius: 50%;\n",
              "      cursor: pointer;\n",
              "      display: none;\n",
              "      fill: #1967D2;\n",
              "      height: 32px;\n",
              "      padding: 0 0 0 0;\n",
              "      width: 32px;\n",
              "    }\n",
              "\n",
              "    .colab-df-convert:hover {\n",
              "      background-color: #E2EBFA;\n",
              "      box-shadow: 0px 1px 2px rgba(60, 64, 67, 0.3), 0px 1px 3px 1px rgba(60, 64, 67, 0.15);\n",
              "      fill: #174EA6;\n",
              "    }\n",
              "\n",
              "    .colab-df-buttons div {\n",
              "      margin-bottom: 4px;\n",
              "    }\n",
              "\n",
              "    [theme=dark] .colab-df-convert {\n",
              "      background-color: #3B4455;\n",
              "      fill: #D2E3FC;\n",
              "    }\n",
              "\n",
              "    [theme=dark] .colab-df-convert:hover {\n",
              "      background-color: #434B5C;\n",
              "      box-shadow: 0px 1px 3px 1px rgba(0, 0, 0, 0.15);\n",
              "      filter: drop-shadow(0px 1px 2px rgba(0, 0, 0, 0.3));\n",
              "      fill: #FFFFFF;\n",
              "    }\n",
              "  </style>\n",
              "\n",
              "    <script>\n",
              "      const buttonEl =\n",
              "        document.querySelector('#df-cfea9363-098d-4e0b-b9ac-84a4175dfe91 button.colab-df-convert');\n",
              "      buttonEl.style.display =\n",
              "        google.colab.kernel.accessAllowed ? 'block' : 'none';\n",
              "\n",
              "      async function convertToInteractive(key) {\n",
              "        const element = document.querySelector('#df-cfea9363-098d-4e0b-b9ac-84a4175dfe91');\n",
              "        const dataTable =\n",
              "          await google.colab.kernel.invokeFunction('convertToInteractive',\n",
              "                                                    [key], {});\n",
              "        if (!dataTable) return;\n",
              "\n",
              "        const docLinkHtml = 'Like what you see? Visit the ' +\n",
              "          '<a target=\"_blank\" href=https://colab.research.google.com/notebooks/data_table.ipynb>data table notebook</a>'\n",
              "          + ' to learn more about interactive tables.';\n",
              "        element.innerHTML = '';\n",
              "        dataTable['output_type'] = 'display_data';\n",
              "        await google.colab.output.renderOutput(dataTable, element);\n",
              "        const docLink = document.createElement('div');\n",
              "        docLink.innerHTML = docLinkHtml;\n",
              "        element.appendChild(docLink);\n",
              "      }\n",
              "    </script>\n",
              "  </div>\n",
              "\n",
              "\n",
              "<div id=\"df-15d21144-beed-480e-93bc-b921e54cc78f\">\n",
              "  <button class=\"colab-df-quickchart\" onclick=\"quickchart('df-15d21144-beed-480e-93bc-b921e54cc78f')\"\n",
              "            title=\"Suggest charts\"\n",
              "            style=\"display:none;\">\n",
              "\n",
              "<svg xmlns=\"http://www.w3.org/2000/svg\" height=\"24px\"viewBox=\"0 0 24 24\"\n",
              "     width=\"24px\">\n",
              "    <g>\n",
              "        <path d=\"M19 3H5c-1.1 0-2 .9-2 2v14c0 1.1.9 2 2 2h14c1.1 0 2-.9 2-2V5c0-1.1-.9-2-2-2zM9 17H7v-7h2v7zm4 0h-2V7h2v10zm4 0h-2v-4h2v4z\"/>\n",
              "    </g>\n",
              "</svg>\n",
              "  </button>\n",
              "\n",
              "<style>\n",
              "  .colab-df-quickchart {\n",
              "      --bg-color: #E8F0FE;\n",
              "      --fill-color: #1967D2;\n",
              "      --hover-bg-color: #E2EBFA;\n",
              "      --hover-fill-color: #174EA6;\n",
              "      --disabled-fill-color: #AAA;\n",
              "      --disabled-bg-color: #DDD;\n",
              "  }\n",
              "\n",
              "  [theme=dark] .colab-df-quickchart {\n",
              "      --bg-color: #3B4455;\n",
              "      --fill-color: #D2E3FC;\n",
              "      --hover-bg-color: #434B5C;\n",
              "      --hover-fill-color: #FFFFFF;\n",
              "      --disabled-bg-color: #3B4455;\n",
              "      --disabled-fill-color: #666;\n",
              "  }\n",
              "\n",
              "  .colab-df-quickchart {\n",
              "    background-color: var(--bg-color);\n",
              "    border: none;\n",
              "    border-radius: 50%;\n",
              "    cursor: pointer;\n",
              "    display: none;\n",
              "    fill: var(--fill-color);\n",
              "    height: 32px;\n",
              "    padding: 0;\n",
              "    width: 32px;\n",
              "  }\n",
              "\n",
              "  .colab-df-quickchart:hover {\n",
              "    background-color: var(--hover-bg-color);\n",
              "    box-shadow: 0 1px 2px rgba(60, 64, 67, 0.3), 0 1px 3px 1px rgba(60, 64, 67, 0.15);\n",
              "    fill: var(--button-hover-fill-color);\n",
              "  }\n",
              "\n",
              "  .colab-df-quickchart-complete:disabled,\n",
              "  .colab-df-quickchart-complete:disabled:hover {\n",
              "    background-color: var(--disabled-bg-color);\n",
              "    fill: var(--disabled-fill-color);\n",
              "    box-shadow: none;\n",
              "  }\n",
              "\n",
              "  .colab-df-spinner {\n",
              "    border: 2px solid var(--fill-color);\n",
              "    border-color: transparent;\n",
              "    border-bottom-color: var(--fill-color);\n",
              "    animation:\n",
              "      spin 1s steps(1) infinite;\n",
              "  }\n",
              "\n",
              "  @keyframes spin {\n",
              "    0% {\n",
              "      border-color: transparent;\n",
              "      border-bottom-color: var(--fill-color);\n",
              "      border-left-color: var(--fill-color);\n",
              "    }\n",
              "    20% {\n",
              "      border-color: transparent;\n",
              "      border-left-color: var(--fill-color);\n",
              "      border-top-color: var(--fill-color);\n",
              "    }\n",
              "    30% {\n",
              "      border-color: transparent;\n",
              "      border-left-color: var(--fill-color);\n",
              "      border-top-color: var(--fill-color);\n",
              "      border-right-color: var(--fill-color);\n",
              "    }\n",
              "    40% {\n",
              "      border-color: transparent;\n",
              "      border-right-color: var(--fill-color);\n",
              "      border-top-color: var(--fill-color);\n",
              "    }\n",
              "    60% {\n",
              "      border-color: transparent;\n",
              "      border-right-color: var(--fill-color);\n",
              "    }\n",
              "    80% {\n",
              "      border-color: transparent;\n",
              "      border-right-color: var(--fill-color);\n",
              "      border-bottom-color: var(--fill-color);\n",
              "    }\n",
              "    90% {\n",
              "      border-color: transparent;\n",
              "      border-bottom-color: var(--fill-color);\n",
              "    }\n",
              "  }\n",
              "</style>\n",
              "\n",
              "  <script>\n",
              "    async function quickchart(key) {\n",
              "      const quickchartButtonEl =\n",
              "        document.querySelector('#' + key + ' button');\n",
              "      quickchartButtonEl.disabled = true;  // To prevent multiple clicks.\n",
              "      quickchartButtonEl.classList.add('colab-df-spinner');\n",
              "      try {\n",
              "        const charts = await google.colab.kernel.invokeFunction(\n",
              "            'suggestCharts', [key], {});\n",
              "      } catch (error) {\n",
              "        console.error('Error during call to suggestCharts:', error);\n",
              "      }\n",
              "      quickchartButtonEl.classList.remove('colab-df-spinner');\n",
              "      quickchartButtonEl.classList.add('colab-df-quickchart-complete');\n",
              "    }\n",
              "    (() => {\n",
              "      let quickchartButtonEl =\n",
              "        document.querySelector('#df-15d21144-beed-480e-93bc-b921e54cc78f button');\n",
              "      quickchartButtonEl.style.display =\n",
              "        google.colab.kernel.accessAllowed ? 'block' : 'none';\n",
              "    })();\n",
              "  </script>\n",
              "</div>\n",
              "    </div>\n",
              "  </div>\n"
            ],
            "text/plain": [
              "   GGGrade  Validation  Yearly_Income  Home_Status  Lend_Amount  \\\n",
              "0        1           0         123200            0        10260   \n",
              "1        1           0         255200            2        27916   \n",
              "2        2           2          98842            1        14535   \n",
              "3        2           0         149600            0         6840   \n",
              "4        2           0          70400            0        10260   \n",
              "\n",
              "   Deprecatory_Records  Interest_Charged  Inquiries  Present_Balance  \\\n",
              "0                    0             18.94          0           175923   \n",
              "1                    0             13.27          1           628237   \n",
              "2                    0             15.84          0            66999   \n",
              "3                    0             21.80          0           471337   \n",
              "4                    0             20.11          0           166497   \n",
              "\n",
              "   Gross_Collection  ...  Reason  Due_Fee  Home0  Home1  Home2  Home3  Home4  \\\n",
              "0                 0  ...      12      0.0      0      0      0      0      0   \n",
              "1                 0  ...      12      0.0      2      2      2      2      2   \n",
              "2                 0  ...      12      0.0      1      1      1      1      1   \n",
              "3                 0  ...      12      0.0      0      0      0      0      0   \n",
              "4                 0  ...      12      0.0      0      0      0      0      0   \n",
              "\n",
              "   Duration[3]  Duration[5]  Default  \n",
              "0            1            1        0  \n",
              "1            1            1        1  \n",
              "2            1            1        0  \n",
              "3            1            1        0  \n",
              "4            1            1        0  \n",
              "\n",
              "[5 rows x 24 columns]"
            ]
          },
          "execution_count": 31,
          "metadata": {},
          "output_type": "execute_result"
        }
      ],
      "source": [
        "final_df = df\n",
        "\n",
        "print(final_df.shape)\n",
        "final_df.head()"
      ]
    },
    {
      "cell_type": "code",
      "execution_count": 32,
      "metadata": {
        "id": "IRdd_-wUw9sk"
      },
      "outputs": [],
      "source": [
        "# shuffle\n",
        "final_df = final_df.sample(frac=1).reset_index(drop=True)"
      ]
    },
    {
      "cell_type": "code",
      "execution_count": 33,
      "metadata": {
        "colab": {
          "base_uri": "https://localhost:8080/",
          "height": 273
        },
        "id": "00aOoqhpxDlt",
        "outputId": "fd0667e0-2499-47d0-8992-4397e54364ba"
      },
      "outputs": [
        {
          "name": "stdout",
          "output_type": "stream",
          "text": [
            "(87499, 24)\n"
          ]
        },
        {
          "data": {
            "application/vnd.google.colaboratory.intrinsic+json": {
              "type": "dataframe",
              "variable_name": "final_df"
            },
            "text/html": [
              "\n",
              "  <div id=\"df-66093c67-e9dc-4107-811e-cef8468725aa\" class=\"colab-df-container\">\n",
              "    <div>\n",
              "<style scoped>\n",
              "    .dataframe tbody tr th:only-of-type {\n",
              "        vertical-align: middle;\n",
              "    }\n",
              "\n",
              "    .dataframe tbody tr th {\n",
              "        vertical-align: top;\n",
              "    }\n",
              "\n",
              "    .dataframe thead th {\n",
              "        text-align: right;\n",
              "    }\n",
              "</style>\n",
              "<table border=\"1\" class=\"dataframe\">\n",
              "  <thead>\n",
              "    <tr style=\"text-align: right;\">\n",
              "      <th></th>\n",
              "      <th>GGGrade</th>\n",
              "      <th>Validation</th>\n",
              "      <th>Yearly_Income</th>\n",
              "      <th>Home_Status</th>\n",
              "      <th>Lend_Amount</th>\n",
              "      <th>Deprecatory_Records</th>\n",
              "      <th>Interest_Charged</th>\n",
              "      <th>Inquiries</th>\n",
              "      <th>Present_Balance</th>\n",
              "      <th>Gross_Collection</th>\n",
              "      <th>...</th>\n",
              "      <th>Reason</th>\n",
              "      <th>Due_Fee</th>\n",
              "      <th>Home0</th>\n",
              "      <th>Home1</th>\n",
              "      <th>Home2</th>\n",
              "      <th>Home3</th>\n",
              "      <th>Home4</th>\n",
              "      <th>Duration[3]</th>\n",
              "      <th>Duration[5]</th>\n",
              "      <th>Default</th>\n",
              "    </tr>\n",
              "  </thead>\n",
              "  <tbody>\n",
              "    <tr>\n",
              "      <th>0</th>\n",
              "      <td>1</td>\n",
              "      <td>2</td>\n",
              "      <td>383680</td>\n",
              "      <td>0</td>\n",
              "      <td>41040</td>\n",
              "      <td>0</td>\n",
              "      <td>9.84</td>\n",
              "      <td>0</td>\n",
              "      <td>1434440</td>\n",
              "      <td>0</td>\n",
              "      <td>...</td>\n",
              "      <td>2</td>\n",
              "      <td>0.0</td>\n",
              "      <td>0</td>\n",
              "      <td>0</td>\n",
              "      <td>0</td>\n",
              "      <td>0</td>\n",
              "      <td>0</td>\n",
              "      <td>1</td>\n",
              "      <td>1</td>\n",
              "      <td>1</td>\n",
              "    </tr>\n",
              "    <tr>\n",
              "      <th>1</th>\n",
              "      <td>4</td>\n",
              "      <td>1</td>\n",
              "      <td>61600</td>\n",
              "      <td>1</td>\n",
              "      <td>17100</td>\n",
              "      <td>0</td>\n",
              "      <td>21.84</td>\n",
              "      <td>1</td>\n",
              "      <td>15999</td>\n",
              "      <td>0</td>\n",
              "      <td>...</td>\n",
              "      <td>1</td>\n",
              "      <td>0.0</td>\n",
              "      <td>1</td>\n",
              "      <td>1</td>\n",
              "      <td>1</td>\n",
              "      <td>1</td>\n",
              "      <td>1</td>\n",
              "      <td>1</td>\n",
              "      <td>1</td>\n",
              "      <td>0</td>\n",
              "    </tr>\n",
              "    <tr>\n",
              "      <th>2</th>\n",
              "      <td>2</td>\n",
              "      <td>1</td>\n",
              "      <td>0</td>\n",
              "      <td>0</td>\n",
              "      <td>25137</td>\n",
              "      <td>1</td>\n",
              "      <td>18.44</td>\n",
              "      <td>2</td>\n",
              "      <td>155285</td>\n",
              "      <td>0</td>\n",
              "      <td>...</td>\n",
              "      <td>1</td>\n",
              "      <td>0.0</td>\n",
              "      <td>0</td>\n",
              "      <td>0</td>\n",
              "      <td>0</td>\n",
              "      <td>0</td>\n",
              "      <td>0</td>\n",
              "      <td>1</td>\n",
              "      <td>1</td>\n",
              "      <td>0</td>\n",
              "    </tr>\n",
              "    <tr>\n",
              "      <th>3</th>\n",
              "      <td>4</td>\n",
              "      <td>2</td>\n",
              "      <td>619520</td>\n",
              "      <td>0</td>\n",
              "      <td>41040</td>\n",
              "      <td>0</td>\n",
              "      <td>17.73</td>\n",
              "      <td>1</td>\n",
              "      <td>988491</td>\n",
              "      <td>0</td>\n",
              "      <td>...</td>\n",
              "      <td>2</td>\n",
              "      <td>0.0</td>\n",
              "      <td>0</td>\n",
              "      <td>0</td>\n",
              "      <td>0</td>\n",
              "      <td>0</td>\n",
              "      <td>0</td>\n",
              "      <td>1</td>\n",
              "      <td>1</td>\n",
              "      <td>1</td>\n",
              "    </tr>\n",
              "    <tr>\n",
              "      <th>4</th>\n",
              "      <td>3</td>\n",
              "      <td>0</td>\n",
              "      <td>179520</td>\n",
              "      <td>2</td>\n",
              "      <td>30780</td>\n",
              "      <td>1</td>\n",
              "      <td>17.89</td>\n",
              "      <td>0</td>\n",
              "      <td>325889</td>\n",
              "      <td>0</td>\n",
              "      <td>...</td>\n",
              "      <td>2</td>\n",
              "      <td>0.0</td>\n",
              "      <td>2</td>\n",
              "      <td>2</td>\n",
              "      <td>2</td>\n",
              "      <td>2</td>\n",
              "      <td>2</td>\n",
              "      <td>0</td>\n",
              "      <td>0</td>\n",
              "      <td>0</td>\n",
              "    </tr>\n",
              "  </tbody>\n",
              "</table>\n",
              "<p>5 rows × 24 columns</p>\n",
              "</div>\n",
              "    <div class=\"colab-df-buttons\">\n",
              "\n",
              "  <div class=\"colab-df-container\">\n",
              "    <button class=\"colab-df-convert\" onclick=\"convertToInteractive('df-66093c67-e9dc-4107-811e-cef8468725aa')\"\n",
              "            title=\"Convert this dataframe to an interactive table.\"\n",
              "            style=\"display:none;\">\n",
              "\n",
              "  <svg xmlns=\"http://www.w3.org/2000/svg\" height=\"24px\" viewBox=\"0 -960 960 960\">\n",
              "    <path d=\"M120-120v-720h720v720H120Zm60-500h600v-160H180v160Zm220 220h160v-160H400v160Zm0 220h160v-160H400v160ZM180-400h160v-160H180v160Zm440 0h160v-160H620v160ZM180-180h160v-160H180v160Zm440 0h160v-160H620v160Z\"/>\n",
              "  </svg>\n",
              "    </button>\n",
              "\n",
              "  <style>\n",
              "    .colab-df-container {\n",
              "      display:flex;\n",
              "      gap: 12px;\n",
              "    }\n",
              "\n",
              "    .colab-df-convert {\n",
              "      background-color: #E8F0FE;\n",
              "      border: none;\n",
              "      border-radius: 50%;\n",
              "      cursor: pointer;\n",
              "      display: none;\n",
              "      fill: #1967D2;\n",
              "      height: 32px;\n",
              "      padding: 0 0 0 0;\n",
              "      width: 32px;\n",
              "    }\n",
              "\n",
              "    .colab-df-convert:hover {\n",
              "      background-color: #E2EBFA;\n",
              "      box-shadow: 0px 1px 2px rgba(60, 64, 67, 0.3), 0px 1px 3px 1px rgba(60, 64, 67, 0.15);\n",
              "      fill: #174EA6;\n",
              "    }\n",
              "\n",
              "    .colab-df-buttons div {\n",
              "      margin-bottom: 4px;\n",
              "    }\n",
              "\n",
              "    [theme=dark] .colab-df-convert {\n",
              "      background-color: #3B4455;\n",
              "      fill: #D2E3FC;\n",
              "    }\n",
              "\n",
              "    [theme=dark] .colab-df-convert:hover {\n",
              "      background-color: #434B5C;\n",
              "      box-shadow: 0px 1px 3px 1px rgba(0, 0, 0, 0.15);\n",
              "      filter: drop-shadow(0px 1px 2px rgba(0, 0, 0, 0.3));\n",
              "      fill: #FFFFFF;\n",
              "    }\n",
              "  </style>\n",
              "\n",
              "    <script>\n",
              "      const buttonEl =\n",
              "        document.querySelector('#df-66093c67-e9dc-4107-811e-cef8468725aa button.colab-df-convert');\n",
              "      buttonEl.style.display =\n",
              "        google.colab.kernel.accessAllowed ? 'block' : 'none';\n",
              "\n",
              "      async function convertToInteractive(key) {\n",
              "        const element = document.querySelector('#df-66093c67-e9dc-4107-811e-cef8468725aa');\n",
              "        const dataTable =\n",
              "          await google.colab.kernel.invokeFunction('convertToInteractive',\n",
              "                                                    [key], {});\n",
              "        if (!dataTable) return;\n",
              "\n",
              "        const docLinkHtml = 'Like what you see? Visit the ' +\n",
              "          '<a target=\"_blank\" href=https://colab.research.google.com/notebooks/data_table.ipynb>data table notebook</a>'\n",
              "          + ' to learn more about interactive tables.';\n",
              "        element.innerHTML = '';\n",
              "        dataTable['output_type'] = 'display_data';\n",
              "        await google.colab.output.renderOutput(dataTable, element);\n",
              "        const docLink = document.createElement('div');\n",
              "        docLink.innerHTML = docLinkHtml;\n",
              "        element.appendChild(docLink);\n",
              "      }\n",
              "    </script>\n",
              "  </div>\n",
              "\n",
              "\n",
              "<div id=\"df-7ab0b51a-f23d-4c22-a649-7573427491fe\">\n",
              "  <button class=\"colab-df-quickchart\" onclick=\"quickchart('df-7ab0b51a-f23d-4c22-a649-7573427491fe')\"\n",
              "            title=\"Suggest charts\"\n",
              "            style=\"display:none;\">\n",
              "\n",
              "<svg xmlns=\"http://www.w3.org/2000/svg\" height=\"24px\"viewBox=\"0 0 24 24\"\n",
              "     width=\"24px\">\n",
              "    <g>\n",
              "        <path d=\"M19 3H5c-1.1 0-2 .9-2 2v14c0 1.1.9 2 2 2h14c1.1 0 2-.9 2-2V5c0-1.1-.9-2-2-2zM9 17H7v-7h2v7zm4 0h-2V7h2v10zm4 0h-2v-4h2v4z\"/>\n",
              "    </g>\n",
              "</svg>\n",
              "  </button>\n",
              "\n",
              "<style>\n",
              "  .colab-df-quickchart {\n",
              "      --bg-color: #E8F0FE;\n",
              "      --fill-color: #1967D2;\n",
              "      --hover-bg-color: #E2EBFA;\n",
              "      --hover-fill-color: #174EA6;\n",
              "      --disabled-fill-color: #AAA;\n",
              "      --disabled-bg-color: #DDD;\n",
              "  }\n",
              "\n",
              "  [theme=dark] .colab-df-quickchart {\n",
              "      --bg-color: #3B4455;\n",
              "      --fill-color: #D2E3FC;\n",
              "      --hover-bg-color: #434B5C;\n",
              "      --hover-fill-color: #FFFFFF;\n",
              "      --disabled-bg-color: #3B4455;\n",
              "      --disabled-fill-color: #666;\n",
              "  }\n",
              "\n",
              "  .colab-df-quickchart {\n",
              "    background-color: var(--bg-color);\n",
              "    border: none;\n",
              "    border-radius: 50%;\n",
              "    cursor: pointer;\n",
              "    display: none;\n",
              "    fill: var(--fill-color);\n",
              "    height: 32px;\n",
              "    padding: 0;\n",
              "    width: 32px;\n",
              "  }\n",
              "\n",
              "  .colab-df-quickchart:hover {\n",
              "    background-color: var(--hover-bg-color);\n",
              "    box-shadow: 0 1px 2px rgba(60, 64, 67, 0.3), 0 1px 3px 1px rgba(60, 64, 67, 0.15);\n",
              "    fill: var(--button-hover-fill-color);\n",
              "  }\n",
              "\n",
              "  .colab-df-quickchart-complete:disabled,\n",
              "  .colab-df-quickchart-complete:disabled:hover {\n",
              "    background-color: var(--disabled-bg-color);\n",
              "    fill: var(--disabled-fill-color);\n",
              "    box-shadow: none;\n",
              "  }\n",
              "\n",
              "  .colab-df-spinner {\n",
              "    border: 2px solid var(--fill-color);\n",
              "    border-color: transparent;\n",
              "    border-bottom-color: var(--fill-color);\n",
              "    animation:\n",
              "      spin 1s steps(1) infinite;\n",
              "  }\n",
              "\n",
              "  @keyframes spin {\n",
              "    0% {\n",
              "      border-color: transparent;\n",
              "      border-bottom-color: var(--fill-color);\n",
              "      border-left-color: var(--fill-color);\n",
              "    }\n",
              "    20% {\n",
              "      border-color: transparent;\n",
              "      border-left-color: var(--fill-color);\n",
              "      border-top-color: var(--fill-color);\n",
              "    }\n",
              "    30% {\n",
              "      border-color: transparent;\n",
              "      border-left-color: var(--fill-color);\n",
              "      border-top-color: var(--fill-color);\n",
              "      border-right-color: var(--fill-color);\n",
              "    }\n",
              "    40% {\n",
              "      border-color: transparent;\n",
              "      border-right-color: var(--fill-color);\n",
              "      border-top-color: var(--fill-color);\n",
              "    }\n",
              "    60% {\n",
              "      border-color: transparent;\n",
              "      border-right-color: var(--fill-color);\n",
              "    }\n",
              "    80% {\n",
              "      border-color: transparent;\n",
              "      border-right-color: var(--fill-color);\n",
              "      border-bottom-color: var(--fill-color);\n",
              "    }\n",
              "    90% {\n",
              "      border-color: transparent;\n",
              "      border-bottom-color: var(--fill-color);\n",
              "    }\n",
              "  }\n",
              "</style>\n",
              "\n",
              "  <script>\n",
              "    async function quickchart(key) {\n",
              "      const quickchartButtonEl =\n",
              "        document.querySelector('#' + key + ' button');\n",
              "      quickchartButtonEl.disabled = true;  // To prevent multiple clicks.\n",
              "      quickchartButtonEl.classList.add('colab-df-spinner');\n",
              "      try {\n",
              "        const charts = await google.colab.kernel.invokeFunction(\n",
              "            'suggestCharts', [key], {});\n",
              "      } catch (error) {\n",
              "        console.error('Error during call to suggestCharts:', error);\n",
              "      }\n",
              "      quickchartButtonEl.classList.remove('colab-df-spinner');\n",
              "      quickchartButtonEl.classList.add('colab-df-quickchart-complete');\n",
              "    }\n",
              "    (() => {\n",
              "      let quickchartButtonEl =\n",
              "        document.querySelector('#df-7ab0b51a-f23d-4c22-a649-7573427491fe button');\n",
              "      quickchartButtonEl.style.display =\n",
              "        google.colab.kernel.accessAllowed ? 'block' : 'none';\n",
              "    })();\n",
              "  </script>\n",
              "</div>\n",
              "    </div>\n",
              "  </div>\n"
            ],
            "text/plain": [
              "   GGGrade  Validation  Yearly_Income  Home_Status  Lend_Amount  \\\n",
              "0        1           2         383680            0        41040   \n",
              "1        4           1          61600            1        17100   \n",
              "2        2           1              0            0        25137   \n",
              "3        4           2         619520            0        41040   \n",
              "4        3           0         179520            2        30780   \n",
              "\n",
              "   Deprecatory_Records  Interest_Charged  Inquiries  Present_Balance  \\\n",
              "0                    0              9.84          0          1434440   \n",
              "1                    0             21.84          1            15999   \n",
              "2                    1             18.44          2           155285   \n",
              "3                    0             17.73          1           988491   \n",
              "4                    1             17.89          0           325889   \n",
              "\n",
              "   Gross_Collection  ...  Reason  Due_Fee  Home0  Home1  Home2  Home3  Home4  \\\n",
              "0                 0  ...       2      0.0      0      0      0      0      0   \n",
              "1                 0  ...       1      0.0      1      1      1      1      1   \n",
              "2                 0  ...       1      0.0      0      0      0      0      0   \n",
              "3                 0  ...       2      0.0      0      0      0      0      0   \n",
              "4                 0  ...       2      0.0      2      2      2      2      2   \n",
              "\n",
              "   Duration[3]  Duration[5]  Default  \n",
              "0            1            1        1  \n",
              "1            1            1        0  \n",
              "2            1            1        0  \n",
              "3            1            1        1  \n",
              "4            0            0        0  \n",
              "\n",
              "[5 rows x 24 columns]"
            ]
          },
          "execution_count": 33,
          "metadata": {},
          "output_type": "execute_result"
        }
      ],
      "source": [
        "print(final_df.shape)\n",
        "final_df.head()"
      ]
    },
    {
      "cell_type": "code",
      "execution_count": 34,
      "metadata": {
        "colab": {
          "base_uri": "https://localhost:8080/"
        },
        "id": "BlfOVJn0xSbH",
        "outputId": "f5f650bf-0ba4-4f06-c1e3-2f15ed07b1fe"
      },
      "outputs": [
        {
          "name": "stdout",
          "output_type": "stream",
          "text": [
            "train df: (61249, 24)\n",
            "test df:  (26249, 24)\n"
          ]
        }
      ],
      "source": [
        "# split train/test\n",
        "train_perc = 0.7 # percentage of training data\n",
        "split_point = int(train_perc*len(final_df))\n",
        "\n",
        "df_train = final_df.iloc[:split_point,:]\n",
        "df_test = final_df.iloc[split_point+1:,:]\n",
        "\n",
        "print(\"train df:\", df_train.shape)\n",
        "print(\"test df: \", df_test.shape)"
      ]
    },
    {
      "cell_type": "markdown",
      "metadata": {
        "id": "Z3RtfaqsAXPK"
      },
      "source": [
        "## 03.02. Bayesian Classifier"
      ]
    },
    {
      "cell_type": "markdown",
      "metadata": {
        "id": "nXKHAbFjzdnC"
      },
      "source": [
        "In this starter model, we train a classifier using all the chosen features from the dataset\n",
        "\n",
        "![LogReg](logreg.png)"
      ]
    },
    {
      "cell_type": "markdown",
      "metadata": {},
      "source": [
        "![LogReg](logreg.png)"
      ]
    },
    {
      "cell_type": "code",
      "execution_count": 35,
      "metadata": {
        "colab": {
          "base_uri": "https://localhost:8080/",
          "height": 255
        },
        "id": "j5tcHJtBAdjL",
        "outputId": "62220c12-aa3a-4908-8684-b3260b2771c6"
      },
      "outputs": [
        {
          "data": {
            "application/vnd.google.colaboratory.intrinsic+json": {
              "type": "dataframe",
              "variable_name": "df_train"
            },
            "text/html": [
              "\n",
              "  <div id=\"df-6be0c33b-53ea-46c6-a827-209e71293ad1\" class=\"colab-df-container\">\n",
              "    <div>\n",
              "<style scoped>\n",
              "    .dataframe tbody tr th:only-of-type {\n",
              "        vertical-align: middle;\n",
              "    }\n",
              "\n",
              "    .dataframe tbody tr th {\n",
              "        vertical-align: top;\n",
              "    }\n",
              "\n",
              "    .dataframe thead th {\n",
              "        text-align: right;\n",
              "    }\n",
              "</style>\n",
              "<table border=\"1\" class=\"dataframe\">\n",
              "  <thead>\n",
              "    <tr style=\"text-align: right;\">\n",
              "      <th></th>\n",
              "      <th>GGGrade</th>\n",
              "      <th>Validation</th>\n",
              "      <th>Yearly_Income</th>\n",
              "      <th>Home_Status</th>\n",
              "      <th>Lend_Amount</th>\n",
              "      <th>Deprecatory_Records</th>\n",
              "      <th>Interest_Charged</th>\n",
              "      <th>Inquiries</th>\n",
              "      <th>Present_Balance</th>\n",
              "      <th>Gross_Collection</th>\n",
              "      <th>...</th>\n",
              "      <th>Reason</th>\n",
              "      <th>Due_Fee</th>\n",
              "      <th>Home0</th>\n",
              "      <th>Home1</th>\n",
              "      <th>Home2</th>\n",
              "      <th>Home3</th>\n",
              "      <th>Home4</th>\n",
              "      <th>Duration[3]</th>\n",
              "      <th>Duration[5]</th>\n",
              "      <th>Default</th>\n",
              "    </tr>\n",
              "  </thead>\n",
              "  <tbody>\n",
              "    <tr>\n",
              "      <th>0</th>\n",
              "      <td>1</td>\n",
              "      <td>2</td>\n",
              "      <td>383680</td>\n",
              "      <td>0</td>\n",
              "      <td>41040</td>\n",
              "      <td>0</td>\n",
              "      <td>9.84</td>\n",
              "      <td>0</td>\n",
              "      <td>1434440</td>\n",
              "      <td>0</td>\n",
              "      <td>...</td>\n",
              "      <td>2</td>\n",
              "      <td>0.0</td>\n",
              "      <td>0</td>\n",
              "      <td>0</td>\n",
              "      <td>0</td>\n",
              "      <td>0</td>\n",
              "      <td>0</td>\n",
              "      <td>1</td>\n",
              "      <td>1</td>\n",
              "      <td>1</td>\n",
              "    </tr>\n",
              "    <tr>\n",
              "      <th>1</th>\n",
              "      <td>4</td>\n",
              "      <td>1</td>\n",
              "      <td>61600</td>\n",
              "      <td>1</td>\n",
              "      <td>17100</td>\n",
              "      <td>0</td>\n",
              "      <td>21.84</td>\n",
              "      <td>1</td>\n",
              "      <td>15999</td>\n",
              "      <td>0</td>\n",
              "      <td>...</td>\n",
              "      <td>1</td>\n",
              "      <td>0.0</td>\n",
              "      <td>1</td>\n",
              "      <td>1</td>\n",
              "      <td>1</td>\n",
              "      <td>1</td>\n",
              "      <td>1</td>\n",
              "      <td>1</td>\n",
              "      <td>1</td>\n",
              "      <td>0</td>\n",
              "    </tr>\n",
              "    <tr>\n",
              "      <th>2</th>\n",
              "      <td>2</td>\n",
              "      <td>1</td>\n",
              "      <td>0</td>\n",
              "      <td>0</td>\n",
              "      <td>25137</td>\n",
              "      <td>1</td>\n",
              "      <td>18.44</td>\n",
              "      <td>2</td>\n",
              "      <td>155285</td>\n",
              "      <td>0</td>\n",
              "      <td>...</td>\n",
              "      <td>1</td>\n",
              "      <td>0.0</td>\n",
              "      <td>0</td>\n",
              "      <td>0</td>\n",
              "      <td>0</td>\n",
              "      <td>0</td>\n",
              "      <td>0</td>\n",
              "      <td>1</td>\n",
              "      <td>1</td>\n",
              "      <td>0</td>\n",
              "    </tr>\n",
              "    <tr>\n",
              "      <th>3</th>\n",
              "      <td>4</td>\n",
              "      <td>2</td>\n",
              "      <td>619520</td>\n",
              "      <td>0</td>\n",
              "      <td>41040</td>\n",
              "      <td>0</td>\n",
              "      <td>17.73</td>\n",
              "      <td>1</td>\n",
              "      <td>988491</td>\n",
              "      <td>0</td>\n",
              "      <td>...</td>\n",
              "      <td>2</td>\n",
              "      <td>0.0</td>\n",
              "      <td>0</td>\n",
              "      <td>0</td>\n",
              "      <td>0</td>\n",
              "      <td>0</td>\n",
              "      <td>0</td>\n",
              "      <td>1</td>\n",
              "      <td>1</td>\n",
              "      <td>1</td>\n",
              "    </tr>\n",
              "    <tr>\n",
              "      <th>4</th>\n",
              "      <td>3</td>\n",
              "      <td>0</td>\n",
              "      <td>179520</td>\n",
              "      <td>2</td>\n",
              "      <td>30780</td>\n",
              "      <td>1</td>\n",
              "      <td>17.89</td>\n",
              "      <td>0</td>\n",
              "      <td>325889</td>\n",
              "      <td>0</td>\n",
              "      <td>...</td>\n",
              "      <td>2</td>\n",
              "      <td>0.0</td>\n",
              "      <td>2</td>\n",
              "      <td>2</td>\n",
              "      <td>2</td>\n",
              "      <td>2</td>\n",
              "      <td>2</td>\n",
              "      <td>0</td>\n",
              "      <td>0</td>\n",
              "      <td>0</td>\n",
              "    </tr>\n",
              "  </tbody>\n",
              "</table>\n",
              "<p>5 rows × 24 columns</p>\n",
              "</div>\n",
              "    <div class=\"colab-df-buttons\">\n",
              "\n",
              "  <div class=\"colab-df-container\">\n",
              "    <button class=\"colab-df-convert\" onclick=\"convertToInteractive('df-6be0c33b-53ea-46c6-a827-209e71293ad1')\"\n",
              "            title=\"Convert this dataframe to an interactive table.\"\n",
              "            style=\"display:none;\">\n",
              "\n",
              "  <svg xmlns=\"http://www.w3.org/2000/svg\" height=\"24px\" viewBox=\"0 -960 960 960\">\n",
              "    <path d=\"M120-120v-720h720v720H120Zm60-500h600v-160H180v160Zm220 220h160v-160H400v160Zm0 220h160v-160H400v160ZM180-400h160v-160H180v160Zm440 0h160v-160H620v160ZM180-180h160v-160H180v160Zm440 0h160v-160H620v160Z\"/>\n",
              "  </svg>\n",
              "    </button>\n",
              "\n",
              "  <style>\n",
              "    .colab-df-container {\n",
              "      display:flex;\n",
              "      gap: 12px;\n",
              "    }\n",
              "\n",
              "    .colab-df-convert {\n",
              "      background-color: #E8F0FE;\n",
              "      border: none;\n",
              "      border-radius: 50%;\n",
              "      cursor: pointer;\n",
              "      display: none;\n",
              "      fill: #1967D2;\n",
              "      height: 32px;\n",
              "      padding: 0 0 0 0;\n",
              "      width: 32px;\n",
              "    }\n",
              "\n",
              "    .colab-df-convert:hover {\n",
              "      background-color: #E2EBFA;\n",
              "      box-shadow: 0px 1px 2px rgba(60, 64, 67, 0.3), 0px 1px 3px 1px rgba(60, 64, 67, 0.15);\n",
              "      fill: #174EA6;\n",
              "    }\n",
              "\n",
              "    .colab-df-buttons div {\n",
              "      margin-bottom: 4px;\n",
              "    }\n",
              "\n",
              "    [theme=dark] .colab-df-convert {\n",
              "      background-color: #3B4455;\n",
              "      fill: #D2E3FC;\n",
              "    }\n",
              "\n",
              "    [theme=dark] .colab-df-convert:hover {\n",
              "      background-color: #434B5C;\n",
              "      box-shadow: 0px 1px 3px 1px rgba(0, 0, 0, 0.15);\n",
              "      filter: drop-shadow(0px 1px 2px rgba(0, 0, 0, 0.3));\n",
              "      fill: #FFFFFF;\n",
              "    }\n",
              "  </style>\n",
              "\n",
              "    <script>\n",
              "      const buttonEl =\n",
              "        document.querySelector('#df-6be0c33b-53ea-46c6-a827-209e71293ad1 button.colab-df-convert');\n",
              "      buttonEl.style.display =\n",
              "        google.colab.kernel.accessAllowed ? 'block' : 'none';\n",
              "\n",
              "      async function convertToInteractive(key) {\n",
              "        const element = document.querySelector('#df-6be0c33b-53ea-46c6-a827-209e71293ad1');\n",
              "        const dataTable =\n",
              "          await google.colab.kernel.invokeFunction('convertToInteractive',\n",
              "                                                    [key], {});\n",
              "        if (!dataTable) return;\n",
              "\n",
              "        const docLinkHtml = 'Like what you see? Visit the ' +\n",
              "          '<a target=\"_blank\" href=https://colab.research.google.com/notebooks/data_table.ipynb>data table notebook</a>'\n",
              "          + ' to learn more about interactive tables.';\n",
              "        element.innerHTML = '';\n",
              "        dataTable['output_type'] = 'display_data';\n",
              "        await google.colab.output.renderOutput(dataTable, element);\n",
              "        const docLink = document.createElement('div');\n",
              "        docLink.innerHTML = docLinkHtml;\n",
              "        element.appendChild(docLink);\n",
              "      }\n",
              "    </script>\n",
              "  </div>\n",
              "\n",
              "\n",
              "<div id=\"df-ffe0353c-6644-4a40-b5fb-644ed7468f95\">\n",
              "  <button class=\"colab-df-quickchart\" onclick=\"quickchart('df-ffe0353c-6644-4a40-b5fb-644ed7468f95')\"\n",
              "            title=\"Suggest charts\"\n",
              "            style=\"display:none;\">\n",
              "\n",
              "<svg xmlns=\"http://www.w3.org/2000/svg\" height=\"24px\"viewBox=\"0 0 24 24\"\n",
              "     width=\"24px\">\n",
              "    <g>\n",
              "        <path d=\"M19 3H5c-1.1 0-2 .9-2 2v14c0 1.1.9 2 2 2h14c1.1 0 2-.9 2-2V5c0-1.1-.9-2-2-2zM9 17H7v-7h2v7zm4 0h-2V7h2v10zm4 0h-2v-4h2v4z\"/>\n",
              "    </g>\n",
              "</svg>\n",
              "  </button>\n",
              "\n",
              "<style>\n",
              "  .colab-df-quickchart {\n",
              "      --bg-color: #E8F0FE;\n",
              "      --fill-color: #1967D2;\n",
              "      --hover-bg-color: #E2EBFA;\n",
              "      --hover-fill-color: #174EA6;\n",
              "      --disabled-fill-color: #AAA;\n",
              "      --disabled-bg-color: #DDD;\n",
              "  }\n",
              "\n",
              "  [theme=dark] .colab-df-quickchart {\n",
              "      --bg-color: #3B4455;\n",
              "      --fill-color: #D2E3FC;\n",
              "      --hover-bg-color: #434B5C;\n",
              "      --hover-fill-color: #FFFFFF;\n",
              "      --disabled-bg-color: #3B4455;\n",
              "      --disabled-fill-color: #666;\n",
              "  }\n",
              "\n",
              "  .colab-df-quickchart {\n",
              "    background-color: var(--bg-color);\n",
              "    border: none;\n",
              "    border-radius: 50%;\n",
              "    cursor: pointer;\n",
              "    display: none;\n",
              "    fill: var(--fill-color);\n",
              "    height: 32px;\n",
              "    padding: 0;\n",
              "    width: 32px;\n",
              "  }\n",
              "\n",
              "  .colab-df-quickchart:hover {\n",
              "    background-color: var(--hover-bg-color);\n",
              "    box-shadow: 0 1px 2px rgba(60, 64, 67, 0.3), 0 1px 3px 1px rgba(60, 64, 67, 0.15);\n",
              "    fill: var(--button-hover-fill-color);\n",
              "  }\n",
              "\n",
              "  .colab-df-quickchart-complete:disabled,\n",
              "  .colab-df-quickchart-complete:disabled:hover {\n",
              "    background-color: var(--disabled-bg-color);\n",
              "    fill: var(--disabled-fill-color);\n",
              "    box-shadow: none;\n",
              "  }\n",
              "\n",
              "  .colab-df-spinner {\n",
              "    border: 2px solid var(--fill-color);\n",
              "    border-color: transparent;\n",
              "    border-bottom-color: var(--fill-color);\n",
              "    animation:\n",
              "      spin 1s steps(1) infinite;\n",
              "  }\n",
              "\n",
              "  @keyframes spin {\n",
              "    0% {\n",
              "      border-color: transparent;\n",
              "      border-bottom-color: var(--fill-color);\n",
              "      border-left-color: var(--fill-color);\n",
              "    }\n",
              "    20% {\n",
              "      border-color: transparent;\n",
              "      border-left-color: var(--fill-color);\n",
              "      border-top-color: var(--fill-color);\n",
              "    }\n",
              "    30% {\n",
              "      border-color: transparent;\n",
              "      border-left-color: var(--fill-color);\n",
              "      border-top-color: var(--fill-color);\n",
              "      border-right-color: var(--fill-color);\n",
              "    }\n",
              "    40% {\n",
              "      border-color: transparent;\n",
              "      border-right-color: var(--fill-color);\n",
              "      border-top-color: var(--fill-color);\n",
              "    }\n",
              "    60% {\n",
              "      border-color: transparent;\n",
              "      border-right-color: var(--fill-color);\n",
              "    }\n",
              "    80% {\n",
              "      border-color: transparent;\n",
              "      border-right-color: var(--fill-color);\n",
              "      border-bottom-color: var(--fill-color);\n",
              "    }\n",
              "    90% {\n",
              "      border-color: transparent;\n",
              "      border-bottom-color: var(--fill-color);\n",
              "    }\n",
              "  }\n",
              "</style>\n",
              "\n",
              "  <script>\n",
              "    async function quickchart(key) {\n",
              "      const quickchartButtonEl =\n",
              "        document.querySelector('#' + key + ' button');\n",
              "      quickchartButtonEl.disabled = true;  // To prevent multiple clicks.\n",
              "      quickchartButtonEl.classList.add('colab-df-spinner');\n",
              "      try {\n",
              "        const charts = await google.colab.kernel.invokeFunction(\n",
              "            'suggestCharts', [key], {});\n",
              "      } catch (error) {\n",
              "        console.error('Error during call to suggestCharts:', error);\n",
              "      }\n",
              "      quickchartButtonEl.classList.remove('colab-df-spinner');\n",
              "      quickchartButtonEl.classList.add('colab-df-quickchart-complete');\n",
              "    }\n",
              "    (() => {\n",
              "      let quickchartButtonEl =\n",
              "        document.querySelector('#df-ffe0353c-6644-4a40-b5fb-644ed7468f95 button');\n",
              "      quickchartButtonEl.style.display =\n",
              "        google.colab.kernel.accessAllowed ? 'block' : 'none';\n",
              "    })();\n",
              "  </script>\n",
              "</div>\n",
              "    </div>\n",
              "  </div>\n"
            ],
            "text/plain": [
              "   GGGrade  Validation  Yearly_Income  Home_Status  Lend_Amount  \\\n",
              "0        1           2         383680            0        41040   \n",
              "1        4           1          61600            1        17100   \n",
              "2        2           1              0            0        25137   \n",
              "3        4           2         619520            0        41040   \n",
              "4        3           0         179520            2        30780   \n",
              "\n",
              "   Deprecatory_Records  Interest_Charged  Inquiries  Present_Balance  \\\n",
              "0                    0              9.84          0          1434440   \n",
              "1                    0             21.84          1            15999   \n",
              "2                    1             18.44          2           155285   \n",
              "3                    0             17.73          1           988491   \n",
              "4                    1             17.89          0           325889   \n",
              "\n",
              "   Gross_Collection  ...  Reason  Due_Fee  Home0  Home1  Home2  Home3  Home4  \\\n",
              "0                 0  ...       2      0.0      0      0      0      0      0   \n",
              "1                 0  ...       1      0.0      1      1      1      1      1   \n",
              "2                 0  ...       1      0.0      0      0      0      0      0   \n",
              "3                 0  ...       2      0.0      0      0      0      0      0   \n",
              "4                 0  ...       2      0.0      2      2      2      2      2   \n",
              "\n",
              "   Duration[3]  Duration[5]  Default  \n",
              "0            1            1        1  \n",
              "1            1            1        0  \n",
              "2            1            1        0  \n",
              "3            1            1        1  \n",
              "4            0            0        0  \n",
              "\n",
              "[5 rows x 24 columns]"
            ]
          },
          "execution_count": 35,
          "metadata": {},
          "output_type": "execute_result"
        }
      ],
      "source": [
        "df_train.head()"
      ]
    },
    {
      "cell_type": "code",
      "execution_count": 36,
      "metadata": {
        "colab": {
          "base_uri": "https://localhost:8080/"
        },
        "id": "WWWIeThzAXPT",
        "outputId": "ccf6687c-818a-4089-8f27-e6e03fe0c39e"
      },
      "outputs": [
        {
          "name": "stdout",
          "output_type": "stream",
          "text": [
            "train x: (61249, 16), y: (61249,)\n",
            "test x: (26249, 16), y: (26249,)\n"
          ]
        }
      ],
      "source": [
        "# train\n",
        "mat_train = df_train[[\"GGGrade\", \"Validation\", \"Yearly_Income\",\n",
        "                      \"Home_Status\",\t\"Lend_Amount\",\t\"Deprecatory_Records\",\n",
        "                      \"Interest_Charged\",\t\"Inquiries\",  \"Present_Balance\",\n",
        "                      \"Gross_Collection\", \"Sub_GGGrade\", \"State\", \"Duration\",\n",
        "                      \"Unpaid_Amount\", \"Reason\", \"Due_Fee\", \"Default\"]].values\n",
        "X_train = mat_train[:,:-1]\n",
        "y_train = mat_train[:,-1].astype(\"int\")\n",
        "print(\"train x: {}, y: {}\".format(X_train.shape, y_train.shape))\n",
        "\n",
        "# test\n",
        "mat_test = df_test[[\"GGGrade\", \"Validation\", \"Yearly_Income\",\n",
        "                      \"Home_Status\",\t\"Lend_Amount\",\t\"Deprecatory_Records\",\n",
        "                      \"Interest_Charged\",\t\"Inquiries\",  \"Present_Balance\",\n",
        "                      \"Gross_Collection\", \"Sub_GGGrade\", \"State\", \"Duration\",\n",
        "                      \"Unpaid_Amount\", \"Reason\", \"Due_Fee\", \"Default\"]].values\n",
        "X_test = mat_test[:,0:-1]\n",
        "y_test = mat_test[:,-1].astype(\"int\")\n",
        "print(\"test x: {}, y: {}\".format(X_test.shape, y_test.shape))"
      ]
    },
    {
      "cell_type": "code",
      "execution_count": 37,
      "metadata": {
        "colab": {
          "base_uri": "https://localhost:8080/"
        },
        "id": "QR5H3uf1J858",
        "outputId": "01cab0e1-59bb-4ed2-859a-c5d8975d7f04"
      },
      "outputs": [
        {
          "data": {
            "text/plain": [
              "array([1.00000e+00, 2.00000e+00, 3.83680e+05, 0.00000e+00, 4.10400e+04,\n",
              "       0.00000e+00, 9.84000e+00, 0.00000e+00, 1.43444e+06, 0.00000e+00,\n",
              "       1.10000e+01, 4.00000e+00, 3.00000e+00, 1.20594e+05, 2.00000e+00,\n",
              "       0.00000e+00])"
            ]
          },
          "execution_count": 37,
          "metadata": {},
          "output_type": "execute_result"
        }
      ],
      "source": [
        "X_train[0]"
      ]
    },
    {
      "cell_type": "code",
      "execution_count": 38,
      "metadata": {
        "colab": {
          "base_uri": "https://localhost:8080/"
        },
        "id": "QkfbssbLAXPU",
        "outputId": "8e81544f-3760-4390-d6c5-e0ca2a933d02"
      },
      "outputs": [
        {
          "name": "stdout",
          "output_type": "stream",
          "text": [
            "predictions: [0 0 0 ... 0 0 0]\n",
            "true values: [0 0 0 ... 0 0 0]\n",
            "Accuracy: 0.812145224579984\n"
          ]
        }
      ],
      "source": [
        "# create and fit a baseline model\n",
        "logreg = linear_model.LogisticRegression(solver='lbfgs', multi_class='auto', C=1)\n",
        "logreg.fit(X_train, y_train)\n",
        "\n",
        "# make predictions for test set\n",
        "y_hat = logreg.predict(X_test)\n",
        "print(\"predictions:\", y_hat)\n",
        "print(\"true values:\", y_test)\n",
        "\n",
        "# evaluate prediction accuracy\n",
        "print(\"Accuracy:\", 1.0*np.sum(y_hat == y_test) / len(y_test))"
      ]
    },
    {
      "cell_type": "code",
      "execution_count": 39,
      "metadata": {
        "id": "054fDI1cAXPU"
      },
      "outputs": [],
      "source": [
        "def model(X, obs=None):\n",
        "    alpha = pyro.sample(\"alpha\", dist.Normal(0, 5.).to_event()) # Prior for the bias/intercept\n",
        "    beta  = pyro.sample(\"beta\", dist.Normal(torch.zeros(X.shape[1]),\n",
        "                                            5.*torch.ones(X.shape[1])).to_event()) # Priors for the regression coeffcients\n",
        "\n",
        "    with pyro.plate(\"data\"):\n",
        "        logits = alpha + X.matmul(beta)\n",
        "        y = pyro.sample(\"y\", dist.Bernoulli(logits=logits), obs=obs)\n",
        "\n",
        "    return y"
      ]
    },
    {
      "cell_type": "code",
      "execution_count": 40,
      "metadata": {
        "id": "3gTQOQMVAXPU"
      },
      "outputs": [],
      "source": [
        "# Prepare data for Pyro\n",
        "X_train = X_train.astype(np.float64)\n",
        "y_train = y_train.astype(np.int32)\n",
        "\n",
        "X_train = torch.tensor(X_train).float()\n",
        "y_train = torch.tensor(y_train).float()"
      ]
    },
    {
      "cell_type": "code",
      "execution_count": 41,
      "metadata": {
        "colab": {
          "base_uri": "https://localhost:8080/"
        },
        "id": "_7tW8-DfKG-V",
        "outputId": "f9539aaa-6339-4b0d-85e3-d64580a9a3c6"
      },
      "outputs": [
        {
          "data": {
            "text/plain": [
              "tensor([1.0000e+00, 2.0000e+00, 3.8368e+05, 0.0000e+00, 4.1040e+04, 0.0000e+00,\n",
              "        9.8400e+00, 0.0000e+00, 1.4344e+06, 0.0000e+00, 1.1000e+01, 4.0000e+00,\n",
              "        3.0000e+00, 1.2059e+05, 2.0000e+00, 0.0000e+00])"
            ]
          },
          "execution_count": 41,
          "metadata": {},
          "output_type": "execute_result"
        }
      ],
      "source": [
        "X_train[0]"
      ]
    },
    {
      "cell_type": "code",
      "execution_count": 42,
      "metadata": {
        "colab": {
          "base_uri": "https://localhost:8080/"
        },
        "id": "KtRlSQxIAXPV",
        "outputId": "b96d58de-96b0-4f43-a501-27a916770ee4"
      },
      "outputs": [
        {
          "name": "stdout",
          "output_type": "stream",
          "text": [
            "[0] ELBO: 16538585148.8\n",
            "[1000] ELBO: 2119276480.9\n",
            "[2000] ELBO: 1014062908.4\n",
            "[3000] ELBO: 485265173.1\n",
            "[4000] ELBO: 293164315.2\n",
            "[5000] ELBO: 111040122.2\n",
            "[6000] ELBO: 42687509.2\n",
            "[7000] ELBO: 28511873.9\n",
            "[8000] ELBO: 22187745.0\n",
            "[9000] ELBO: 10109860.2\n"
          ]
        }
      ],
      "source": [
        "# Define guide function\n",
        "guide = AutoMultivariateNormal(model)\n",
        "\n",
        "# Reset parameter values\n",
        "pyro.clear_param_store()\n",
        "\n",
        "# Define the number of optimization steps\n",
        "# n_steps = 30000\n",
        "n_steps = 10000\n",
        "\n",
        "# Setup the optimizer\n",
        "adam_params = {\"lr\": 0.001}\n",
        "optimizer = ClippedAdam(adam_params)\n",
        "\n",
        "# Setup the inference algorithm\n",
        "elbo = Trace_ELBO(num_particles=1)\n",
        "svi = SVI(model, guide, optimizer, loss=elbo)\n",
        "\n",
        "# Do gradient steps\n",
        "for step in range(n_steps):\n",
        "    elbo = svi.step(X_train, y_train)\n",
        "    if step % 1000 == 0:\n",
        "        print(\"[%d] ELBO: %.1f\" % (step, elbo))"
      ]
    },
    {
      "cell_type": "code",
      "execution_count": 43,
      "metadata": {
        "id": "e0fTrYulAXPV"
      },
      "outputs": [],
      "source": [
        "from pyro.infer import Predictive\n",
        "\n",
        "predictive = Predictive(model, guide=guide, num_samples=2000,\n",
        "                        return_sites=(\"alpha\", \"beta\"))\n",
        "samples = predictive(X_train, y_train)"
      ]
    },
    {
      "cell_type": "code",
      "execution_count": 44,
      "metadata": {
        "id": "LNcBy_5YAXPV"
      },
      "outputs": [],
      "source": [
        "alpha_hat = samples[\"alpha\"].mean(axis=0).detach().numpy()\n",
        "beta_hat = samples[\"beta\"].mean(axis=0).detach().numpy()"
      ]
    },
    {
      "cell_type": "code",
      "execution_count": 45,
      "metadata": {
        "colab": {
          "base_uri": "https://localhost:8080/"
        },
        "id": "ejxT01rkAXPV",
        "outputId": "173a2208-c11a-4d8e-fced-c8a9e57a631d"
      },
      "outputs": [
        {
          "name": "stdout",
          "output_type": "stream",
          "text": [
            "predictions: [0 0 0 ... 0 0 0]\n",
            "true values: [0 0 0 ... 0 0 0]\n",
            "Accuracy: 0.8095927463903386\n"
          ]
        }
      ],
      "source": [
        "# make predictions for test set\n",
        "y_hat = alpha_hat + np.dot(X_test, beta_hat.T)\n",
        "y_hat = np.squeeze(y_hat)\n",
        "y_hat = (y_hat > 0).astype(int)\n",
        "\n",
        "print(\"predictions:\", y_hat)\n",
        "print(\"true values:\", y_test)\n",
        "\n",
        "# evaluate prediction accuracy\n",
        "acc_c_101 = 1.0*np.sum(y_hat == y_test) / len(y_test)\n",
        "accuracies.append(acc_c_101)\n",
        "print(\"Accuracy:\", acc_c_101)"
      ]
    },
    {
      "cell_type": "markdown",
      "metadata": {
        "id": "KX7BNhGprQaP"
      },
      "source": [
        "## 03.03. Incorporating the bins"
      ]
    },
    {
      "cell_type": "markdown",
      "metadata": {
        "id": "syHunA720nok"
      },
      "source": [
        "In this model, the bins are incorporated during the training process.\n",
        "\n",
        "![LogReg with Bins](LogRegwBins.png)"
      ]
    },
    {
      "cell_type": "code",
      "execution_count": 46,
      "metadata": {
        "colab": {
          "base_uri": "https://localhost:8080/"
        },
        "id": "4NEFPF5rfJBU",
        "outputId": "75104927-0386-4a6e-a157-10587098af61"
      },
      "outputs": [
        {
          "name": "stdout",
          "output_type": "stream",
          "text": [
            "train x: (61249, 23), y: (61249,)\n",
            "test x: (26249, 23), y: (26249,)\n"
          ]
        }
      ],
      "source": [
        "# train\n",
        "mat_train = df_train[[\"GGGrade\", \"Validation\", \"Yearly_Income\",\n",
        "                      \"Home_Status\",\t\"Lend_Amount\",\t\"Deprecatory_Records\",\n",
        "                      \"Interest_Charged\",\t\"Inquiries\",  \"Present_Balance\",\n",
        "                      \"Gross_Collection\", \"Sub_GGGrade\", \"State\", \"Duration\",\n",
        "                      \"Unpaid_Amount\", \"Reason\", \"Due_Fee\", \"Home0\",\t\"Home1\",\n",
        "                      \"Home2\", \"Home3\",\t\"Home4\",\t\"Duration[3]\", \"Duration[5]\", \"Default\"]].values\n",
        "X_train = mat_train[:,0:-1]\n",
        "y_train = mat_train[:,-1].astype(\"int\")\n",
        "print(\"train x: {}, y: {}\".format(X_train.shape, y_train.shape))\n",
        "\n",
        "# test\n",
        "mat_test = df_test[[\"GGGrade\", \"Validation\", \"Yearly_Income\",\n",
        "                      \"Home_Status\",\t\"Lend_Amount\",\t\"Deprecatory_Records\",\n",
        "                      \"Interest_Charged\",\t\"Inquiries\",  \"Present_Balance\",\n",
        "                      \"Gross_Collection\", \"Sub_GGGrade\", \"State\", \"Duration\",\n",
        "                      \"Unpaid_Amount\", \"Reason\", \"Due_Fee\", \"Home0\",\t\"Home1\",\n",
        "                      \"Home2\", \"Home3\",\t\"Home4\",\t\"Duration[3]\", \"Duration[5]\", \"Default\"]].values\n",
        "X_test = mat_test[:,:-1]\n",
        "y_test = mat_test[:,-1].astype(\"int\")\n",
        "print(\"test x: {}, y: {}\".format(X_test.shape, y_test.shape))"
      ]
    },
    {
      "cell_type": "code",
      "execution_count": 47,
      "metadata": {
        "colab": {
          "base_uri": "https://localhost:8080/"
        },
        "id": "JI6G04Ty97yB",
        "outputId": "0d359e6f-fe49-4d96-eac7-58657b0db4a7"
      },
      "outputs": [
        {
          "data": {
            "text/plain": [
              "array([3.00000e+00, 0.00000e+00, 1.05600e+05, 1.00000e+00, 2.22300e+04,\n",
              "       0.00000e+00, 1.09900e+01, 0.00000e+00, 2.15296e+05, 0.00000e+00,\n",
              "       2.10000e+01, 4.20000e+01, 3.00000e+00, 6.66700e+03, 1.20000e+01,\n",
              "       0.00000e+00, 1.00000e+00, 1.00000e+00, 1.00000e+00, 1.00000e+00,\n",
              "       1.00000e+00, 1.00000e+00, 1.00000e+00])"
            ]
          },
          "execution_count": 47,
          "metadata": {},
          "output_type": "execute_result"
        }
      ],
      "source": [
        "X_test[0]"
      ]
    },
    {
      "cell_type": "code",
      "execution_count": 48,
      "metadata": {
        "colab": {
          "base_uri": "https://localhost:8080/"
        },
        "id": "WjfnRzBavJCn",
        "outputId": "72065ecc-7d95-4a15-8c8d-4b1d97e39f1c"
      },
      "outputs": [
        {
          "name": "stdout",
          "output_type": "stream",
          "text": [
            "[[1.0000e+00 2.0000e+00 3.8368e+05 ... 0.0000e+00 1.0000e+00 1.0000e+00]\n",
            " [4.0000e+00 1.0000e+00 6.1600e+04 ... 1.0000e+00 1.0000e+00 1.0000e+00]\n",
            " [2.0000e+00 1.0000e+00 0.0000e+00 ... 0.0000e+00 1.0000e+00 1.0000e+00]\n",
            " ...\n",
            " [4.0000e+00 1.0000e+00 1.6720e+05 ... 0.0000e+00 1.0000e+00 1.0000e+00]\n",
            " [2.0000e+00 0.0000e+00 1.4960e+05 ... 0.0000e+00 1.0000e+00 1.0000e+00]\n",
            " [2.0000e+00 1.0000e+00 1.4080e+05 ... 0.0000e+00 1.0000e+00 1.0000e+00]]\n",
            "predictions: [0 0 0 ... 0 0 0]\n",
            "true values: [0 0 0 ... 0 0 0]\n",
            "Accuracy: 0.812145224579984\n"
          ]
        }
      ],
      "source": [
        "# create and fit a baseline model\n",
        "logreg = linear_model.LogisticRegression(solver='lbfgs', multi_class='auto', C=1)\n",
        "# print(X_train.shape[0])\n",
        "print(X_train)\n",
        "# X_train.reshape(X_train.shape[0], 1)\n",
        "y_train.reshape(y_train.shape[0], 1)\n",
        "# print(X_train.shape)\n",
        "logreg.fit(X_train, y_train)\n",
        "\n",
        "# make predictions for test set\n",
        "y_hat = logreg.predict(X_test)\n",
        "print(\"predictions:\", y_hat)\n",
        "print(\"true values:\", y_test)\n",
        "\n",
        "# evaluate prediction accuracy\n",
        "print(\"Accuracy:\", 1.0*np.sum(y_hat == y_test) / len(y_test))"
      ]
    },
    {
      "cell_type": "code",
      "execution_count": 49,
      "metadata": {
        "id": "z0-b_xDUvJCo"
      },
      "outputs": [],
      "source": [
        "def model(X, obs=None):\n",
        "    alpha = pyro.sample(\"alpha\", dist.Normal(0, 5.).to_event()) # Prior for the bias/intercept\n",
        "    beta  = pyro.sample(\"beta\", dist.Normal(torch.zeros(X.shape[1]),\n",
        "                                            5.*torch.ones(X.shape[1])).to_event()) # Priors for the regression coeffcients\n",
        "\n",
        "    with pyro.plate(\"data\"):\n",
        "        logits = alpha + X.matmul(beta)\n",
        "        y = pyro.sample(\"y\", dist.Bernoulli(logits=logits), obs=obs)\n",
        "\n",
        "    return y"
      ]
    },
    {
      "cell_type": "code",
      "execution_count": 50,
      "metadata": {
        "id": "mghc3H8pvJCp"
      },
      "outputs": [],
      "source": [
        "# Prepare data for Pyro\n",
        "X_train = X_train.astype(np.int32)\n",
        "y_train = y_train.astype(np.int32)\n",
        "\n",
        "X_train = torch.tensor(X_train).float()\n",
        "y_train = torch.tensor(y_train).float()"
      ]
    },
    {
      "cell_type": "code",
      "execution_count": 51,
      "metadata": {
        "colab": {
          "base_uri": "https://localhost:8080/"
        },
        "id": "0-asLkwevJCp",
        "outputId": "166742ea-6a9f-4291-9c80-14446d5555de"
      },
      "outputs": [
        {
          "name": "stdout",
          "output_type": "stream",
          "text": [
            "[0] ELBO: 8746416206.6\n",
            "[1000] ELBO: 1987343441.5\n",
            "[2000] ELBO: 701024212.1\n",
            "[3000] ELBO: 354757043.9\n",
            "[4000] ELBO: 155868007.4\n",
            "[5000] ELBO: 61461051.1\n",
            "[6000] ELBO: 72746603.7\n",
            "[7000] ELBO: 47030506.3\n",
            "[8000] ELBO: 18902596.3\n",
            "[9000] ELBO: 36397993.9\n"
          ]
        }
      ],
      "source": [
        "# Define guide function\n",
        "guide = AutoMultivariateNormal(model)\n",
        "\n",
        "# Reset parameter values\n",
        "pyro.clear_param_store()\n",
        "\n",
        "# Define the number of optimization steps\n",
        "# n_steps = 30000\n",
        "n_steps = 10000\n",
        "\n",
        "# Setup the optimizer\n",
        "adam_params = {\"lr\": 0.001}\n",
        "optimizer = ClippedAdam(adam_params)\n",
        "\n",
        "# Setup the inference algorithm\n",
        "elbo = Trace_ELBO(num_particles=1)\n",
        "svi = SVI(model, guide, optimizer, loss=elbo)\n",
        "\n",
        "# Do gradient steps\n",
        "for step in range(n_steps):\n",
        "    elbo = svi.step(X_train, y_train)\n",
        "    if step % 1000 == 0:\n",
        "        print(\"[%d] ELBO: %.1f\" % (step, elbo))"
      ]
    },
    {
      "cell_type": "code",
      "execution_count": 52,
      "metadata": {
        "id": "LfO2EPYBz2G-"
      },
      "outputs": [],
      "source": [
        "from pyro.infer import Predictive\n",
        "\n",
        "predictive = Predictive(model, guide=guide, num_samples=2000,\n",
        "                        return_sites=(\"alpha\", \"beta\"))\n",
        "samples = predictive(X_train, y_train)"
      ]
    },
    {
      "cell_type": "code",
      "execution_count": 53,
      "metadata": {
        "id": "N_eICkiBvJCq"
      },
      "outputs": [],
      "source": [
        "alpha_hat = samples[\"alpha\"].mean(axis=0).detach().numpy()\n",
        "beta_hat = samples[\"beta\"].mean(axis=0).detach().numpy()"
      ]
    },
    {
      "cell_type": "code",
      "execution_count": 54,
      "metadata": {
        "colab": {
          "base_uri": "https://localhost:8080/"
        },
        "id": "jmSH46G60IUm",
        "outputId": "d8c9a0df-2711-4053-e999-07e042069547"
      },
      "outputs": [
        {
          "name": "stdout",
          "output_type": "stream",
          "text": [
            "predictions: [0 0 1 ... 0 0 0]\n",
            "true values: [0 0 0 ... 0 0 0]\n",
            "Accuracy: 0.7633433654615414\n"
          ]
        }
      ],
      "source": [
        "# make predictions for test set\n",
        "y_hat = alpha_hat + np.dot(X_test, beta_hat.T)\n",
        "y_hat = np.squeeze(y_hat)\n",
        "y_hat = (y_hat > 0).astype(int)\n",
        "\n",
        "print(\"predictions:\", y_hat)\n",
        "print(\"true values:\", y_test)\n",
        "\n",
        "# evaluate prediction accuracy\n",
        "acc_c_102 = 1.0*np.sum(y_hat == y_test) / len(y_test)\n",
        "accuracies.append(acc_c_102)\n",
        "print(\"Accuracy:\", acc_c_102)"
      ]
    },
    {
      "cell_type": "markdown",
      "metadata": {
        "id": "ogOaXZ0uLgto"
      },
      "source": [
        "## 03.04. Utilizing momemtum"
      ]
    },
    {
      "cell_type": "markdown",
      "metadata": {
        "id": "n-XGVfpm1MZ2"
      },
      "source": [
        "In this model, we are making use of the"
      ]
    },
    {
      "cell_type": "code",
      "execution_count": 7,
      "metadata": {
        "colab": {
          "base_uri": "https://localhost:8080/"
        },
        "id": "S8iYQYl29PGl",
        "outputId": "617ec112-78bd-4b99-e37d-c0616eab17d4"
      },
      "outputs": [
        {
          "name": "stdout",
          "output_type": "stream",
          "text": [
            "[[1.0000e+00 0.0000e+00 1.2320e+05 ... 6.9700e+03 1.2000e+01 0.0000e+00]\n",
            " [1.0000e+00 0.0000e+00 2.5520e+05 ... 1.7461e+04 1.2000e+01 0.0000e+00]\n",
            " [2.0000e+00 2.0000e+00 9.8842e+04 ... 0.0000e+00 1.2000e+01 0.0000e+00]\n",
            " ...\n",
            " [6.0000e+00 2.0000e+00 9.1520e+04 ... 3.7759e+04 1.0000e+00 0.0000e+00]\n",
            " [3.0000e+00 0.0000e+00 3.1328e+05 ... 8.8400e+02 0.0000e+00 0.0000e+00]\n",
            " [6.0000e+00 2.0000e+00 7.5680e+04 ... 1.3541e+04 0.0000e+00 0.0000e+00]]\n",
            "(87499, 16)\n",
            "[0 1 0 ... 0 0 1]\n",
            "(87499,)\n"
          ]
        }
      ],
      "source": [
        "np.random.seed(42)\n",
        "\n",
        "# load csv\n",
        "df2 = pd.read_csv('Data_Train_AllNumbers.csv')\n",
        "df2.head()\n",
        "\n",
        "df2.describe()\n",
        "\n",
        "mat = df2.values\n",
        "mat\n",
        "\n",
        "X = mat[:,0:-1]\n",
        "print(X)\n",
        "print(X.shape)\n",
        "\n",
        "y = mat[:,-1].astype(\"int\")\n",
        "print(y)\n",
        "print(y.shape)"
      ]
    },
    {
      "cell_type": "code",
      "execution_count": 8,
      "metadata": {
        "colab": {
          "base_uri": "https://localhost:8080/"
        },
        "id": "1glqrHQRLgt2",
        "outputId": "0afed989-5898-442b-f305-3ff34b9d156a"
      },
      "outputs": [
        {
          "name": "stderr",
          "output_type": "stream",
          "text": [
            "/usr/local/lib/python3.10/dist-packages/sklearn/preprocessing/_encoders.py:868: FutureWarning: `sparse` was renamed to `sparse_output` in version 1.2 and will be removed in 1.4. `sparse_output` is ignored unless you leave `sparse` to its default value.\n",
            "  warnings.warn(\n"
          ]
        }
      ],
      "source": [
        "from sklearn.preprocessing import OneHotEncoder\n",
        "\n",
        "encoder = OneHotEncoder(sparse=False)\n",
        "X = encoder.fit_transform(X)"
      ]
    },
    {
      "cell_type": "code",
      "execution_count": 9,
      "metadata": {
        "colab": {
          "base_uri": "https://localhost:8080/"
        },
        "id": "4CzMtNwILgt3",
        "outputId": "22aa00ba-1436-4b0d-f9f8-90b2d7a260ec"
      },
      "outputs": [
        {
          "name": "stdout",
          "output_type": "stream",
          "text": [
            "[[1.0000e+00 0.0000e+00 1.2320e+05 ... 6.9700e+03 1.2000e+01 0.0000e+00]\n",
            " [1.0000e+00 0.0000e+00 2.5520e+05 ... 1.7461e+04 1.2000e+01 0.0000e+00]\n",
            " [2.0000e+00 2.0000e+00 9.8842e+04 ... 0.0000e+00 1.2000e+01 0.0000e+00]\n",
            " ...\n",
            " [6.0000e+00 2.0000e+00 9.1520e+04 ... 3.7759e+04 1.0000e+00 0.0000e+00]\n",
            " [3.0000e+00 0.0000e+00 3.1328e+05 ... 8.8400e+02 0.0000e+00 0.0000e+00]\n",
            " [6.0000e+00 2.0000e+00 7.5680e+04 ... 1.3541e+04 0.0000e+00 0.0000e+00]]\n",
            "(87499, 16)\n",
            "[0 1 0 ... 0 0 1]\n",
            "(87499,)\n",
            "[[2.00000e+00 0.00000e+00 7.92000e+04 ... 7.65600e+03 2.00000e+00\n",
            "  0.00000e+00]\n",
            " [5.00000e+00 2.00000e+00 5.72000e+04 ... 0.00000e+00 2.00000e+00\n",
            "  0.00000e+00]\n",
            " [5.00000e+00 1.00000e+00 1.37280e+05 ... 6.59400e+03 2.00000e+00\n",
            "  0.00000e+00]\n",
            " ...\n",
            " [2.00000e+00 0.00000e+00 2.63731e+05 ... 3.16080e+04 2.00000e+00\n",
            "  0.00000e+00]\n",
            " [4.00000e+00 2.00000e+00 8.80000e+04 ... 1.61370e+04 2.00000e+00\n",
            "  0.00000e+00]\n",
            " [6.00000e+00 2.00000e+00 9.68000e+04 ... 0.00000e+00 2.00000e+00\n",
            "  0.00000e+00]]\n",
            "[0 0 0 ... 0 0 0]\n",
            "num train: 57749\n",
            "num test: 29750\n"
          ]
        }
      ],
      "source": [
        "# descriptive statistics\n",
        "df2.describe()\n",
        "\n",
        "# data preparation\n",
        "mat = df2.values\n",
        "mat\n",
        "\n",
        "X = mat[:,0:-1]\n",
        "print(X)\n",
        "print(X.shape)\n",
        "\n",
        "y = mat[:,-1].astype(\"int\")\n",
        "print(y)\n",
        "print(y.shape)\n",
        "\n",
        "train_perc = 0.66 # percentage of training data\n",
        "split_point = int(train_perc*len(y))\n",
        "perm = np.random.permutation(len(y)) # we also randomize the dataset\n",
        "ix_train = perm[:split_point]\n",
        "ix_test = perm[split_point:]\n",
        "X_train = X[ix_train,:]\n",
        "print(X_train)\n",
        "X_test = X[ix_test,:]\n",
        "y_train = y[ix_train]\n",
        "print(y_train)\n",
        "y_test = y[ix_test]\n",
        "print(\"num train: %d\" % len(y_train))\n",
        "print(\"num test: %d\" % len(y_test))"
      ]
    },
    {
      "cell_type": "code",
      "execution_count": 10,
      "metadata": {
        "colab": {
          "base_uri": "https://localhost:8080/"
        },
        "id": "0KItFKmfLgt4",
        "outputId": "a9bf44f5-568c-4620-8236-899c774f4ba8"
      },
      "outputs": [
        {
          "name": "stdout",
          "output_type": "stream",
          "text": [
            "predictions: [0 0 0 ... 0 0 0]\n",
            "true values: [0 0 0 ... 0 0 0]\n",
            "Accuracy: 0.8111596638655462\n"
          ]
        }
      ],
      "source": [
        "# using sklearn first\n",
        "\n",
        "# logistic regression model\n",
        "logreg = linear_model.LogisticRegression(solver='lbfgs', multi_class='auto', C=1)\n",
        "logreg.fit(X_train, y_train)\n",
        "\n",
        "# make predictions for test set\n",
        "y_hat = logreg.predict(X_test)\n",
        "print(\"predictions:\", y_hat)\n",
        "print(\"true values:\", y_test)\n",
        "\n",
        "# evaluate prediction accuracy\n",
        "print(\"Accuracy:\", 1.0*np.sum(y_hat == y_test) / len(y_test))"
      ]
    },
    {
      "cell_type": "code",
      "execution_count": 11,
      "metadata": {
        "id": "50G4A_XRLgt4"
      },
      "outputs": [],
      "source": [
        "# pyro\n",
        "def model(X, n_cat, obs=None):\n",
        "    input_dim = X.shape[1]\n",
        "    alpha = pyro.sample(\"alpha\", dist.Normal(torch.zeros(1, n_cat),\n",
        "                                             5.*torch.ones(1, n_cat)).to_event())  # Prior for the bias/intercept\n",
        "    beta  = pyro.sample(\"beta\", dist.Normal(torch.zeros(input_dim, n_cat),\n",
        "                                            5.*torch.ones(input_dim, n_cat)).to_event()) # Priors for the regression coeffcients\n",
        "\n",
        "    with pyro.plate(\"data\"):\n",
        "        y = pyro.sample(\"y\", dist.Categorical(logits=alpha + X.matmul(beta)), obs=obs)\n",
        "\n",
        "    return y\n",
        "\n",
        "n_cat = 2\n",
        "# Prepare data for Pyro\n",
        "X_train = torch.tensor(X_train).float()\n",
        "y_train = torch.tensor(y_train).float()"
      ]
    },
    {
      "cell_type": "code",
      "execution_count": 12,
      "metadata": {
        "colab": {
          "base_uri": "https://localhost:8080/"
        },
        "id": "_nWGLVH7Lgt5",
        "outputId": "8ba581db-2d93-4b3e-d000-c3bb2fb50d46"
      },
      "outputs": [
        {
          "name": "stderr",
          "output_type": "stream",
          "text": [
            "<ipython-input-12-e6dc06c67fcf>:5: UserWarning: To copy construct from a tensor, it is recommended to use sourceTensor.clone().detach() or sourceTensor.clone().detach().requires_grad_(True), rather than torch.tensor(sourceTensor).\n",
            "  X_train = torch.tensor(X_train).float()\n",
            "<ipython-input-12-e6dc06c67fcf>:6: UserWarning: To copy construct from a tensor, it is recommended to use sourceTensor.clone().detach() or sourceTensor.clone().detach().requires_grad_(True), rather than torch.tensor(sourceTensor).\n",
            "  y_train = torch.tensor(y_train).float()\n"
          ]
        }
      ],
      "source": [
        "# Prepare data for Pyro\n",
        "# X_train = X_train.astype(np.float64)\n",
        "# y_train = y_train.astype(np.int32)\n",
        "\n",
        "X_train = torch.tensor(X_train).float()\n",
        "y_train = torch.tensor(y_train).float()"
      ]
    },
    {
      "cell_type": "code",
      "execution_count": 13,
      "metadata": {
        "colab": {
          "base_uri": "https://localhost:8080/"
        },
        "id": "zwhMSo8zL0Va",
        "outputId": "60e98e9d-5535-4c85-ebb6-655a5ec027d4"
      },
      "outputs": [
        {
          "data": {
            "text/plain": [
              "tensor([2.0000e+00, 0.0000e+00, 7.9200e+04, 1.0000e+00, 1.0175e+04, 0.0000e+00,\n",
              "        8.3200e+00, 0.0000e+00, 3.9689e+04, 0.0000e+00, 1.9000e+01, 4.0000e+00,\n",
              "        3.0000e+00, 7.6560e+03, 2.0000e+00, 0.0000e+00])"
            ]
          },
          "execution_count": 13,
          "metadata": {},
          "output_type": "execute_result"
        }
      ],
      "source": [
        "X_train[0]"
      ]
    },
    {
      "cell_type": "code",
      "execution_count": 30,
      "metadata": {
        "colab": {
          "base_uri": "https://localhost:8080/"
        },
        "id": "9zSA6TGoLgt5",
        "outputId": "7ebdf794-69dc-4ed1-c5ce-6715f0874272"
      },
      "outputs": [
        {
          "name": "stdout",
          "output_type": "stream",
          "text": [
            "[0] ELBO: 891463281.7\n",
            "[1000] ELBO: 406754135.6\n",
            "[2000] ELBO: 303357096.2\n",
            "[3000] ELBO: 80824699.5\n",
            "[4000] ELBO: 172266692.0\n",
            "[5000] ELBO: 66544383.7\n",
            "[6000] ELBO: 50009928.3\n",
            "[7000] ELBO: 61477913.7\n",
            "[8000] ELBO: 72050405.7\n",
            "[9000] ELBO: 27673539.9\n"
          ]
        }
      ],
      "source": [
        "# Define guide function\n",
        "guide = AutoMultivariateNormal(model)\n",
        "\n",
        "# Reset parameter values\n",
        "pyro.clear_param_store()\n",
        "\n",
        "# Define the number of optimization steps\n",
        "# n_steps = 40000\n",
        "n_steps = 10000\n",
        "\n",
        "# Setup the optimizer\n",
        "adam_params = {\"lr\": 0.001, \"betas\": (0.9, 0.999)}  # Added betas for momentum\n",
        "optimizer = ClippedAdam(adam_params)\n",
        "\n",
        "# Setup the inference algorithm\n",
        "elbo = Trace_ELBO(num_particles=1)\n",
        "svi = SVI(model, guide, optimizer, loss=elbo)\n",
        "\n",
        "# Do gradient steps\n",
        "for step in range(n_steps):\n",
        "    elbo = svi.step(X_train, n_cat, y_train)\n",
        "    if step % 1000 == 0:\n",
        "        print(\"[%d] ELBO: %.1f\" % (step, elbo))"
      ]
    },
    {
      "cell_type": "code",
      "execution_count": 31,
      "metadata": {
        "id": "PwyK8j4zLgt6"
      },
      "outputs": [],
      "source": [
        "from pyro.infer import Predictive\n",
        "\n",
        "predictive = Predictive(model, guide=guide, num_samples=2000,\n",
        "                        return_sites=(\"alpha\", \"beta\"))\n",
        "samples = predictive(X_train, n_cat, y_train-1)"
      ]
    },
    {
      "cell_type": "code",
      "execution_count": 32,
      "metadata": {
        "id": "dw6NAyS-Lgt6"
      },
      "outputs": [],
      "source": [
        "samples_alpha = samples[\"alpha\"].detach().squeeze()\n",
        "samples_beta = samples['beta'].detach().squeeze()"
      ]
    },
    {
      "cell_type": "code",
      "execution_count": 33,
      "metadata": {
        "id": "l81vqWUEOnVP"
      },
      "outputs": [],
      "source": [
        "alpha_hat = samples_alpha.mean(axis=0).numpy()\n",
        "beta_hat = samples_beta.mean(axis=0).numpy()"
      ]
    },
    {
      "cell_type": "code",
      "execution_count": 34,
      "metadata": {
        "colab": {
          "base_uri": "https://localhost:8080/"
        },
        "id": "FUwRMF7RLgt6",
        "outputId": "61fb2859-1cb0-46e7-e99a-50d2de9e0aeb"
      },
      "outputs": [
        {
          "name": "stdout",
          "output_type": "stream",
          "text": [
            "predictions: [0 0 0 ... 0 0 0]\n",
            "true values: [0 0 0 ... 0 0 0]\n",
            "Accuracy: 0.7781848739495798\n"
          ]
        }
      ],
      "source": [
        "# make predictions for test set\n",
        "y_hat = alpha_hat + np.dot(X_test, beta_hat)\n",
        "y_hat = np.argmax(y_hat, axis=1)\n",
        "print(\"predictions:\", y_hat)\n",
        "print(\"true values:\", y_test)\n",
        "\n",
        "# evaluate prediction accuracy\n",
        "acc_c_103 = 1.0*np.sum(y_hat == y_test) / len(y_test)\n",
        "accuracies.append(acc_c_103)\n",
        "print(\"Accuracy:\", acc_c_103)"
      ]
    },
    {
      "cell_type": "markdown",
      "metadata": {
        "id": "xz87Jvdey85l"
      },
      "source": [
        "# 04. Hierarchal Classification"
      ]
    },
    {
      "cell_type": "markdown",
      "metadata": {
        "id": "rvYk_0ulO8MB"
      },
      "source": [
        "## 04.01. Prepare Dataset"
      ]
    },
    {
      "cell_type": "markdown",
      "metadata": {
        "id": "SHQ5f9oq1nJl"
      },
      "source": [
        "We need to add a unique integer identifier for every individual to be used in the hierarchal model."
      ]
    },
    {
      "cell_type": "code",
      "execution_count": 65,
      "metadata": {
        "colab": {
          "base_uri": "https://localhost:8080/",
          "height": 255
        },
        "id": "0kyCwvtxEYiK",
        "outputId": "b316ed0d-bcf3-4af9-ca85-9baa91091acc"
      },
      "outputs": [
        {
          "data": {
            "application/vnd.google.colaboratory.intrinsic+json": {
              "type": "dataframe",
              "variable_name": "final_df"
            },
            "text/html": [
              "\n",
              "  <div id=\"df-2136ee0c-80a6-41a9-8456-abf65e249fcd\" class=\"colab-df-container\">\n",
              "    <div>\n",
              "<style scoped>\n",
              "    .dataframe tbody tr th:only-of-type {\n",
              "        vertical-align: middle;\n",
              "    }\n",
              "\n",
              "    .dataframe tbody tr th {\n",
              "        vertical-align: top;\n",
              "    }\n",
              "\n",
              "    .dataframe thead th {\n",
              "        text-align: right;\n",
              "    }\n",
              "</style>\n",
              "<table border=\"1\" class=\"dataframe\">\n",
              "  <thead>\n",
              "    <tr style=\"text-align: right;\">\n",
              "      <th></th>\n",
              "      <th>GGGrade</th>\n",
              "      <th>Validation</th>\n",
              "      <th>Yearly_Income</th>\n",
              "      <th>Home_Status</th>\n",
              "      <th>Lend_Amount</th>\n",
              "      <th>Deprecatory_Records</th>\n",
              "      <th>Interest_Charged</th>\n",
              "      <th>Inquiries</th>\n",
              "      <th>Present_Balance</th>\n",
              "      <th>Gross_Collection</th>\n",
              "      <th>...</th>\n",
              "      <th>Reason</th>\n",
              "      <th>Due_Fee</th>\n",
              "      <th>Home0</th>\n",
              "      <th>Home1</th>\n",
              "      <th>Home2</th>\n",
              "      <th>Home3</th>\n",
              "      <th>Home4</th>\n",
              "      <th>Duration[3]</th>\n",
              "      <th>Duration[5]</th>\n",
              "      <th>Default</th>\n",
              "    </tr>\n",
              "  </thead>\n",
              "  <tbody>\n",
              "    <tr>\n",
              "      <th>0</th>\n",
              "      <td>1</td>\n",
              "      <td>2</td>\n",
              "      <td>383680</td>\n",
              "      <td>0</td>\n",
              "      <td>41040</td>\n",
              "      <td>0</td>\n",
              "      <td>9.84</td>\n",
              "      <td>0</td>\n",
              "      <td>1434440</td>\n",
              "      <td>0</td>\n",
              "      <td>...</td>\n",
              "      <td>2</td>\n",
              "      <td>0.0</td>\n",
              "      <td>0</td>\n",
              "      <td>0</td>\n",
              "      <td>0</td>\n",
              "      <td>0</td>\n",
              "      <td>0</td>\n",
              "      <td>1</td>\n",
              "      <td>1</td>\n",
              "      <td>1</td>\n",
              "    </tr>\n",
              "    <tr>\n",
              "      <th>1</th>\n",
              "      <td>4</td>\n",
              "      <td>1</td>\n",
              "      <td>61600</td>\n",
              "      <td>1</td>\n",
              "      <td>17100</td>\n",
              "      <td>0</td>\n",
              "      <td>21.84</td>\n",
              "      <td>1</td>\n",
              "      <td>15999</td>\n",
              "      <td>0</td>\n",
              "      <td>...</td>\n",
              "      <td>1</td>\n",
              "      <td>0.0</td>\n",
              "      <td>1</td>\n",
              "      <td>1</td>\n",
              "      <td>1</td>\n",
              "      <td>1</td>\n",
              "      <td>1</td>\n",
              "      <td>1</td>\n",
              "      <td>1</td>\n",
              "      <td>0</td>\n",
              "    </tr>\n",
              "    <tr>\n",
              "      <th>2</th>\n",
              "      <td>2</td>\n",
              "      <td>1</td>\n",
              "      <td>0</td>\n",
              "      <td>0</td>\n",
              "      <td>25137</td>\n",
              "      <td>1</td>\n",
              "      <td>18.44</td>\n",
              "      <td>2</td>\n",
              "      <td>155285</td>\n",
              "      <td>0</td>\n",
              "      <td>...</td>\n",
              "      <td>1</td>\n",
              "      <td>0.0</td>\n",
              "      <td>0</td>\n",
              "      <td>0</td>\n",
              "      <td>0</td>\n",
              "      <td>0</td>\n",
              "      <td>0</td>\n",
              "      <td>1</td>\n",
              "      <td>1</td>\n",
              "      <td>0</td>\n",
              "    </tr>\n",
              "    <tr>\n",
              "      <th>3</th>\n",
              "      <td>4</td>\n",
              "      <td>2</td>\n",
              "      <td>619520</td>\n",
              "      <td>0</td>\n",
              "      <td>41040</td>\n",
              "      <td>0</td>\n",
              "      <td>17.73</td>\n",
              "      <td>1</td>\n",
              "      <td>988491</td>\n",
              "      <td>0</td>\n",
              "      <td>...</td>\n",
              "      <td>2</td>\n",
              "      <td>0.0</td>\n",
              "      <td>0</td>\n",
              "      <td>0</td>\n",
              "      <td>0</td>\n",
              "      <td>0</td>\n",
              "      <td>0</td>\n",
              "      <td>1</td>\n",
              "      <td>1</td>\n",
              "      <td>1</td>\n",
              "    </tr>\n",
              "    <tr>\n",
              "      <th>4</th>\n",
              "      <td>3</td>\n",
              "      <td>0</td>\n",
              "      <td>179520</td>\n",
              "      <td>2</td>\n",
              "      <td>30780</td>\n",
              "      <td>1</td>\n",
              "      <td>17.89</td>\n",
              "      <td>0</td>\n",
              "      <td>325889</td>\n",
              "      <td>0</td>\n",
              "      <td>...</td>\n",
              "      <td>2</td>\n",
              "      <td>0.0</td>\n",
              "      <td>2</td>\n",
              "      <td>2</td>\n",
              "      <td>2</td>\n",
              "      <td>2</td>\n",
              "      <td>2</td>\n",
              "      <td>0</td>\n",
              "      <td>0</td>\n",
              "      <td>0</td>\n",
              "    </tr>\n",
              "  </tbody>\n",
              "</table>\n",
              "<p>5 rows × 24 columns</p>\n",
              "</div>\n",
              "    <div class=\"colab-df-buttons\">\n",
              "\n",
              "  <div class=\"colab-df-container\">\n",
              "    <button class=\"colab-df-convert\" onclick=\"convertToInteractive('df-2136ee0c-80a6-41a9-8456-abf65e249fcd')\"\n",
              "            title=\"Convert this dataframe to an interactive table.\"\n",
              "            style=\"display:none;\">\n",
              "\n",
              "  <svg xmlns=\"http://www.w3.org/2000/svg\" height=\"24px\" viewBox=\"0 -960 960 960\">\n",
              "    <path d=\"M120-120v-720h720v720H120Zm60-500h600v-160H180v160Zm220 220h160v-160H400v160Zm0 220h160v-160H400v160ZM180-400h160v-160H180v160Zm440 0h160v-160H620v160ZM180-180h160v-160H180v160Zm440 0h160v-160H620v160Z\"/>\n",
              "  </svg>\n",
              "    </button>\n",
              "\n",
              "  <style>\n",
              "    .colab-df-container {\n",
              "      display:flex;\n",
              "      gap: 12px;\n",
              "    }\n",
              "\n",
              "    .colab-df-convert {\n",
              "      background-color: #E8F0FE;\n",
              "      border: none;\n",
              "      border-radius: 50%;\n",
              "      cursor: pointer;\n",
              "      display: none;\n",
              "      fill: #1967D2;\n",
              "      height: 32px;\n",
              "      padding: 0 0 0 0;\n",
              "      width: 32px;\n",
              "    }\n",
              "\n",
              "    .colab-df-convert:hover {\n",
              "      background-color: #E2EBFA;\n",
              "      box-shadow: 0px 1px 2px rgba(60, 64, 67, 0.3), 0px 1px 3px 1px rgba(60, 64, 67, 0.15);\n",
              "      fill: #174EA6;\n",
              "    }\n",
              "\n",
              "    .colab-df-buttons div {\n",
              "      margin-bottom: 4px;\n",
              "    }\n",
              "\n",
              "    [theme=dark] .colab-df-convert {\n",
              "      background-color: #3B4455;\n",
              "      fill: #D2E3FC;\n",
              "    }\n",
              "\n",
              "    [theme=dark] .colab-df-convert:hover {\n",
              "      background-color: #434B5C;\n",
              "      box-shadow: 0px 1px 3px 1px rgba(0, 0, 0, 0.15);\n",
              "      filter: drop-shadow(0px 1px 2px rgba(0, 0, 0, 0.3));\n",
              "      fill: #FFFFFF;\n",
              "    }\n",
              "  </style>\n",
              "\n",
              "    <script>\n",
              "      const buttonEl =\n",
              "        document.querySelector('#df-2136ee0c-80a6-41a9-8456-abf65e249fcd button.colab-df-convert');\n",
              "      buttonEl.style.display =\n",
              "        google.colab.kernel.accessAllowed ? 'block' : 'none';\n",
              "\n",
              "      async function convertToInteractive(key) {\n",
              "        const element = document.querySelector('#df-2136ee0c-80a6-41a9-8456-abf65e249fcd');\n",
              "        const dataTable =\n",
              "          await google.colab.kernel.invokeFunction('convertToInteractive',\n",
              "                                                    [key], {});\n",
              "        if (!dataTable) return;\n",
              "\n",
              "        const docLinkHtml = 'Like what you see? Visit the ' +\n",
              "          '<a target=\"_blank\" href=https://colab.research.google.com/notebooks/data_table.ipynb>data table notebook</a>'\n",
              "          + ' to learn more about interactive tables.';\n",
              "        element.innerHTML = '';\n",
              "        dataTable['output_type'] = 'display_data';\n",
              "        await google.colab.output.renderOutput(dataTable, element);\n",
              "        const docLink = document.createElement('div');\n",
              "        docLink.innerHTML = docLinkHtml;\n",
              "        element.appendChild(docLink);\n",
              "      }\n",
              "    </script>\n",
              "  </div>\n",
              "\n",
              "\n",
              "<div id=\"df-66f44279-71e7-478b-9abf-9ae1c61f19ec\">\n",
              "  <button class=\"colab-df-quickchart\" onclick=\"quickchart('df-66f44279-71e7-478b-9abf-9ae1c61f19ec')\"\n",
              "            title=\"Suggest charts\"\n",
              "            style=\"display:none;\">\n",
              "\n",
              "<svg xmlns=\"http://www.w3.org/2000/svg\" height=\"24px\"viewBox=\"0 0 24 24\"\n",
              "     width=\"24px\">\n",
              "    <g>\n",
              "        <path d=\"M19 3H5c-1.1 0-2 .9-2 2v14c0 1.1.9 2 2 2h14c1.1 0 2-.9 2-2V5c0-1.1-.9-2-2-2zM9 17H7v-7h2v7zm4 0h-2V7h2v10zm4 0h-2v-4h2v4z\"/>\n",
              "    </g>\n",
              "</svg>\n",
              "  </button>\n",
              "\n",
              "<style>\n",
              "  .colab-df-quickchart {\n",
              "      --bg-color: #E8F0FE;\n",
              "      --fill-color: #1967D2;\n",
              "      --hover-bg-color: #E2EBFA;\n",
              "      --hover-fill-color: #174EA6;\n",
              "      --disabled-fill-color: #AAA;\n",
              "      --disabled-bg-color: #DDD;\n",
              "  }\n",
              "\n",
              "  [theme=dark] .colab-df-quickchart {\n",
              "      --bg-color: #3B4455;\n",
              "      --fill-color: #D2E3FC;\n",
              "      --hover-bg-color: #434B5C;\n",
              "      --hover-fill-color: #FFFFFF;\n",
              "      --disabled-bg-color: #3B4455;\n",
              "      --disabled-fill-color: #666;\n",
              "  }\n",
              "\n",
              "  .colab-df-quickchart {\n",
              "    background-color: var(--bg-color);\n",
              "    border: none;\n",
              "    border-radius: 50%;\n",
              "    cursor: pointer;\n",
              "    display: none;\n",
              "    fill: var(--fill-color);\n",
              "    height: 32px;\n",
              "    padding: 0;\n",
              "    width: 32px;\n",
              "  }\n",
              "\n",
              "  .colab-df-quickchart:hover {\n",
              "    background-color: var(--hover-bg-color);\n",
              "    box-shadow: 0 1px 2px rgba(60, 64, 67, 0.3), 0 1px 3px 1px rgba(60, 64, 67, 0.15);\n",
              "    fill: var(--button-hover-fill-color);\n",
              "  }\n",
              "\n",
              "  .colab-df-quickchart-complete:disabled,\n",
              "  .colab-df-quickchart-complete:disabled:hover {\n",
              "    background-color: var(--disabled-bg-color);\n",
              "    fill: var(--disabled-fill-color);\n",
              "    box-shadow: none;\n",
              "  }\n",
              "\n",
              "  .colab-df-spinner {\n",
              "    border: 2px solid var(--fill-color);\n",
              "    border-color: transparent;\n",
              "    border-bottom-color: var(--fill-color);\n",
              "    animation:\n",
              "      spin 1s steps(1) infinite;\n",
              "  }\n",
              "\n",
              "  @keyframes spin {\n",
              "    0% {\n",
              "      border-color: transparent;\n",
              "      border-bottom-color: var(--fill-color);\n",
              "      border-left-color: var(--fill-color);\n",
              "    }\n",
              "    20% {\n",
              "      border-color: transparent;\n",
              "      border-left-color: var(--fill-color);\n",
              "      border-top-color: var(--fill-color);\n",
              "    }\n",
              "    30% {\n",
              "      border-color: transparent;\n",
              "      border-left-color: var(--fill-color);\n",
              "      border-top-color: var(--fill-color);\n",
              "      border-right-color: var(--fill-color);\n",
              "    }\n",
              "    40% {\n",
              "      border-color: transparent;\n",
              "      border-right-color: var(--fill-color);\n",
              "      border-top-color: var(--fill-color);\n",
              "    }\n",
              "    60% {\n",
              "      border-color: transparent;\n",
              "      border-right-color: var(--fill-color);\n",
              "    }\n",
              "    80% {\n",
              "      border-color: transparent;\n",
              "      border-right-color: var(--fill-color);\n",
              "      border-bottom-color: var(--fill-color);\n",
              "    }\n",
              "    90% {\n",
              "      border-color: transparent;\n",
              "      border-bottom-color: var(--fill-color);\n",
              "    }\n",
              "  }\n",
              "</style>\n",
              "\n",
              "  <script>\n",
              "    async function quickchart(key) {\n",
              "      const quickchartButtonEl =\n",
              "        document.querySelector('#' + key + ' button');\n",
              "      quickchartButtonEl.disabled = true;  // To prevent multiple clicks.\n",
              "      quickchartButtonEl.classList.add('colab-df-spinner');\n",
              "      try {\n",
              "        const charts = await google.colab.kernel.invokeFunction(\n",
              "            'suggestCharts', [key], {});\n",
              "      } catch (error) {\n",
              "        console.error('Error during call to suggestCharts:', error);\n",
              "      }\n",
              "      quickchartButtonEl.classList.remove('colab-df-spinner');\n",
              "      quickchartButtonEl.classList.add('colab-df-quickchart-complete');\n",
              "    }\n",
              "    (() => {\n",
              "      let quickchartButtonEl =\n",
              "        document.querySelector('#df-66f44279-71e7-478b-9abf-9ae1c61f19ec button');\n",
              "      quickchartButtonEl.style.display =\n",
              "        google.colab.kernel.accessAllowed ? 'block' : 'none';\n",
              "    })();\n",
              "  </script>\n",
              "</div>\n",
              "    </div>\n",
              "  </div>\n"
            ],
            "text/plain": [
              "   GGGrade  Validation  Yearly_Income  Home_Status  Lend_Amount  \\\n",
              "0        1           2         383680            0        41040   \n",
              "1        4           1          61600            1        17100   \n",
              "2        2           1              0            0        25137   \n",
              "3        4           2         619520            0        41040   \n",
              "4        3           0         179520            2        30780   \n",
              "\n",
              "   Deprecatory_Records  Interest_Charged  Inquiries  Present_Balance  \\\n",
              "0                    0              9.84          0          1434440   \n",
              "1                    0             21.84          1            15999   \n",
              "2                    1             18.44          2           155285   \n",
              "3                    0             17.73          1           988491   \n",
              "4                    1             17.89          0           325889   \n",
              "\n",
              "   Gross_Collection  ...  Reason  Due_Fee  Home0  Home1  Home2  Home3  Home4  \\\n",
              "0                 0  ...       2      0.0      0      0      0      0      0   \n",
              "1                 0  ...       1      0.0      1      1      1      1      1   \n",
              "2                 0  ...       1      0.0      0      0      0      0      0   \n",
              "3                 0  ...       2      0.0      0      0      0      0      0   \n",
              "4                 0  ...       2      0.0      2      2      2      2      2   \n",
              "\n",
              "   Duration[3]  Duration[5]  Default  \n",
              "0            1            1        1  \n",
              "1            1            1        0  \n",
              "2            1            1        0  \n",
              "3            1            1        1  \n",
              "4            0            0        0  \n",
              "\n",
              "[5 rows x 24 columns]"
            ]
          },
          "execution_count": 65,
          "metadata": {},
          "output_type": "execute_result"
        }
      ],
      "source": [
        "final_df.head()"
      ]
    },
    {
      "cell_type": "code",
      "execution_count": 66,
      "metadata": {
        "id": "MryJdnnfC7oc"
      },
      "outputs": [],
      "source": [
        "sstates = [sstates for sstates in final_df['State'].unique()]\n",
        "final_df['ind'] = final_df.apply(lambda row: sstates.index(row['State']) + 1, axis = 1)\n",
        "final_df = final_df[[c for c in final_df if c not in ['Default']] + ['Default']]\n",
        "ind_column = final_df.pop('ind')\n",
        "final_df.insert(1, 'ind', ind_column)"
      ]
    },
    {
      "cell_type": "code",
      "execution_count": 67,
      "metadata": {
        "colab": {
          "base_uri": "https://localhost:8080/",
          "height": 255
        },
        "id": "3d_HsoBAFIZb",
        "outputId": "98e17f85-1284-444c-94b9-42ad14d6b43d"
      },
      "outputs": [
        {
          "data": {
            "application/vnd.google.colaboratory.intrinsic+json": {
              "type": "dataframe",
              "variable_name": "final_df"
            },
            "text/html": [
              "\n",
              "  <div id=\"df-76c7cb2c-96f1-44b6-8d8b-48277ad86265\" class=\"colab-df-container\">\n",
              "    <div>\n",
              "<style scoped>\n",
              "    .dataframe tbody tr th:only-of-type {\n",
              "        vertical-align: middle;\n",
              "    }\n",
              "\n",
              "    .dataframe tbody tr th {\n",
              "        vertical-align: top;\n",
              "    }\n",
              "\n",
              "    .dataframe thead th {\n",
              "        text-align: right;\n",
              "    }\n",
              "</style>\n",
              "<table border=\"1\" class=\"dataframe\">\n",
              "  <thead>\n",
              "    <tr style=\"text-align: right;\">\n",
              "      <th></th>\n",
              "      <th>GGGrade</th>\n",
              "      <th>ind</th>\n",
              "      <th>Validation</th>\n",
              "      <th>Yearly_Income</th>\n",
              "      <th>Home_Status</th>\n",
              "      <th>Lend_Amount</th>\n",
              "      <th>Deprecatory_Records</th>\n",
              "      <th>Interest_Charged</th>\n",
              "      <th>Inquiries</th>\n",
              "      <th>Present_Balance</th>\n",
              "      <th>...</th>\n",
              "      <th>Reason</th>\n",
              "      <th>Due_Fee</th>\n",
              "      <th>Home0</th>\n",
              "      <th>Home1</th>\n",
              "      <th>Home2</th>\n",
              "      <th>Home3</th>\n",
              "      <th>Home4</th>\n",
              "      <th>Duration[3]</th>\n",
              "      <th>Duration[5]</th>\n",
              "      <th>Default</th>\n",
              "    </tr>\n",
              "  </thead>\n",
              "  <tbody>\n",
              "    <tr>\n",
              "      <th>0</th>\n",
              "      <td>1</td>\n",
              "      <td>1</td>\n",
              "      <td>2</td>\n",
              "      <td>383680</td>\n",
              "      <td>0</td>\n",
              "      <td>41040</td>\n",
              "      <td>0</td>\n",
              "      <td>9.84</td>\n",
              "      <td>0</td>\n",
              "      <td>1434440</td>\n",
              "      <td>...</td>\n",
              "      <td>2</td>\n",
              "      <td>0.0</td>\n",
              "      <td>0</td>\n",
              "      <td>0</td>\n",
              "      <td>0</td>\n",
              "      <td>0</td>\n",
              "      <td>0</td>\n",
              "      <td>1</td>\n",
              "      <td>1</td>\n",
              "      <td>1</td>\n",
              "    </tr>\n",
              "    <tr>\n",
              "      <th>1</th>\n",
              "      <td>4</td>\n",
              "      <td>2</td>\n",
              "      <td>1</td>\n",
              "      <td>61600</td>\n",
              "      <td>1</td>\n",
              "      <td>17100</td>\n",
              "      <td>0</td>\n",
              "      <td>21.84</td>\n",
              "      <td>1</td>\n",
              "      <td>15999</td>\n",
              "      <td>...</td>\n",
              "      <td>1</td>\n",
              "      <td>0.0</td>\n",
              "      <td>1</td>\n",
              "      <td>1</td>\n",
              "      <td>1</td>\n",
              "      <td>1</td>\n",
              "      <td>1</td>\n",
              "      <td>1</td>\n",
              "      <td>1</td>\n",
              "      <td>0</td>\n",
              "    </tr>\n",
              "    <tr>\n",
              "      <th>2</th>\n",
              "      <td>2</td>\n",
              "      <td>3</td>\n",
              "      <td>1</td>\n",
              "      <td>0</td>\n",
              "      <td>0</td>\n",
              "      <td>25137</td>\n",
              "      <td>1</td>\n",
              "      <td>18.44</td>\n",
              "      <td>2</td>\n",
              "      <td>155285</td>\n",
              "      <td>...</td>\n",
              "      <td>1</td>\n",
              "      <td>0.0</td>\n",
              "      <td>0</td>\n",
              "      <td>0</td>\n",
              "      <td>0</td>\n",
              "      <td>0</td>\n",
              "      <td>0</td>\n",
              "      <td>1</td>\n",
              "      <td>1</td>\n",
              "      <td>0</td>\n",
              "    </tr>\n",
              "    <tr>\n",
              "      <th>3</th>\n",
              "      <td>4</td>\n",
              "      <td>4</td>\n",
              "      <td>2</td>\n",
              "      <td>619520</td>\n",
              "      <td>0</td>\n",
              "      <td>41040</td>\n",
              "      <td>0</td>\n",
              "      <td>17.73</td>\n",
              "      <td>1</td>\n",
              "      <td>988491</td>\n",
              "      <td>...</td>\n",
              "      <td>2</td>\n",
              "      <td>0.0</td>\n",
              "      <td>0</td>\n",
              "      <td>0</td>\n",
              "      <td>0</td>\n",
              "      <td>0</td>\n",
              "      <td>0</td>\n",
              "      <td>1</td>\n",
              "      <td>1</td>\n",
              "      <td>1</td>\n",
              "    </tr>\n",
              "    <tr>\n",
              "      <th>4</th>\n",
              "      <td>3</td>\n",
              "      <td>5</td>\n",
              "      <td>0</td>\n",
              "      <td>179520</td>\n",
              "      <td>2</td>\n",
              "      <td>30780</td>\n",
              "      <td>1</td>\n",
              "      <td>17.89</td>\n",
              "      <td>0</td>\n",
              "      <td>325889</td>\n",
              "      <td>...</td>\n",
              "      <td>2</td>\n",
              "      <td>0.0</td>\n",
              "      <td>2</td>\n",
              "      <td>2</td>\n",
              "      <td>2</td>\n",
              "      <td>2</td>\n",
              "      <td>2</td>\n",
              "      <td>0</td>\n",
              "      <td>0</td>\n",
              "      <td>0</td>\n",
              "    </tr>\n",
              "  </tbody>\n",
              "</table>\n",
              "<p>5 rows × 25 columns</p>\n",
              "</div>\n",
              "    <div class=\"colab-df-buttons\">\n",
              "\n",
              "  <div class=\"colab-df-container\">\n",
              "    <button class=\"colab-df-convert\" onclick=\"convertToInteractive('df-76c7cb2c-96f1-44b6-8d8b-48277ad86265')\"\n",
              "            title=\"Convert this dataframe to an interactive table.\"\n",
              "            style=\"display:none;\">\n",
              "\n",
              "  <svg xmlns=\"http://www.w3.org/2000/svg\" height=\"24px\" viewBox=\"0 -960 960 960\">\n",
              "    <path d=\"M120-120v-720h720v720H120Zm60-500h600v-160H180v160Zm220 220h160v-160H400v160Zm0 220h160v-160H400v160ZM180-400h160v-160H180v160Zm440 0h160v-160H620v160ZM180-180h160v-160H180v160Zm440 0h160v-160H620v160Z\"/>\n",
              "  </svg>\n",
              "    </button>\n",
              "\n",
              "  <style>\n",
              "    .colab-df-container {\n",
              "      display:flex;\n",
              "      gap: 12px;\n",
              "    }\n",
              "\n",
              "    .colab-df-convert {\n",
              "      background-color: #E8F0FE;\n",
              "      border: none;\n",
              "      border-radius: 50%;\n",
              "      cursor: pointer;\n",
              "      display: none;\n",
              "      fill: #1967D2;\n",
              "      height: 32px;\n",
              "      padding: 0 0 0 0;\n",
              "      width: 32px;\n",
              "    }\n",
              "\n",
              "    .colab-df-convert:hover {\n",
              "      background-color: #E2EBFA;\n",
              "      box-shadow: 0px 1px 2px rgba(60, 64, 67, 0.3), 0px 1px 3px 1px rgba(60, 64, 67, 0.15);\n",
              "      fill: #174EA6;\n",
              "    }\n",
              "\n",
              "    .colab-df-buttons div {\n",
              "      margin-bottom: 4px;\n",
              "    }\n",
              "\n",
              "    [theme=dark] .colab-df-convert {\n",
              "      background-color: #3B4455;\n",
              "      fill: #D2E3FC;\n",
              "    }\n",
              "\n",
              "    [theme=dark] .colab-df-convert:hover {\n",
              "      background-color: #434B5C;\n",
              "      box-shadow: 0px 1px 3px 1px rgba(0, 0, 0, 0.15);\n",
              "      filter: drop-shadow(0px 1px 2px rgba(0, 0, 0, 0.3));\n",
              "      fill: #FFFFFF;\n",
              "    }\n",
              "  </style>\n",
              "\n",
              "    <script>\n",
              "      const buttonEl =\n",
              "        document.querySelector('#df-76c7cb2c-96f1-44b6-8d8b-48277ad86265 button.colab-df-convert');\n",
              "      buttonEl.style.display =\n",
              "        google.colab.kernel.accessAllowed ? 'block' : 'none';\n",
              "\n",
              "      async function convertToInteractive(key) {\n",
              "        const element = document.querySelector('#df-76c7cb2c-96f1-44b6-8d8b-48277ad86265');\n",
              "        const dataTable =\n",
              "          await google.colab.kernel.invokeFunction('convertToInteractive',\n",
              "                                                    [key], {});\n",
              "        if (!dataTable) return;\n",
              "\n",
              "        const docLinkHtml = 'Like what you see? Visit the ' +\n",
              "          '<a target=\"_blank\" href=https://colab.research.google.com/notebooks/data_table.ipynb>data table notebook</a>'\n",
              "          + ' to learn more about interactive tables.';\n",
              "        element.innerHTML = '';\n",
              "        dataTable['output_type'] = 'display_data';\n",
              "        await google.colab.output.renderOutput(dataTable, element);\n",
              "        const docLink = document.createElement('div');\n",
              "        docLink.innerHTML = docLinkHtml;\n",
              "        element.appendChild(docLink);\n",
              "      }\n",
              "    </script>\n",
              "  </div>\n",
              "\n",
              "\n",
              "<div id=\"df-a75e21a2-b5f1-479e-a807-c039f9849121\">\n",
              "  <button class=\"colab-df-quickchart\" onclick=\"quickchart('df-a75e21a2-b5f1-479e-a807-c039f9849121')\"\n",
              "            title=\"Suggest charts\"\n",
              "            style=\"display:none;\">\n",
              "\n",
              "<svg xmlns=\"http://www.w3.org/2000/svg\" height=\"24px\"viewBox=\"0 0 24 24\"\n",
              "     width=\"24px\">\n",
              "    <g>\n",
              "        <path d=\"M19 3H5c-1.1 0-2 .9-2 2v14c0 1.1.9 2 2 2h14c1.1 0 2-.9 2-2V5c0-1.1-.9-2-2-2zM9 17H7v-7h2v7zm4 0h-2V7h2v10zm4 0h-2v-4h2v4z\"/>\n",
              "    </g>\n",
              "</svg>\n",
              "  </button>\n",
              "\n",
              "<style>\n",
              "  .colab-df-quickchart {\n",
              "      --bg-color: #E8F0FE;\n",
              "      --fill-color: #1967D2;\n",
              "      --hover-bg-color: #E2EBFA;\n",
              "      --hover-fill-color: #174EA6;\n",
              "      --disabled-fill-color: #AAA;\n",
              "      --disabled-bg-color: #DDD;\n",
              "  }\n",
              "\n",
              "  [theme=dark] .colab-df-quickchart {\n",
              "      --bg-color: #3B4455;\n",
              "      --fill-color: #D2E3FC;\n",
              "      --hover-bg-color: #434B5C;\n",
              "      --hover-fill-color: #FFFFFF;\n",
              "      --disabled-bg-color: #3B4455;\n",
              "      --disabled-fill-color: #666;\n",
              "  }\n",
              "\n",
              "  .colab-df-quickchart {\n",
              "    background-color: var(--bg-color);\n",
              "    border: none;\n",
              "    border-radius: 50%;\n",
              "    cursor: pointer;\n",
              "    display: none;\n",
              "    fill: var(--fill-color);\n",
              "    height: 32px;\n",
              "    padding: 0;\n",
              "    width: 32px;\n",
              "  }\n",
              "\n",
              "  .colab-df-quickchart:hover {\n",
              "    background-color: var(--hover-bg-color);\n",
              "    box-shadow: 0 1px 2px rgba(60, 64, 67, 0.3), 0 1px 3px 1px rgba(60, 64, 67, 0.15);\n",
              "    fill: var(--button-hover-fill-color);\n",
              "  }\n",
              "\n",
              "  .colab-df-quickchart-complete:disabled,\n",
              "  .colab-df-quickchart-complete:disabled:hover {\n",
              "    background-color: var(--disabled-bg-color);\n",
              "    fill: var(--disabled-fill-color);\n",
              "    box-shadow: none;\n",
              "  }\n",
              "\n",
              "  .colab-df-spinner {\n",
              "    border: 2px solid var(--fill-color);\n",
              "    border-color: transparent;\n",
              "    border-bottom-color: var(--fill-color);\n",
              "    animation:\n",
              "      spin 1s steps(1) infinite;\n",
              "  }\n",
              "\n",
              "  @keyframes spin {\n",
              "    0% {\n",
              "      border-color: transparent;\n",
              "      border-bottom-color: var(--fill-color);\n",
              "      border-left-color: var(--fill-color);\n",
              "    }\n",
              "    20% {\n",
              "      border-color: transparent;\n",
              "      border-left-color: var(--fill-color);\n",
              "      border-top-color: var(--fill-color);\n",
              "    }\n",
              "    30% {\n",
              "      border-color: transparent;\n",
              "      border-left-color: var(--fill-color);\n",
              "      border-top-color: var(--fill-color);\n",
              "      border-right-color: var(--fill-color);\n",
              "    }\n",
              "    40% {\n",
              "      border-color: transparent;\n",
              "      border-right-color: var(--fill-color);\n",
              "      border-top-color: var(--fill-color);\n",
              "    }\n",
              "    60% {\n",
              "      border-color: transparent;\n",
              "      border-right-color: var(--fill-color);\n",
              "    }\n",
              "    80% {\n",
              "      border-color: transparent;\n",
              "      border-right-color: var(--fill-color);\n",
              "      border-bottom-color: var(--fill-color);\n",
              "    }\n",
              "    90% {\n",
              "      border-color: transparent;\n",
              "      border-bottom-color: var(--fill-color);\n",
              "    }\n",
              "  }\n",
              "</style>\n",
              "\n",
              "  <script>\n",
              "    async function quickchart(key) {\n",
              "      const quickchartButtonEl =\n",
              "        document.querySelector('#' + key + ' button');\n",
              "      quickchartButtonEl.disabled = true;  // To prevent multiple clicks.\n",
              "      quickchartButtonEl.classList.add('colab-df-spinner');\n",
              "      try {\n",
              "        const charts = await google.colab.kernel.invokeFunction(\n",
              "            'suggestCharts', [key], {});\n",
              "      } catch (error) {\n",
              "        console.error('Error during call to suggestCharts:', error);\n",
              "      }\n",
              "      quickchartButtonEl.classList.remove('colab-df-spinner');\n",
              "      quickchartButtonEl.classList.add('colab-df-quickchart-complete');\n",
              "    }\n",
              "    (() => {\n",
              "      let quickchartButtonEl =\n",
              "        document.querySelector('#df-a75e21a2-b5f1-479e-a807-c039f9849121 button');\n",
              "      quickchartButtonEl.style.display =\n",
              "        google.colab.kernel.accessAllowed ? 'block' : 'none';\n",
              "    })();\n",
              "  </script>\n",
              "</div>\n",
              "    </div>\n",
              "  </div>\n"
            ],
            "text/plain": [
              "   GGGrade  ind  Validation  Yearly_Income  Home_Status  Lend_Amount  \\\n",
              "0        1    1           2         383680            0        41040   \n",
              "1        4    2           1          61600            1        17100   \n",
              "2        2    3           1              0            0        25137   \n",
              "3        4    4           2         619520            0        41040   \n",
              "4        3    5           0         179520            2        30780   \n",
              "\n",
              "   Deprecatory_Records  Interest_Charged  Inquiries  Present_Balance  ...  \\\n",
              "0                    0              9.84          0          1434440  ...   \n",
              "1                    0             21.84          1            15999  ...   \n",
              "2                    1             18.44          2           155285  ...   \n",
              "3                    0             17.73          1           988491  ...   \n",
              "4                    1             17.89          0           325889  ...   \n",
              "\n",
              "   Reason  Due_Fee  Home0  Home1  Home2  Home3  Home4  Duration[3]  \\\n",
              "0       2      0.0      0      0      0      0      0            1   \n",
              "1       1      0.0      1      1      1      1      1            1   \n",
              "2       1      0.0      0      0      0      0      0            1   \n",
              "3       2      0.0      0      0      0      0      0            1   \n",
              "4       2      0.0      2      2      2      2      2            0   \n",
              "\n",
              "   Duration[5]  Default  \n",
              "0            1        1  \n",
              "1            1        0  \n",
              "2            1        0  \n",
              "3            1        1  \n",
              "4            0        0  \n",
              "\n",
              "[5 rows x 25 columns]"
            ]
          },
          "execution_count": 67,
          "metadata": {},
          "output_type": "execute_result"
        }
      ],
      "source": [
        "final_df.head()"
      ]
    },
    {
      "cell_type": "code",
      "execution_count": 68,
      "metadata": {
        "colab": {
          "base_uri": "https://localhost:8080/"
        },
        "id": "dplPVlpFBCob",
        "outputId": "9ad68be2-dfe9-4b48-e20f-644779a96bf6"
      },
      "outputs": [
        {
          "name": "stdout",
          "output_type": "stream",
          "text": [
            "train df: (61249, 25)\n",
            "test df:  (26249, 25)\n"
          ]
        }
      ],
      "source": [
        "# split train/test\n",
        "train_perc = 0.7 # percentage of training data\n",
        "split_point = int(train_perc*len(final_df))\n",
        "\n",
        "df_train = final_df.iloc[:split_point,:]\n",
        "df_test = final_df.iloc[split_point+1:,:]\n",
        "\n",
        "print(\"train df:\", df_train.shape)\n",
        "print(\"test df: \", df_test.shape)"
      ]
    },
    {
      "cell_type": "markdown",
      "metadata": {
        "id": "wPDoKZfcQQlz"
      },
      "source": [
        "## 04.02. Hierarchical Bayesian model"
      ]
    },
    {
      "cell_type": "markdown",
      "metadata": {
        "id": "kjLMzWw21-dQ"
      },
      "source": [
        "In this section, we are building a hierarchical bayesian model with all the selected attributes.\n",
        "\n",
        "![MCMC](MCMC.png)"
      ]
    },
    {
      "cell_type": "code",
      "execution_count": 69,
      "metadata": {
        "colab": {
          "base_uri": "https://localhost:8080/"
        },
        "id": "bqDqpn3bIk-5",
        "outputId": "af4dddde-9dc1-454a-9106-ec5ec9e87b8c"
      },
      "outputs": [
        {
          "name": "stdout",
          "output_type": "stream",
          "text": [
            "train x: (61249, 16), y: (61249,), ind: (61249,)\n",
            "test x: (26249, 16), y: (26249,), ind: (26249,)\n"
          ]
        }
      ],
      "source": [
        "# train\n",
        "mat_train = df_train.values\n",
        "X_train = mat_train[:,:-9]\n",
        "y_train = mat_train[:,-1].astype(\"int\")\n",
        "ind_train = mat_train[:,0].astype(\"int\")\n",
        "print(\"train x: {}, y: {}, ind: {}\".format(X_train.shape, y_train.shape, ind_train.shape))\n",
        "\n",
        "# test\n",
        "mat_test = df_test.values\n",
        "X_test = mat_test[:,:-9]\n",
        "y_test = mat_test[:,-1].astype(\"int\")\n",
        "ind_test = mat_test[:,0].astype(\"int\")\n",
        "print(\"test x: {}, y: {}, ind: {}\".format(X_test.shape, y_test.shape, ind_test.shape))"
      ]
    },
    {
      "cell_type": "code",
      "execution_count": 70,
      "metadata": {
        "id": "GXId51YEy_OK"
      },
      "outputs": [],
      "source": [
        "def hierarchical_model(X, ind, n_ind, obs=None):\n",
        "    input_dim = X.shape[1]\n",
        "\n",
        "    alpha_mu = pyro.sample(\"alpha_mu\", dist.Normal(0, 10.).to_event()) # Prior for the bias mean\n",
        "    alpha_sigma  = pyro.sample(\"alpha_sigma\",  dist.HalfCauchy(10.).to_event()) # Prior for the bias standard deviation\n",
        "\n",
        "    beta  = pyro.sample(\"beta\", dist.Normal(torch.zeros(input_dim), 10.*torch.ones(input_dim)).to_event())\n",
        "\n",
        "    with pyro.plate(\"ind\", n_ind):\n",
        "        alpha = pyro.sample(\"alpha\", dist.Normal(alpha_mu, alpha_sigma).to_event())\n",
        "\n",
        "    with pyro.plate(\"data\", X.shape[0]):\n",
        "        logits = alpha[ind] + X.matmul(beta)\n",
        "        y = pyro.sample(\"y\", dist.Bernoulli(logits=logits), obs=obs)\n",
        "\n",
        "    return y"
      ]
    },
    {
      "cell_type": "code",
      "execution_count": 71,
      "metadata": {
        "id": "ErZd19OkKDQT"
      },
      "outputs": [],
      "source": [
        "X_train = X_train.astype(np.float64)\n",
        "y_train = y_train.astype(np.int32)"
      ]
    },
    {
      "cell_type": "code",
      "execution_count": 72,
      "metadata": {
        "colab": {
          "base_uri": "https://localhost:8080/"
        },
        "id": "73-PlFGjKHbV",
        "outputId": "0ce00a28-270a-411b-95be-e73d329319e3"
      },
      "outputs": [
        {
          "data": {
            "text/plain": [
              "array([1.00000e+00, 1.00000e+00, 2.00000e+00, 3.83680e+05, 0.00000e+00,\n",
              "       4.10400e+04, 0.00000e+00, 9.84000e+00, 0.00000e+00, 1.43444e+06,\n",
              "       0.00000e+00, 1.10000e+01, 4.00000e+00, 3.00000e+00, 1.20594e+05,\n",
              "       2.00000e+00])"
            ]
          },
          "execution_count": 72,
          "metadata": {},
          "output_type": "execute_result"
        }
      ],
      "source": [
        "X_train[0]"
      ]
    },
    {
      "cell_type": "code",
      "execution_count": 73,
      "metadata": {
        "id": "t05uxOPOJwSl"
      },
      "outputs": [],
      "source": [
        "# Prepare data for Pyro model\n",
        "n_ind = ind_train.max()\n",
        "X_train = torch.tensor(X_train).float()\n",
        "y_train = torch.tensor(y_train).float()\n",
        "ind_train = torch.tensor(ind_train).long() # these are indices, therefore they need to be (long) integers"
      ]
    },
    {
      "cell_type": "code",
      "execution_count": 74,
      "metadata": {
        "colab": {
          "base_uri": "https://localhost:8080/"
        },
        "id": "R8hWAPjI7SKs",
        "outputId": "64c11aa4-2324-41a1-d8ab-ba1b934b6d90"
      },
      "outputs": [
        {
          "data": {
            "text/plain": [
              "(torch.Size([61249, 16]), 49)"
            ]
          },
          "execution_count": 74,
          "metadata": {},
          "output_type": "execute_result"
        }
      ],
      "source": [
        "X_train.shape, n_ind"
      ]
    },
    {
      "cell_type": "code",
      "execution_count": 75,
      "metadata": {
        "colab": {
          "base_uri": "https://localhost:8080/"
        },
        "id": "6ZmbDuNtLHFl",
        "outputId": "171d9741-a58d-4dcd-906a-37b0105de67d"
      },
      "outputs": [
        {
          "name": "stderr",
          "output_type": "stream",
          "text": [
            "Sample: 100%|██████████| 200/200 [13:34,  4.07s/it, step size=3.93e-10, acc. prob=0.785]"
          ]
        },
        {
          "name": "stdout",
          "output_type": "stream",
          "text": [
            "CPU times: user 13min 8s, sys: 1.89 s, total: 13min 10s\n",
            "Wall time: 13min 34s\n"
          ]
        },
        {
          "name": "stderr",
          "output_type": "stream",
          "text": [
            "\n"
          ]
        }
      ],
      "source": [
        "%%time\n",
        "\n",
        "nuts_kernel = NUTS(hierarchical_model)\n",
        "mcmc = MCMC(nuts_kernel, num_samples=500, warmup_steps=100, num_chains=1)\n",
        "mcmc.run(X_train, ind_train-1, n_ind, y_train)"
      ]
    },
    {
      "cell_type": "code",
      "execution_count": 76,
      "metadata": {
        "id": "1AIl6nvF56Iu"
      },
      "outputs": [],
      "source": [
        "samples = mcmc.get_samples()\n",
        "beta_samples = samples[\"beta\"].detach().numpy()\n",
        "alpha_samples = samples[\"alpha\"].detach().numpy()\n",
        "alpha_mu_samples = samples[\"alpha_mu\"].detach().numpy()\n",
        "alpha_sigma_samples = samples[\"alpha_sigma\"].detach().numpy()"
      ]
    },
    {
      "cell_type": "code",
      "execution_count": 77,
      "metadata": {
        "id": "Qy5hbD-69MOM"
      },
      "outputs": [],
      "source": [
        "# extract expected values of the parameters\n",
        "alpha_hat = samples[\"alpha\"].mean(axis=0).detach().numpy()\n",
        "beta_hat = samples[\"beta\"].mean(axis=0).detach().numpy()"
      ]
    },
    {
      "cell_type": "code",
      "execution_count": 78,
      "metadata": {
        "colab": {
          "base_uri": "https://localhost:8080/"
        },
        "id": "GhPEMeacUGV-",
        "outputId": "31b0382c-82a5-415f-d8e6-c294afe39a2f"
      },
      "outputs": [
        {
          "name": "stdout",
          "output_type": "stream",
          "text": [
            "predictions: [1 0 1 ... 0 0 1]\n",
            "true values: [0 0 0 ... 0 0 0]\n",
            "Accuracy: 0.6473389462455713\n"
          ]
        }
      ],
      "source": [
        "# make predictions for test set\n",
        "y_hat = alpha_hat[ind_test-1] + np.dot(X_test, beta_hat.T)\n",
        "y_hat = np.squeeze(y_hat)\n",
        "y_hat = (y_hat > 0).astype(int)\n",
        "\n",
        "print(\"predictions:\", y_hat)\n",
        "print(\"true values:\", y_test)\n",
        "\n",
        "# evaluate prediction accuracy\n",
        "acc_c_201 = 1.0*np.sum(y_hat == y_test) / len(y_test)\n",
        "accuracies.append(acc_c_201)\n",
        "print(\"Accuracy:\", acc_c_201)"
      ]
    },
    {
      "cell_type": "markdown",
      "metadata": {
        "id": "rXP9QLOFUh0L"
      },
      "source": [
        "## 04.03. Incorporating the Bins"
      ]
    },
    {
      "cell_type": "markdown",
      "metadata": {
        "id": "Mw23bgWM2UgD"
      },
      "source": [
        "The bins are incorporated in this model.\n",
        "\n",
        "![MCMC with Bins](MCMCwBins.png)"
      ]
    },
    {
      "cell_type": "code",
      "execution_count": 136,
      "metadata": {
        "colab": {
          "base_uri": "https://localhost:8080/"
        },
        "id": "idrYEBvXUh0X",
        "outputId": "90003fcd-4e85-46dd-dca2-d75d6c15d492"
      },
      "outputs": [
        {
          "name": "stdout",
          "output_type": "stream",
          "text": [
            "train x: (61249, 24), y: (61249,), ind: (61249,)\n",
            "test x: (26249, 24), y: (26249,), ind: (26249,)\n"
          ]
        }
      ],
      "source": [
        "# train\n",
        "mat_train = df_train.values\n",
        "X_train = mat_train[:,:-1]\n",
        "y_train = mat_train[:,-1].astype(\"int\")\n",
        "ind_train = mat_train[:,0].astype(\"int\")\n",
        "print(\"train x: {}, y: {}, ind: {}\".format(X_train.shape, y_train.shape, ind_train.shape))\n",
        "\n",
        "# test\n",
        "mat_test = df_test.values\n",
        "X_test = mat_test[:,:-1]\n",
        "y_test = mat_test[:,-1].astype(\"int\")\n",
        "ind_test = mat_test[:,0].astype(\"int\")\n",
        "print(\"test x: {}, y: {}, ind: {}\".format(X_test.shape, y_test.shape, ind_test.shape))"
      ]
    },
    {
      "cell_type": "code",
      "execution_count": 137,
      "metadata": {
        "id": "JW-GK-utUh0X"
      },
      "outputs": [],
      "source": [
        "def hierarchical_model(X, ind, n_ind, obs=None):\n",
        "    input_dim = X.shape[1]\n",
        "\n",
        "    alpha_mu = pyro.sample(\"alpha_mu\", dist.Normal(0, 10.).to_event()) # Prior for the bias mean\n",
        "    alpha_sigma  = pyro.sample(\"alpha_sigma\",  dist.HalfCauchy(10.).to_event()) # Prior for the bias standard deviation\n",
        "\n",
        "    beta  = pyro.sample(\"beta\", dist.Normal(torch.zeros(input_dim), 10.*torch.ones(input_dim)).to_event())\n",
        "\n",
        "    with pyro.plate(\"ind\", n_ind):\n",
        "        alpha = pyro.sample(\"alpha\", dist.Normal(alpha_mu, alpha_sigma).to_event())\n",
        "\n",
        "    with pyro.plate(\"data\", X.shape[0]):\n",
        "        logits = alpha[ind] + X.matmul(beta)\n",
        "        y = pyro.sample(\"y\", dist.Bernoulli(logits=logits), obs=obs)\n",
        "\n",
        "    return y"
      ]
    },
    {
      "cell_type": "code",
      "execution_count": 138,
      "metadata": {
        "id": "xtkxvMHIUh0X"
      },
      "outputs": [],
      "source": [
        "X_train = X_train.astype(np.float64)\n",
        "y_train = y_train.astype(np.int32)"
      ]
    },
    {
      "cell_type": "code",
      "execution_count": 139,
      "metadata": {
        "colab": {
          "base_uri": "https://localhost:8080/"
        },
        "id": "RcCZobsOUh0Z",
        "outputId": "636017c8-a36a-4972-a267-eae4d1bdb0ea"
      },
      "outputs": [
        {
          "data": {
            "text/plain": [
              "array([1.00000e+00, 1.00000e+00, 2.00000e+00, 3.83680e+05, 0.00000e+00,\n",
              "       4.10400e+04, 0.00000e+00, 9.84000e+00, 0.00000e+00, 1.43444e+06,\n",
              "       0.00000e+00, 1.10000e+01, 4.00000e+00, 3.00000e+00, 1.20594e+05,\n",
              "       2.00000e+00, 0.00000e+00, 0.00000e+00, 0.00000e+00, 0.00000e+00,\n",
              "       0.00000e+00, 0.00000e+00, 1.00000e+00, 1.00000e+00])"
            ]
          },
          "execution_count": 139,
          "metadata": {},
          "output_type": "execute_result"
        }
      ],
      "source": [
        "X_train[0]"
      ]
    },
    {
      "cell_type": "code",
      "execution_count": 140,
      "metadata": {
        "id": "PULMv9GQUh0a"
      },
      "outputs": [],
      "source": [
        "# Prepare data for Pyro model\n",
        "n_ind = ind_train.max()\n",
        "X_train = torch.tensor(X_train).float()\n",
        "y_train = torch.tensor(y_train).float()\n",
        "ind_train = torch.tensor(ind_train).long() # these are indices, therefore they need to be (long) integers"
      ]
    },
    {
      "cell_type": "code",
      "execution_count": 141,
      "metadata": {
        "colab": {
          "base_uri": "https://localhost:8080/"
        },
        "id": "5c5cQnd-Uh0a",
        "outputId": "cc7d19be-939f-4452-a145-03281fccf785"
      },
      "outputs": [
        {
          "data": {
            "text/plain": [
              "(torch.Size([61249, 24]), 7)"
            ]
          },
          "execution_count": 141,
          "metadata": {},
          "output_type": "execute_result"
        }
      ],
      "source": [
        "X_train.shape, n_ind"
      ]
    },
    {
      "cell_type": "code",
      "execution_count": 142,
      "metadata": {
        "colab": {
          "base_uri": "https://localhost:8080/"
        },
        "id": "D_pw3RKEUh0b",
        "outputId": "ea445c38-a74f-4728-8a65-c1c4c39e3a86"
      },
      "outputs": [
        {
          "name": "stderr",
          "output_type": "stream",
          "text": [
            "Sample: 100%|██████████| 600/600 [49:49,  4.98s/it, step size=1.67e-10, acc. prob=0.731]"
          ]
        },
        {
          "name": "stdout",
          "output_type": "stream",
          "text": [
            "CPU times: user 48min 32s, sys: 7.01 s, total: 48min 39s\n",
            "Wall time: 49min 49s\n"
          ]
        },
        {
          "name": "stderr",
          "output_type": "stream",
          "text": [
            "\n"
          ]
        }
      ],
      "source": [
        "%%time\n",
        "\n",
        "nuts_kernel = NUTS(hierarchical_model)\n",
        "mcmc = MCMC(nuts_kernel, num_samples=500, warmup_steps=100, num_chains=1)\n",
        "mcmc.run(X_train, ind_train-1, n_ind, y_train)"
      ]
    },
    {
      "cell_type": "code",
      "execution_count": 151,
      "metadata": {
        "id": "hWdhIQlhUh0b"
      },
      "outputs": [],
      "source": [
        "samples = mcmc.get_samples()\n",
        "beta_samples = samples[\"beta\"].detach().numpy()\n",
        "alpha_samples = samples[\"alpha\"].detach().numpy()\n",
        "alpha_mu_samples = samples[\"alpha_mu\"].detach().numpy()\n",
        "alpha_sigma_samples = samples[\"alpha_sigma\"].detach().numpy()"
      ]
    },
    {
      "cell_type": "code",
      "execution_count": null,
      "metadata": {
        "colab": {
          "base_uri": "https://localhost:8080/",
          "height": 867
        },
        "id": "kHmrPe26Uh0b",
        "outputId": "2271ec99-07fa-4dfb-c544-a83ee765c683"
      },
      "outputs": [
        {
          "name": "stderr",
          "output_type": "stream",
          "text": [
            "<ipython-input-121-b89e9b13d540>:1: UserWarning: \n",
            "\n",
            "`distplot` is a deprecated function and will be removed in seaborn v0.14.0.\n",
            "\n",
            "Please adapt your code to use either `displot` (a figure-level function with\n",
            "similar flexibility) or `histplot` (an axes-level function for histograms).\n",
            "\n",
            "For a guide to updating your code to use the new functions, please see\n",
            "https://gist.github.com/mwaskom/de44147ed2974457ad6372750bbe5751\n",
            "\n",
            "  sns.distplot(alpha_mu_samples)\n"
          ]
        },
        {
          "data": {
            "image/png": "[encoded data removed]",
            "text/plain": [
              "<Figure size 1200x800 with 1 Axes>"
            ]
          },
          "metadata": {},
          "output_type": "display_data"
        }
      ],
      "source": [
        "sns.distplot(alpha_mu_samples)\n",
        "plt.show()"
      ]
    },
    {
      "cell_type": "code",
      "execution_count": null,
      "metadata": {
        "colab": {
          "base_uri": "https://localhost:8080/",
          "height": 867
        },
        "id": "xnycJf5NUh0b",
        "outputId": "e288539f-4e56-49c1-9551-fe0e709d51f5"
      },
      "outputs": [
        {
          "name": "stderr",
          "output_type": "stream",
          "text": [
            "<ipython-input-122-94fc6457b447>:1: UserWarning: \n",
            "\n",
            "`distplot` is a deprecated function and will be removed in seaborn v0.14.0.\n",
            "\n",
            "Please adapt your code to use either `displot` (a figure-level function with\n",
            "similar flexibility) or `histplot` (an axes-level function for histograms).\n",
            "\n",
            "For a guide to updating your code to use the new functions, please see\n",
            "https://gist.github.com/mwaskom/de44147ed2974457ad6372750bbe5751\n",
            "\n",
            "  sns.distplot(alpha_sigma_samples)\n"
          ]
        },
        {
          "data": {
            "image/png": "[encoded data removed]",
            "text/plain": [
              "<Figure size 1200x800 with 1 Axes>"
            ]
          },
          "metadata": {},
          "output_type": "display_data"
        }
      ],
      "source": [
        "sns.distplot(alpha_sigma_samples)\n",
        "plt.show()"
      ]
    },
    {
      "cell_type": "code",
      "execution_count": 154,
      "metadata": {
        "id": "LIu8KNtkUh0c"
      },
      "outputs": [],
      "source": [
        "# extract expected values of the parameters\n",
        "alpha_hat = samples[\"alpha\"].mean(axis=0).detach().numpy()\n",
        "beta_hat = samples[\"beta\"].mean(axis=0).detach().numpy()"
      ]
    },
    {
      "cell_type": "code",
      "execution_count": 155,
      "metadata": {
        "colab": {
          "base_uri": "https://localhost:8080/"
        },
        "id": "2V5MAOWRUh0c",
        "outputId": "3ca7b0b6-46b1-4d8c-a95c-bf7551f96fa6"
      },
      "outputs": [
        {
          "name": "stdout",
          "output_type": "stream",
          "text": [
            "predictions: [0 0 0 ... 0 0 0]\n",
            "true values: [0 0 0 ... 0 0 0]\n",
            "Accuracy: 0.732904110632786\n"
          ]
        }
      ],
      "source": [
        "# make predictions for test set\n",
        "y_hat = alpha_hat[ind_test-1] + np.dot(X_test, beta_hat.T)\n",
        "y_hat = np.squeeze(y_hat)\n",
        "y_hat = (y_hat > 0).astype(int)\n",
        "\n",
        "print(\"predictions:\", y_hat)\n",
        "print(\"true values:\", y_test)\n",
        "\n",
        "# evaluate prediction accuracy\n",
        "acc_c_202 = 1.0*np.sum(y_hat == y_test) / len(y_test)\n",
        "accuracies.append(acc_c_202)\n",
        "print(\"Accuracy:\", acc_c_202)"
      ]
    },
    {
      "cell_type": "markdown",
      "metadata": {
        "id": "i2d9kr9u9aBP"
      },
      "source": [
        "## 05. Gradient Boosting Classifier model"
      ]
    },
    {
      "cell_type": "code",
      "execution_count": 121,
      "metadata": {
        "id": "m_dDxo5u5XBz"
      },
      "outputs": [],
      "source": [
        "import pandas as pd\n",
        "from sklearn.model_selection import train_test_split, cross_val_score\n",
        "from sklearn.ensemble import GradientBoostingClassifier\n",
        "from sklearn.metrics import classification_report, accuracy_score"
      ]
    },
    {
      "cell_type": "code",
      "execution_count": 156,
      "metadata": {
        "id": "OI7V-p0T5c7E"
      },
      "outputs": [],
      "source": [
        "# Load the dataset\n",
        "df = pd.read_csv('Data_Train_AllNumbers.csv')\n",
        "\n",
        "# Prepare the data\n",
        "X = df.drop('Default', axis=1)\n",
        "y = df['Default']\n",
        "\n",
        "# Split the dataset into training and validation sets\n",
        "X_train, X_val, y_train, y_val = train_test_split(X, y, test_size=0.2, random_state=42)"
      ]
    },
    {
      "cell_type": "code",
      "execution_count": 157,
      "metadata": {
        "colab": {
          "base_uri": "https://localhost:8080/",
          "height": 74
        },
        "id": "nDStVI4B6Bdh",
        "outputId": "c8c23d6b-4fb8-4d90-8a7d-b778c2f1f21c"
      },
      "outputs": [
        {
          "data": {
            "text/html": [
              "<style>#sk-container-id-2 {color: black;background-color: white;}#sk-container-id-2 pre{padding: 0;}#sk-container-id-2 div.sk-toggleable {background-color: white;}#sk-container-id-2 label.sk-toggleable__label {cursor: pointer;display: block;width: 100%;margin-bottom: 0;padding: 0.3em;box-sizing: border-box;text-align: center;}#sk-container-id-2 label.sk-toggleable__label-arrow:before {content: \"▸\";float: left;margin-right: 0.25em;color: #696969;}#sk-container-id-2 label.sk-toggleable__label-arrow:hover:before {color: black;}#sk-container-id-2 div.sk-estimator:hover label.sk-toggleable__label-arrow:before {color: black;}#sk-container-id-2 div.sk-toggleable__content {max-height: 0;max-width: 0;overflow: hidden;text-align: left;background-color: #f0f8ff;}#sk-container-id-2 div.sk-toggleable__content pre {margin: 0.2em;color: black;border-radius: 0.25em;background-color: #f0f8ff;}#sk-container-id-2 input.sk-toggleable__control:checked~div.sk-toggleable__content {max-height: 200px;max-width: 100%;overflow: auto;}#sk-container-id-2 input.sk-toggleable__control:checked~label.sk-toggleable__label-arrow:before {content: \"▾\";}#sk-container-id-2 div.sk-estimator input.sk-toggleable__control:checked~label.sk-toggleable__label {background-color: #d4ebff;}#sk-container-id-2 div.sk-label input.sk-toggleable__control:checked~label.sk-toggleable__label {background-color: #d4ebff;}#sk-container-id-2 input.sk-hidden--visually {border: 0;clip: rect(1px 1px 1px 1px);clip: rect(1px, 1px, 1px, 1px);height: 1px;margin: -1px;overflow: hidden;padding: 0;position: absolute;width: 1px;}#sk-container-id-2 div.sk-estimator {font-family: monospace;background-color: #f0f8ff;border: 1px dotted black;border-radius: 0.25em;box-sizing: border-box;margin-bottom: 0.5em;}#sk-container-id-2 div.sk-estimator:hover {background-color: #d4ebff;}#sk-container-id-2 div.sk-parallel-item::after {content: \"\";width: 100%;border-bottom: 1px solid gray;flex-grow: 1;}#sk-container-id-2 div.sk-label:hover label.sk-toggleable__label {background-color: #d4ebff;}#sk-container-id-2 div.sk-serial::before {content: \"\";position: absolute;border-left: 1px solid gray;box-sizing: border-box;top: 0;bottom: 0;left: 50%;z-index: 0;}#sk-container-id-2 div.sk-serial {display: flex;flex-direction: column;align-items: center;background-color: white;padding-right: 0.2em;padding-left: 0.2em;position: relative;}#sk-container-id-2 div.sk-item {position: relative;z-index: 1;}#sk-container-id-2 div.sk-parallel {display: flex;align-items: stretch;justify-content: center;background-color: white;position: relative;}#sk-container-id-2 div.sk-item::before, #sk-container-id-2 div.sk-parallel-item::before {content: \"\";position: absolute;border-left: 1px solid gray;box-sizing: border-box;top: 0;bottom: 0;left: 50%;z-index: -1;}#sk-container-id-2 div.sk-parallel-item {display: flex;flex-direction: column;z-index: 1;position: relative;background-color: white;}#sk-container-id-2 div.sk-parallel-item:first-child::after {align-self: flex-end;width: 50%;}#sk-container-id-2 div.sk-parallel-item:last-child::after {align-self: flex-start;width: 50%;}#sk-container-id-2 div.sk-parallel-item:only-child::after {width: 0;}#sk-container-id-2 div.sk-dashed-wrapped {border: 1px dashed gray;margin: 0 0.4em 0.5em 0.4em;box-sizing: border-box;padding-bottom: 0.4em;background-color: white;}#sk-container-id-2 div.sk-label label {font-family: monospace;font-weight: bold;display: inline-block;line-height: 1.2em;}#sk-container-id-2 div.sk-label-container {text-align: center;}#sk-container-id-2 div.sk-container {/* jupyter's `normalize.less` sets `[hidden] { display: none; }` but bootstrap.min.css set `[hidden] { display: none !important; }` so we also need the `!important` here to be able to override the default hidden behavior on the sphinx rendered scikit-learn.org. See: https://github.com/scikit-learn/scikit-learn/issues/21755 */display: inline-block !important;position: relative;}#sk-container-id-2 div.sk-text-repr-fallback {display: none;}</style><div id=\"sk-container-id-2\" class=\"sk-top-container\"><div class=\"sk-text-repr-fallback\"><pre>GradientBoostingClassifier(random_state=42)</pre><b>In a Jupyter environment, please rerun this cell to show the HTML representation or trust the notebook. <br />On GitHub, the HTML representation is unable to render, please try loading this page with nbviewer.org.</b></div><div class=\"sk-container\" hidden><div class=\"sk-item\"><div class=\"sk-estimator sk-toggleable\"><input class=\"sk-toggleable__control sk-hidden--visually\" id=\"sk-estimator-id-2\" type=\"checkbox\" checked><label for=\"sk-estimator-id-2\" class=\"sk-toggleable__label sk-toggleable__label-arrow\">GradientBoostingClassifier</label><div class=\"sk-toggleable__content\"><pre>GradientBoostingClassifier(random_state=42)</pre></div></div></div></div></div>"
            ],
            "text/plain": [
              "GradientBoostingClassifier(random_state=42)"
            ]
          },
          "execution_count": 157,
          "metadata": {},
          "output_type": "execute_result"
        }
      ],
      "source": [
        "# Train the Gradient Boosting Classifier\n",
        "gbm = GradientBoostingClassifier(n_estimators=100, learning_rate=0.1, max_depth=3, random_state=42)\n",
        "gbm.fit(X_train, y_train)"
      ]
    },
    {
      "cell_type": "code",
      "execution_count": 124,
      "metadata": {
        "colab": {
          "base_uri": "https://localhost:8080/"
        },
        "id": "1Os5TKGG5lUh",
        "outputId": "3bcb4e38-31ee-4bcc-f56b-ba8e126a608f"
      },
      "outputs": [
        {
          "name": "stdout",
          "output_type": "stream",
          "text": [
            "Validation Accuracy: 0.8110285714285714\n",
            "Cross-Validation Scores: [0.18925714 0.63011429 0.53822857 0.81125714 0.81124636]\n",
            "Average Cross-Validation Score: 0.596020699958365\n",
            "Classification Report:\n",
            "               precision    recall  f1-score   support\n",
            "\n",
            "           0       0.81      1.00      0.90     14195\n",
            "           1       0.25      0.00      0.00      3305\n",
            "\n",
            "    accuracy                           0.81     17500\n",
            "   macro avg       0.53      0.50      0.45     17500\n",
            "weighted avg       0.71      0.81      0.73     17500\n",
            "\n"
          ]
        }
      ],
      "source": [
        "# Validate the model using train-test split\n",
        "predictions = gbm.predict(X_val)\n",
        "accuracy = accuracy_score(y_val, predictions)\n",
        "print(f\"Validation Accuracy: {accuracy}\")\n",
        "acc_c_301 = accuracy\n",
        "\n",
        "# Evaluate the model using k-fold cross-validation\n",
        "scores = cross_val_score(gbm, X, y, cv=5, scoring='accuracy')\n",
        "print(f\"Cross-Validation Scores: {scores}\")\n",
        "print(f\"Average Cross-Validation Score: {scores.mean()}\")\n",
        "\n",
        "# Classification report\n",
        "report = classification_report(y_val, predictions)\n",
        "print(\"Classification Report:\\n\", report)"
      ]
    },
    {
      "cell_type": "markdown",
      "metadata": {
        "id": "e8MNWkdKgulP"
      },
      "source": [
        "# 06. Comparing Results"
      ]
    },
    {
      "cell_type": "code",
      "execution_count": 38,
      "metadata": {
        "id": "sdyHIA93uf6Y"
      },
      "outputs": [],
      "source": [
        "# reconstruct the list again, in case of multiple runs\n",
        "accuracies = []\n",
        "accuracies.append(acc_c_101)\n",
        "accuracies.append(acc_c_102)\n",
        "accuracies.append(acc_c_103)\n",
        "accuracies.append(acc_c_201)\n",
        "accuracies.append(acc_c_202)\n",
        "accuracies.append(acc_c_301)"
      ]
    },
    {
      "cell_type": "code",
      "execution_count": 39,
      "metadata": {
        "colab": {
          "base_uri": "https://localhost:8080/",
          "height": 690
        },
        "id": "PNQST2uIgtkp",
        "outputId": "55aed0e3-2d98-4e69-d63c-e3f767ef123a"
      },
      "outputs": [
        {
          "data": {
            "image/png": "[encoded data removed]",
            "text/plain": [
              "<Figure size 1200x800 with 1 Axes>"
            ]
          },
          "metadata": {},
          "output_type": "display_data"
        }
      ],
      "source": [
        "# plotting the accuracy of all the models\n",
        "fig = plt.figure()\n",
        "ax = fig.add_axes([0,0,1,1])\n",
        "labels = ['LogReg', 'LogReg w/ Bins', 'LogReg w/ Momentum', 'MCMC', 'MCMC w/ Bins', 'Gradient Boosting']\n",
        "ax.bar(labels, accuracies, color='purple', alpha=0.7)\n",
        "\n",
        "def add_value_labels(ax, spacing=5):\n",
        "    \"\"\"Add labels to the end of each bar in a bar chart.\"\"\"\n",
        "    for rect in ax.patches:\n",
        "        y_value = rect.get_height()\n",
        "        x_value = rect.get_x() + rect.get_width() / 2\n",
        "        space = spacing\n",
        "        va = 'bottom'\n",
        "        if y_value < 0:\n",
        "            # In case the bar chart is \"inverted\"\n",
        "            space *= -1\n",
        "            va = 'top'\n",
        "        label = \"{:.3f}\".format(y_value)\n",
        "        ax.annotate(label, (x_value, y_value),\n",
        "                    xytext=(0, space),\n",
        "                    textcoords=\"offset points\",\n",
        "                    ha='center', va=va)\n",
        "\n",
        "add_value_labels(ax)\n",
        "plt.show()"
      ]
    }
  ],
  "metadata": {
    "accelerator": "GPU",
    "colab": {
      "gpuType": "T4",
      "provenance": []
    },
    "kernelspec": {
      "display_name": "Python 3",
      "name": "python3"
    },
    "language_info": {
      "codemirror_mode": {
        "name": "ipython",
        "version": 3
      },
      "file_extension": ".py",
      "mimetype": "text/x-python",
      "name": "python",
      "nbconvert_exporter": "python",
      "pygments_lexer": "ipython3",
      "version": "3.10.9"
    }
  },
  "nbformat": 4,
  "nbformat_minor": 0
}
